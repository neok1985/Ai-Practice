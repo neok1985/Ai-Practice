{
 "cells": [
  {
   "cell_type": "markdown",
   "id": "466b178e",
   "metadata": {},
   "source": [
    "## Chap07. 모듈"
   ]
  },
  {
   "cell_type": "code",
   "execution_count": 1,
   "id": "a3f0421a",
   "metadata": {},
   "outputs": [
    {
     "name": "stdout",
     "output_type": "stream",
     "text": [
      "44\n",
      "43\n",
      "0.8414709848078965\n",
      "44\n"
     ]
    }
   ],
   "source": [
    "# 모듈을 프로그램에 삽입 import 모듈명\n",
    "import math\n",
    "\n",
    "print(math.ceil(43.2))#올림 정수 44\n",
    "print(math.floor(43.2))#내림 정수 43\n",
    "print(math.sin(1))\n",
    "print(round(43.6))"
   ]
  },
  {
   "cell_type": "code",
   "execution_count": 2,
   "id": "a1fbbfc3",
   "metadata": {},
   "outputs": [
    {
     "name": "stdout",
     "output_type": "stream",
     "text": [
      "44\n",
      "43\n",
      "0.8414709848078965\n",
      "44\n"
     ]
    }
   ],
   "source": [
    "# 모듈명이 길어서 약어로 축약해서 사용하고자 할 경우\n",
    "import math as m\n",
    "\n",
    "print(m.ceil(43.2))#올림 정수 44\n",
    "print(m.floor(43.2))#내림 정수 43\n",
    "print(m.sin(1))\n",
    "print(round(43.6))"
   ]
  },
  {
   "cell_type": "code",
   "execution_count": 4,
   "id": "506b82b8",
   "metadata": {},
   "outputs": [
    {
     "name": "stdout",
     "output_type": "stream",
     "text": [
      "#random 모듈\n",
      "-random(): 0.06257462056715546\n",
      "-unuform(10,20): 16.712114435436867\n",
      "-randrange(10): 0\n",
      "-choice([1,2,3,4,5]): 3\n",
      "-shuffle([1,2,3,4,5]): None\n",
      "-sample([1,2,3,4,5],k=2): [5, 3]\n"
     ]
    }
   ],
   "source": [
    "#random 모듈\n",
    "import random\n",
    "print('#random 모듈')#0.0<=x<1 사이의 float를 리턴합니다\n",
    "print('-random():',random.random())#지정한 범위 사이의 float를 리턴합니다\n",
    "print('-unuform(10,20):',random.uniform(10,20))#randrange():지정한 범위의 int를 리턴합니다\n",
    "#randrange(max):0부터 max 사이의 값을 리턴합니다.\n",
    "#randrange(min,max):min~max사이의 값을 리턴합니다\n",
    "print('-randrange(10):',random.randrange(10))\n",
    "print('-choice([1,2,3,4,5]):',random.choice([1,2,3,4,5]))\n",
    "print('-shuffle([1,2,3,4,5]):',random.shuffle([1,2,3,4,5]))\n",
    "print('-sample([1,2,3,4,5],k=2):',random.sample([1,2,3,4,5],k=2))"
   ]
  },
  {
   "cell_type": "code",
   "execution_count": 5,
   "id": "09a62a48",
   "metadata": {},
   "outputs": [
    {
     "name": "stdout",
     "output_type": "stream",
     "text": [
      "현재 운영체제: nt\n",
      "현재 폴더: C:\\Users\\HPE\\Desktop\\python_sic\n",
      "현재 폴더 리스트 ['.git', '.ipynb_checkpoints', '6.23 study note.ipynb', '6.24 study note.ipynb', '6.27 studynote.ipynb', '6.28 studynote.ipynb', '6_27homeworkHeechang.ipynb', 'dataset', 'day-3.ipynb', 'Day-4 module.ipynb', \"Hee's_cal.py\", 'Untitled.ipynb']\n"
     ]
    }
   ],
   "source": [
    "#OS모듈\n",
    "import os\n",
    "print('현재 운영체제:',os.name)\n",
    "print('현재 폴더:',os.getcwd())\n",
    "print('현재 폴더 리스트', os.listdir())"
   ]
  },
  {
   "cell_type": "code",
   "execution_count": 8,
   "id": "911403c4",
   "metadata": {},
   "outputs": [
    {
     "name": "stdout",
     "output_type": "stream",
     "text": [
      "현재 폴더 리스트: ['.git', '.ipynb_checkpoints', '6.23 study note.ipynb', '6.24 study note.ipynb', '6.27 studynote.ipynb', '6.28 studynote.ipynb', '6_27homeworkHeechang.ipynb', 'dataset', 'day-3.ipynb', 'Day-4 module.ipynb', \"Hee's_cal.py\", 'test_dir', 'Untitled.ipynb']\n"
     ]
    }
   ],
   "source": [
    "#디렉토리 생성 : mkdir()\n",
    "#디렉토리 삭제 : rmdir()->폴더가 비어있을때만 삭제가능\n",
    "#os.mkdir('test_dir')\n",
    "print('현재 폴더 리스트:',os.listdir())"
   ]
  },
  {
   "cell_type": "code",
   "execution_count": null,
   "id": "a152d5d3",
   "metadata": {},
   "outputs": [],
   "source": [
    "#파일 삭제 os.remove(파일명)\n"
   ]
  },
  {
   "cell_type": "code",
   "execution_count": null,
   "id": "e374a015",
   "metadata": {},
   "outputs": [],
   "source": [
    "#파일명 변경: os.rename(old_name,new_name)\n",
    "#os.rename('','')"
   ]
  },
  {
   "cell_type": "code",
   "execution_count": null,
   "id": "6d2ca89f",
   "metadata": {},
   "outputs": [],
   "source": [
    "#urllib 모듈: URL(Uniform Resorce Locator)\n",
    "from urllib import request\n",
    "target=request.urlopen('http://google.com')\n",
    "output=target.read()\n",
    "print(output)\n"
   ]
  },
  {
   "cell_type": "code",
   "execution_count": 13,
   "id": "494e7225",
   "metadata": {},
   "outputs": [
    {
     "ename": "NameError",
     "evalue": "name 'output' is not defined",
     "output_type": "error",
     "traceback": [
      "\u001b[1;31m---------------------------------------------------------------------------\u001b[0m",
      "\u001b[1;31mNameError\u001b[0m                                 Traceback (most recent call last)",
      "Input \u001b[1;32mIn [13]\u001b[0m, in \u001b[0;36m<cell line: 2>\u001b[1;34m()\u001b[0m\n\u001b[0;32m      1\u001b[0m \u001b[38;5;28;01mfrom\u001b[39;00m \u001b[38;5;21;01mbs4\u001b[39;00m \u001b[38;5;28;01mimport\u001b[39;00m BeautifulSoup\n\u001b[1;32m----> 2\u001b[0m soup\u001b[38;5;241m=\u001b[39mBeautifulSoup(\u001b[43moutput\u001b[49m,\u001b[38;5;124m'\u001b[39m\u001b[38;5;124mhtml.parser\u001b[39m\u001b[38;5;124m'\u001b[39m)\n\u001b[0;32m      3\u001b[0m soup\n",
      "\u001b[1;31mNameError\u001b[0m: name 'output' is not defined"
     ]
    }
   ],
   "source": [
    "from bs4 import BeautifulSoup\n",
    "soup=BeautifulSoup(output,'html.parser')\n",
    "soup"
   ]
  },
  {
   "cell_type": "code",
   "execution_count": null,
   "id": "c11f1129",
   "metadata": {},
   "outputs": [],
   "source": []
  },
  {
   "cell_type": "code",
   "execution_count": null,
   "id": "8fc88344",
   "metadata": {},
   "outputs": [],
   "source": []
  }
 ],
 "metadata": {
  "kernelspec": {
   "display_name": "Python 3 (ipykernel)",
   "language": "python",
   "name": "python3"
  },
  "language_info": {
   "codemirror_mode": {
    "name": "ipython",
    "version": 3
   },
   "file_extension": ".py",
   "mimetype": "text/x-python",
   "name": "python",
   "nbconvert_exporter": "python",
   "pygments_lexer": "ipython3",
   "version": "3.9.12"
  }
 },
 "nbformat": 4,
 "nbformat_minor": 5
}
