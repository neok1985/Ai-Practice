{
 "cells": [
  {
   "cell_type": "markdown",
   "id": "bd015a93",
   "metadata": {},
   "source": [
    "### chap. 04-2 딕셔너리와 반복문"
   ]
  },
  {
   "cell_type": "code",
   "execution_count": 1,
   "id": "a0c7a251",
   "metadata": {},
   "outputs": [
    {
     "name": "stdout",
     "output_type": "stream",
     "text": [
      "{'name': '홍길동', 'age': 30}\n",
      "<class 'dict'>\n"
     ]
    }
   ],
   "source": [
    "#딕셔너리 선언 : {키:값,...},리스트{값,...}\n",
    "dict_a={'name':'홍길동','age':30}\n",
    "print(dict_a)\n",
    "print(type(dict_a))"
   ]
  },
  {
   "cell_type": "code",
   "execution_count": 2,
   "id": "1352fa56",
   "metadata": {},
   "outputs": [
    {
     "data": {
      "text/plain": [
       "{'name': '홍길동', 'age': 30, 'title': '딕셔너리'}"
      ]
     },
     "execution_count": 2,
     "metadata": {},
     "output_type": "execute_result"
    }
   ],
   "source": [
    "#딕셔너리에 값 추가 / 제거하기 :디기셔너리[키]=값\n",
    "dict_a['title']='딕셔너리'\n",
    "dict_a"
   ]
  },
  {
   "cell_type": "code",
   "execution_count": 8,
   "id": "ffff97d0",
   "metadata": {},
   "outputs": [
    {
     "ename": "KeyError",
     "evalue": "'name'",
     "output_type": "error",
     "traceback": [
      "\u001b[1;31m---------------------------------------------------------------------------\u001b[0m",
      "\u001b[1;31mKeyError\u001b[0m                                  Traceback (most recent call last)",
      "Input \u001b[1;32mIn [8]\u001b[0m, in \u001b[0;36m<cell line: 2>\u001b[1;34m()\u001b[0m\n\u001b[0;32m      1\u001b[0m \u001b[38;5;66;03m#삭제는 del 딕셔너리[키]\u001b[39;00m\n\u001b[1;32m----> 2\u001b[0m \u001b[38;5;28;01mdel\u001b[39;00m dict_a[\u001b[38;5;124m'\u001b[39m\u001b[38;5;124mname\u001b[39m\u001b[38;5;124m'\u001b[39m]\n\u001b[0;32m      3\u001b[0m dict_a\n",
      "\u001b[1;31mKeyError\u001b[0m: 'name'"
     ]
    }
   ],
   "source": [
    "#삭제는 del 딕셔너리[키]\n",
    "del dict_a['name']\n",
    "dict_a"
   ]
  },
  {
   "cell_type": "code",
   "execution_count": 11,
   "id": "bb066661",
   "metadata": {},
   "outputs": [
    {
     "name": "stdout",
     "output_type": "stream",
     "text": [
      "이름을 입력하시오:왕희창\n",
      "성적을 입력하시오:100\n",
      "이름을 입력하시오:홍길동\n",
      "성적을 입력하시오:80\n",
      "이름을 입력하시오:john\n",
      "성적을 입력하시오:A\n",
      "이름을 입력하시오:q\n",
      "{'왕희창': '100', '홍길동': '80', 'john': 'A'}\n"
     ]
    }
   ],
   "source": [
    "#키보드에서 이름과 성적을 입력 받아 이름을 키로 성적을 값으로 딕셔너리에 저장\n",
    "#이름에 'q'가 입력되면 입력 종료\n",
    "#저장된 자료를 출력\n",
    "dict_s={}\n",
    "name=input('이름을 입력하시오:')\n",
    "#data=\n",
    "while True:\n",
    "    if name != 'q':\n",
    "        dict_s[name]=input('성적을 입력하시오:')\n",
    "        name=input('이름을 입력하시오:')\n",
    "    else:\n",
    "        print(dict_s)\n",
    "        break\n",
    "        "
   ]
  },
  {
   "cell_type": "code",
   "execution_count": 21,
   "id": "16c45c71",
   "metadata": {},
   "outputs": [
    {
     "name": "stdout",
     "output_type": "stream",
     "text": [
      "검색할 이름:홍길동\n",
      "검색한 홍길동의 성적은80입니다\n"
     ]
    }
   ],
   "source": [
    "#키가 존재하는지 확인 : key in 딕셔너리 -> 딕셔너리에 키에 key가 있는지 확인\n",
    "#검색하고자 하는 이름을 입력 받아 입력된 자료에 존재하면 이름과 성적 출력\n",
    "#존재하지 않으면 '존재하지 않는 이름' 이라고 출력\n",
    "ser_name=input('검색할 이름:')\n",
    "if ser_name in dict_s:\n",
    "    print(f'검색한 {ser_name}의 성적은{dict_s[ser_name]}입니다')\n",
    "else:\n",
    "    print(f'{ser_name}은(는) 존재하지 않는 이름입니다')"
   ]
  },
  {
   "cell_type": "code",
   "execution_count": 23,
   "id": "cbcca224",
   "metadata": {},
   "outputs": [
    {
     "name": "stdout",
     "output_type": "stream",
     "text": [
      "검색할 이름:ㅇㄹ\n",
      "ㅇㄹ은(는) 존재하지 않는 이름입니다\n"
     ]
    }
   ],
   "source": [
    "#키의 값이 있는지 확인하는 함수 : 딕셔너리.get(키)->값을 반환\n",
    "ser_name=input('검색할 이름:')\n",
    "value=dict_s.get(ser_name)\n",
    "if value:\n",
    "    print(f'검색한 {ser_name}의 성적은{value}입니다')\n",
    "    print(value)\n",
    "else:\n",
    "    print(f'{ser_name}은(는) 존재하지 않는 이름입니다')"
   ]
  },
  {
   "cell_type": "code",
   "execution_count": 25,
   "id": "184b36a2",
   "metadata": {},
   "outputs": [
    {
     "name": "stdout",
     "output_type": "stream",
     "text": [
      "왕희창 : 100\n",
      "홍길동 : 80\n",
      "john : A\n"
     ]
    }
   ],
   "source": [
    "#for 반복문과 같이 사용 : for key in dict:\n",
    "for key in dict_s:\n",
    "    print(f'{key} : {dict_s[key]}')"
   ]
  },
  {
   "cell_type": "code",
   "execution_count": 28,
   "id": "1b8c7469",
   "metadata": {},
   "outputs": [
    {
     "name": "stdout",
     "output_type": "stream",
     "text": [
      "왕희창 : 100\n",
      "홍길동 : 80\n",
      "john : A\n"
     ]
    }
   ],
   "source": [
    "#딕셔너리의 키와 값을 동시에 가져오는 함수: 딕셔너리.itmes()\n",
    "for a,b in dict_s.items():\n",
    "    print(f'{a} : {b}')"
   ]
  },
  {
   "cell_type": "code",
   "execution_count": 55,
   "id": "3ac6695c",
   "metadata": {},
   "outputs": [
    {
     "name": "stdout",
     "output_type": "stream",
     "text": [
      "이름을 입력해주세요:왕희창\n",
      "국어 영어 수학 성적을 입력해주세요:80 90 70\n",
      "이름을 입력해주세요:홍길동\n",
      "국어 영어 수학 성적을 입력해주세요:70 80 90\n",
      "이름을 입력해주세요:q\n",
      "입력 종료\n",
      "{'왕희창': [80, 90, 70], '홍길동': [70, 80, 90]}\n"
     ]
    }
   ],
   "source": [
    "#이름과 국어,영어,수학 성적을 입력 받아 딕셔너리에 저장한 후\n",
    "#students -> 이름,국어,영어,수학 성적,이름을 키로\n",
    "#학생별 성적의 총합,평균을 출력\n",
    "#전체 학생의 인원수,과목별 평균을 구하세요\n",
    "students={}\n",
    "\n",
    "name=input('이름을 입력해주세요:')\n",
    "while True:\n",
    "    if name == 'q':\n",
    "        print('입력 종료')\n",
    "        print(students)\n",
    "        break\n",
    "    data1=input('국어 영어 수학 성적을 입력해주세요:').split(' ')\n",
    "    data_list=[]\n",
    "    for i in data1:\n",
    "        data_list.append(int(i))\n",
    "    students[name]=data_list\n",
    "    \n",
    "    name=input('이름을 입력해주세요:')                       \n",
    "\n"
   ]
  },
  {
   "cell_type": "code",
   "execution_count": null,
   "id": "42ef2184",
   "metadata": {},
   "outputs": [],
   "source": [
    "#학생별 성적의 총합,평균을 출력 (국어 영어 수학)\n",
    "#전체 학생의 인원수,과목별 평균을 구하세요\n",
    "print(f')"
   ]
  },
  {
   "cell_type": "code",
   "execution_count": 56,
   "id": "d2df2802",
   "metadata": {},
   "outputs": [
    {
     "name": "stdout",
     "output_type": "stream",
     "text": [
      "2단=====\n",
      "2 X 1 = 2\t2 X 2 = 4\t2 X 3 = 6\n",
      "2 X 4 = 8\t2 X 5 = 10\t2 X 6 = 12\n",
      "2 X 7 = 14\t2 X 8 = 16\t2 X 9 = 18\n",
      "\n",
      "3단=====\n",
      "3 X 1 = 3\t3 X 2 = 6\t3 X 3 = 9\n",
      "3 X 4 = 12\t3 X 5 = 15\t3 X 6 = 18\n",
      "3 X 7 = 21\t3 X 8 = 24\t3 X 9 = 27\n",
      "\n",
      "4단=====\n",
      "4 X 1 = 4\t4 X 2 = 8\t4 X 3 = 12\n",
      "4 X 4 = 16\t4 X 5 = 20\t4 X 6 = 24\n",
      "4 X 7 = 28\t4 X 8 = 32\t4 X 9 = 36\n",
      "\n",
      "5단=====\n",
      "5 X 1 = 5\t5 X 2 = 10\t5 X 3 = 15\n",
      "5 X 4 = 20\t5 X 5 = 25\t5 X 6 = 30\n",
      "5 X 7 = 35\t5 X 8 = 40\t5 X 9 = 45\n",
      "\n",
      "6단=====\n",
      "6 X 1 = 6\t6 X 2 = 12\t6 X 3 = 18\n",
      "6 X 4 = 24\t6 X 5 = 30\t6 X 6 = 36\n",
      "6 X 7 = 42\t6 X 8 = 48\t6 X 9 = 54\n",
      "\n",
      "7단=====\n",
      "7 X 1 = 7\t7 X 2 = 14\t7 X 3 = 21\n",
      "7 X 4 = 28\t7 X 5 = 35\t7 X 6 = 42\n",
      "7 X 7 = 49\t7 X 8 = 56\t7 X 9 = 63\n",
      "\n",
      "8단=====\n",
      "8 X 1 = 8\t8 X 2 = 16\t8 X 3 = 24\n",
      "8 X 4 = 32\t8 X 5 = 40\t8 X 6 = 48\n",
      "8 X 7 = 56\t8 X 8 = 64\t8 X 9 = 72\n",
      "\n",
      "9단=====\n",
      "9 X 1 = 9\t9 X 2 = 18\t9 X 3 = 27\n",
      "9 X 4 = 36\t9 X 5 = 45\t9 X 6 = 54\n",
      "9 X 7 = 63\t9 X 8 = 72\t9 X 9 = 81\n",
      "\n",
      "end\n"
     ]
    }
   ],
   "source": [
    "#구구단 출력 range함수이용\n",
    "# list_9=[2,3,4,5,6,7,8,9]\n",
    "# list_num=[1,2,3,4,5,6,7,8,9]\n",
    "\n",
    "for dan in range(2,10):\n",
    "    print('{}단====='.format(dan))\n",
    "    cnt1=1\n",
    "    for num in range(1,10):\n",
    "        if cnt1<3 :\n",
    "            print('{} X {} = {}'.format(dan,num,(dan*num)),end='\\t')\n",
    "            cnt1 +=1\n",
    "        else :\n",
    "            print('{} X {} = {}'.format(dan,num,(dan*num)))\n",
    "            cnt1=1\n",
    "    print()\n",
    "        \n",
    "print('end')"
   ]
  },
  {
   "cell_type": "code",
   "execution_count": 63,
   "id": "6068a7b1",
   "metadata": {},
   "outputs": [
    {
     "name": "stdout",
     "output_type": "stream",
     "text": [
      "0\t5\t10\t15\t20\t25\t30\t35\t40\t45\t50\t55\t60\t65\t70\t75\t80\t85\t90\t95\t100\t"
     ]
    }
   ],
   "source": [
    "#0부터 100까지의 수 중에서 5의 배수만 출력\n",
    "for i5 in range(0,101):\n",
    "    if i5%5==0:\n",
    "        print(i5,end='\\t')"
   ]
  },
  {
   "cell_type": "code",
   "execution_count": 108,
   "id": "c3db8893",
   "metadata": {},
   "outputs": [
    {
     "name": "stdout",
     "output_type": "stream",
     "text": [
      "이름 입력 :왕희창\n",
      " 국어 영어 성적 입력 (ex : 90 80)90 70\n",
      "이름 입력 :홍길동\n",
      " 국어 영어 성적 입력 (ex : 90 80)60 90\n",
      "이름 입력 :딕셔너리\n",
      " 국어 영어 성적 입력 (ex : 90 80)70 50\n",
      "이름 입력 :q\n",
      "입력 종료 \n"
     ]
    },
    {
     "data": {
      "text/plain": [
       "{'왕희창': [90, 70], '홍길동': [60, 90], '딕셔너리': [70, 50]}"
      ]
     },
     "execution_count": 108,
     "metadata": {},
     "output_type": "execute_result"
    }
   ],
   "source": [
    "#1.키보드에서 이름을 입력 받아 'q'가 입력되면 입력 종료\n",
    "#국어 영어 점수를 입력받아 저장\n",
    "#입력 받은 점수의 갯수가 2가 아니라 숫자가 아니면 다시 입력\n",
    "#입력 종료 후 검색하고자 하는 이름을 입력 받아\n",
    "#2.검색된 이름의 성적과 총점,평균 출력\n",
    "#3.총 입력된 학생의 인원 수 출력\n",
    "#4.전체 학생의 성적의 합계를 기존의 자료에 추가\n",
    "#5.최고점을 받은 학생의 정보 출력\n",
    "students = {}\n",
    "while True:\n",
    "    name = input('이름 입력 :')\n",
    "    if name == 'q':\n",
    "        print(\"입력 종료 \")\n",
    "        break\n",
    "    scores = input(\" 국어 영어 성적 입력 (ex : 90 80)\").split()\n",
    "    if len(scores) !=2 :\n",
    "        continue\n",
    "    score_list = []\n",
    "    for score in scores:\n",
    "        score_list.append(int(score))\n",
    "    students[name] = score_list\n",
    "students   "
   ]
  },
  {
   "cell_type": "code",
   "execution_count": 109,
   "id": "400bf1ae",
   "metadata": {},
   "outputs": [
    {
     "name": "stdout",
     "output_type": "stream",
     "text": [
      "검색할 학생의 이름을 입력하시오:홍길동\n",
      "홍길동의 성적은[60, 90]입니다\n",
      "총점은 150이고 평균은75.0입니다\n"
     ]
    }
   ],
   "source": [
    "#2.검색된 이름의 성적과 총점,평균 출력\n",
    "#3.총 입력된 학생의 인원 수 출력\n",
    "#4.전체 학생의 성적의 합계를 기존의 자료에 추가\n",
    "#5.최고점을 받은 학생의 정보 출력\n",
    "#2.검색된 이름의 성적과 총점,평균 출력\n",
    "name_c=input('검색할 학생의 이름을 입력하시오:')\n",
    "if name_c in students:\n",
    "    sum1 = 0\n",
    "    for value in students.get(name_c):\n",
    "        sum1 += value\n",
    "    print(f'{name_c}의 성적은{students.get(name_c)}입니다')  \n",
    "    print(f'총점은 {sum1}이고 평균은{sum1/len(students.get(name_c))}입니다')\n",
    "else :\n",
    "    print('잘못된 입력입니다')"
   ]
  },
  {
   "cell_type": "code",
   "execution_count": 110,
   "id": "5be57ab1",
   "metadata": {},
   "outputs": [
    {
     "name": "stdout",
     "output_type": "stream",
     "text": [
      "{'왕희창': [90, 70, 160], '홍길동': [60, 90, 150], '딕셔너리': [70, 50, 120]}\n",
      "최고 점수는160이고 왕희창입니다\n",
      "[90, 70, 160]\n"
     ]
    }
   ],
   "source": [
    "#4.전체 학생의 성적의 합계를 기존의 자료에 추가\n",
    "# sum2=0\n",
    "peo=0\n",
    "for B in students.values():\n",
    "    sum2 = 0\n",
    "    for A in B:\n",
    "        sum2+=int(A)\n",
    "    B.append(sum2)\n",
    "    \n",
    "max_s=0\n",
    "max_name=''\n",
    "for A,B in students.items():\n",
    "    if max_s < B[2]:\n",
    "        max_s=B[2]\n",
    "        max_name=A\n",
    "print(students)\n",
    "print(f'최고 점수는{max_s}이고 {max_name}입니다')\n",
    "print(students[max_name])\n",
    "   "
   ]
  },
  {
   "cell_type": "code",
   "execution_count": 111,
   "id": "5a7451e9",
   "metadata": {},
   "outputs": [
    {
     "name": "stdout",
     "output_type": "stream",
     "text": [
      "5\n",
      "4\n",
      "3\n",
      "2\n",
      "1\n"
     ]
    }
   ],
   "source": [
    "#반대로 반복하기\n",
    "list_r=[1,2,3,4,5]\n",
    "for i in reversed(list_r):\n",
    "    print(i)"
   ]
  },
  {
   "cell_type": "code",
   "execution_count": 117,
   "id": "cd6dfff9",
   "metadata": {},
   "outputs": [
    {
     "name": "stdout",
     "output_type": "stream",
     "text": [
      "2\n",
      "4\n",
      "6\n",
      "[1, 1, 4, 6]\n"
     ]
    }
   ],
   "source": [
    "#while 반복문 \n",
    "list_test=[1,2,1,2]\n",
    "value=2\n",
    "while value in list_test:\n",
    "    list_test.remove(value)\n",
    "    list_test.append(int(input()))\n",
    "print(list_test)"
   ]
  },
  {
   "cell_type": "code",
   "execution_count": 124,
   "id": "be4847b6",
   "metadata": {},
   "outputs": [
    {
     "name": "stdout",
     "output_type": "stream",
     "text": [
      "세종시장직 인수위원회가 운영 실적이 저조하거나 여건 변화에 따라 필요성이\n",
      " 없어진 각종 위원회를 통폐합한다고 밝혔습니다.인수위 재정예산TF의 세종\n",
      "시 각종 위원회 설치 근거와 구성, 운영 실적 등에 대한 전수 조사 결과\n",
      " 현재 운영 중인 위원회는 243개, 위원 수는 4,875명으로 지난해 \n",
      "지급된 수당만 13억여원으로 나타났습니다.인수위는 지난 1년간 회의를 한\n",
      " 차례도 개최하지 않거나 운영 실적이 저조한 \"식물위원회\"가 다수라면서 \n",
      "조례와 법령 개정을 통해 일괄 정비할 계획입니다.또한, 세종시 지방보조금\n",
      " 사업에 대한 현황도 조사해 내역을 투명하게 공개하겠다고 말했습니다.지난\n",
      "해 기준 대전광역시 위원회 224개, 위원수 3,178명과 충남도 211\n",
      "개 위원회, 3,242명입니다."
     ]
    }
   ],
   "source": [
    "list_new='''세종시장직 인수위원회가 운영 실적이 저조하거나 여건 변화에 따라 필요성이 없어진 각종 위원회를 통폐합한다고 밝혔습니다.\n",
    "인수위 재정예산TF의 세종시 각종 위원회 설치 근거와 구성, 운영 실적 등에 대한 전수 조사 결과 현재 운영 중인 위원회는 243개, 위원 수는 4,875명으로 지난해 지급된 수당만 13억여원으로 나타났습니다.\n",
    "인수위는 지난 1년간 회의를 한 차례도 개최하지 않거나 운영 실적이 저조한 \"식물위원회\"가 다수라면서 조례와 법령 개정을 통해 일괄 정비할 계획입니다.\n",
    "또한, 세종시 지방보조금 사업에 대한 현황도 조사해 내역을 투명하게 공개하겠다고 말했습니다.\n",
    "지난해 기준 대전광역시 위원회 224개, 위원수 3,178명과 충남도 211개 위원회, 3,242명입니다.'''\n",
    "list_new=list(list_new)\n",
    "val1='\\n'\n",
    "val2='!'\n",
    "while val1 in list_new:\n",
    "    list_new.remove(val1)\n",
    "while val2 in list_new:\n",
    "    list_new.remove(val2)\n",
    "cnt2=1\n",
    "for i in list_new:\n",
    "    if cnt2<40:\n",
    "        print(i,end='')\n",
    "        cnt2+=1\n",
    "    else:\n",
    "        print(i)\n",
    "        cnt2=1"
   ]
  },
  {
   "cell_type": "code",
   "execution_count": null,
   "id": "0db3bfdf",
   "metadata": {},
   "outputs": [],
   "source": [
    "#python 의 데이터 타입: 문자,숫자,불리언\n",
    "#자료의 집합 : list ->[,...],dictionary->{키:값,...}\n",
    "#list[위치 인덱스], dict[키]\n",
    "#자료 추가-> list.append(요소),dict[키]=값\n",
    "#자료 수정-> list[위치인덱스]=값, dict[키]=값\n",
    "#자료 삭제-> list.pop(),list.remove(값),del list[위치인덱스]\n",
    "#del dict[키]\n",
    "\n",
    "#반복문(for)과 같이 사용\n",
    "#for value in list: ->리스트의 각 요소가 value로 저장됨\n",
    "#for key in dict: ->딕셔너리의 키가 key로 저장됨\n",
    "\n",
    "#for idx,value in enumerate(리스트)->위치(idx)와 값(value)이 저장됨\n",
    "#for key,value in dict.items()->키(key)와 값(value)이 저장됨\n",
    "#dict.get(키)->값이 반환됨\n",
    "#while True 조건인 경우 : 실행\n",
    "#반복문 탈출 키워드 -> break:반복문 탈출, continue:반복문 조건식으로 이동\n"
   ]
  },
  {
   "cell_type": "code",
   "execution_count": 127,
   "id": "20291cc6",
   "metadata": {},
   "outputs": [
    {
     "name": "stdout",
     "output_type": "stream",
     "text": [
      "2초동안 실행된 수는:4713482입니다\n"
     ]
    }
   ],
   "source": [
    "#time 모듈과 반복문 사용하기\n",
    "import time\n",
    "cnt3=0\n",
    "t_time=time.time()+1\n",
    "while time.time() < t_time:\n",
    "    cnt3+=1\n",
    "print(f'2초동안 실행된 수는:{cnt3}입니다')"
   ]
  },
  {
   "cell_type": "markdown",
   "id": "a470ca7f",
   "metadata": {},
   "source": [
    "### Chap4.4 문자열 리스트,딕셔너리와 관련된 기본 함수"
   ]
  },
  {
   "cell_type": "code",
   "execution_count": 128,
   "id": "256f0906",
   "metadata": {},
   "outputs": [
    {
     "name": "stdout",
     "output_type": "stream",
     "text": [
      "10\n",
      "50\n",
      "130\n"
     ]
    }
   ],
   "source": [
    "#min(),max(),sum()\n",
    "list_q=[10,30,40,50]\n",
    "print(min(list_q))\n",
    "print(max(list_q))\n",
    "print(sum(list_q))"
   ]
  },
  {
   "cell_type": "code",
   "execution_count": 129,
   "id": "9badda95",
   "metadata": {},
   "outputs": [
    {
     "name": "stdout",
     "output_type": "stream",
     "text": [
      "[0, 4, 16, 36, 64, 100, 144, 196, 256, 324]\n"
     ]
    },
    {
     "data": {
      "text/plain": [
       "[0, 4, 16, 36, 64, 100, 144, 196, 256, 324]"
      ]
     },
     "execution_count": 129,
     "metadata": {},
     "output_type": "execute_result"
    }
   ],
   "source": [
    "#반복문을 사용한 리스트 생성\n",
    "array=[]\n",
    "#반복문을 사용하여 리스트 데이터 추가\n",
    "for i in range(0,20,2):\n",
    "    array.append(i*i)\n",
    "print(array)\n",
    "\n",
    "#리스트 내포: 리스트 선언안에 for문장 사용\n",
    "#[ 표현식 for 반복자 in 반복할 수 있는 자료]\n",
    "array_1=[i*i for i in range(0,20,2)]\n",
    "array_1"
   ]
  },
  {
   "cell_type": "code",
   "execution_count": null,
   "id": "2d89df21",
   "metadata": {},
   "outputs": [],
   "source": [
    "#리스트 내포: 리스트 선언안에 for문장 사용,조건식과 같이 사용\n",
    "#표현식 for 반복자 in 반복할 수 있는 자료 if 조건문\n"
   ]
  },
  {
   "cell_type": "code",
   "execution_count": 130,
   "id": "dcd894fc",
   "metadata": {},
   "outputs": [
    {
     "name": "stdout",
     "output_type": "stream",
     "text": [
      "정수 입력50\n",
      "입력한 문자열은50입니다\n",
      "50는 짝수 입니다\n"
     ]
    }
   ],
   "source": [
    "#문장이 길어질 때 () 하나의 문장으로 인식\n",
    "number=int(input('정수 입력'))\n",
    "if number %2==0:\n",
    "    print('입력한 문자열은{}입니다\\n'\n",
    "         '{}는 짝수 입니다'\n",
    "    .format(number,number))"
   ]
  },
  {
   "cell_type": "code",
   "execution_count": 138,
   "id": "639e2fb0",
   "metadata": {},
   "outputs": [
    {
     "name": "stdout",
     "output_type": "stream",
     "text": [
      "세종시장직 인수위원회가 운영 실적이 저조하거나 여건 변화에 따라 필요성이 없어진 각종 위원회를 통폐합한다고 밝혔습니다.인수위 재정예산TF의 세종시 각종 위원회 설치 근거와 구성, 운영 실적 등에 대한 전수 조사 결과 현재 운영 중인 위원회는 243개, 위원 수는 4,875명으로 지난해 지급된 수당만 13억여원으로 나타났습니다.인수위는 지난 1년간 회의를 한 차례도 개최하지 않거나 운영 실적이 저조한 \"식물위원회\"가 다수라면서 조례와 법령 개정을 통해 일괄 정비할 계획입니다.또한, 세종시 지방보조금 사업에 대한 현황도 조사해 내역을 투명하게 공개하겠다고 말했습니다.지난해 기준 대전광역시 위원회 224개, 위원수 3,178명과 충남도 211개 위원회, 3,242명입니다.\n"
     ]
    }
   ],
   "source": [
    "#문자열.split()->space로 분리\n",
    "#리스트를 하나의 문자열로 전환\n",
    "# print(list_new)\n",
    "#리스트를 하나의 문자열로 연결 문자를 '-'\n",
    "join_str=''.join(list_new)\n",
    "print(join_str)"
   ]
  },
  {
   "cell_type": "code",
   "execution_count": 7,
   "id": "7a95d200",
   "metadata": {},
   "outputs": [
    {
     "ename": "TypeError",
     "evalue": "insert expected 2 arguments, got 3",
     "output_type": "error",
     "traceback": [
      "\u001b[1;31m---------------------------------------------------------------------------\u001b[0m",
      "\u001b[1;31mTypeError\u001b[0m                                 Traceback (most recent call last)",
      "Input \u001b[1;32mIn [7]\u001b[0m, in \u001b[0;36m<cell line: 4>\u001b[1;34m()\u001b[0m\n\u001b[0;32m      4\u001b[0m \u001b[38;5;28;01mfor\u001b[39;00m i \u001b[38;5;129;01min\u001b[39;00m list_p:\n\u001b[0;32m      5\u001b[0m     \u001b[38;5;28;01mif\u001b[39;00m \u001b[38;5;28mtype\u001b[39m(i)\u001b[38;5;241m==\u001b[39m\u001b[38;5;28mlist\u001b[39m:\n\u001b[1;32m----> 6\u001b[0m         \u001b[43mlist_p\u001b[49m\u001b[38;5;241;43m.\u001b[39;49m\u001b[43minsert\u001b[49m\u001b[43m(\u001b[49m\u001b[43mnum_q\u001b[49m\u001b[43m,\u001b[49m\u001b[38;5;241;43m*\u001b[39;49m\u001b[43mi\u001b[49m\u001b[43m)\u001b[49m\n\u001b[0;32m      7\u001b[0m         list_p\u001b[38;5;241m.\u001b[39mpop(num_q\u001b[38;5;241m+\u001b[39m\u001b[38;5;241m2\u001b[39m)\n\u001b[0;32m      8\u001b[0m         num_q\u001b[38;5;241m+\u001b[39m\u001b[38;5;241m=\u001b[39m\u001b[38;5;241m1\u001b[39m\n",
      "\u001b[1;31mTypeError\u001b[0m: insert expected 2 arguments, got 3"
     ]
    }
   ],
   "source": [
    "#2차원 리스트 평탄화\n",
    "list_p=[1,2,[3,4],5,[6,7],[8,9]]\n",
    "num_q=0\n",
    "for i in list_p:\n",
    "    if type(i)==list:\n",
    "        list_p.insert(num_q,i)\n",
    "        list_p.pop(num_q+2)\n",
    "        num_q+=1\n",
    "   \n",
    "        \n",
    "print(list_p)\n",
    "        "
   ]
  },
  {
   "cell_type": "code",
   "execution_count": null,
   "id": "fbd4814b",
   "metadata": {},
   "outputs": [],
   "source": []
  }
 ],
 "metadata": {
  "kernelspec": {
   "display_name": "Python 3 (ipykernel)",
   "language": "python",
   "name": "python3"
  },
  "language_info": {
   "codemirror_mode": {
    "name": "ipython",
    "version": 3
   },
   "file_extension": ".py",
   "mimetype": "text/x-python",
   "name": "python",
   "nbconvert_exporter": "python",
   "pygments_lexer": "ipython3",
   "version": "3.9.12"
  }
 },
 "nbformat": 4,
 "nbformat_minor": 5
}
