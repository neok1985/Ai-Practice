{
 "cells": [
  {
   "cell_type": "markdown",
   "id": "dbfb6805",
   "metadata": {},
   "source": [
    "### 150p확인문제"
   ]
  },
  {
   "cell_type": "code",
   "execution_count": null,
   "id": "8303c6a0",
   "metadata": {},
   "outputs": [],
   "source": [
    "#format 함수중에서 오류가 발생하는 경우\n",
    "'{}{}'.format(52,273)  \n",
    "'{}{}'.format(52,type(273)) \n",
    "'{}{}{}'.format(52,type(273)) -> 오류 발생\n",
    "'{}'.format(52,273)"
   ]
  },
  {
   "cell_type": "code",
   "execution_count": null,
   "id": "4e6271df",
   "metadata": {},
   "outputs": [],
   "source": [
    "#함수와 그 기능을 연결해 보세요\n",
    "split()-문자열을 특정 문자로 자릅니다\n",
    "upper()-문자열을 대문자로 변환합니다\n",
    "lower()-문자열을 소문자로 변환합니다\n",
    "strip()-문자열 양옆의 공백을 제거합니다"
   ]
  },
  {
   "cell_type": "code",
   "execution_count": null,
   "id": "68d5f06a",
   "metadata": {},
   "outputs": [],
   "source": [
    "#코드의 빈칸을 채워서 실행 결과를 출력해 보세요\n",
    "a=input('> 1번째 숫자:')\n",
    "b=input('> 2번째 숫자:')\n",
    "print()\n",
    "\n",
    "print('{} + {} = {}'.format(a,b,int(a)+int(b)))#a,b,int(a)+int(b)"
   ]
  },
  {
   "cell_type": "code",
   "execution_count": null,
   "id": "670b17ef",
   "metadata": {},
   "outputs": [],
   "source": [
    "#프로그램의 실행 결과를 예측해 보세요\n",
    "string ='hello'\n",
    "string.upper()\n",
    "print('A 지점:',string)#A 지점: hello\n",
    "print('B 지점:',string.upper())#B 지점: HELLO"
   ]
  },
  {
   "cell_type": "markdown",
   "id": "49b3cee5",
   "metadata": {},
   "source": [
    "### 152P 도전문제"
   ]
  },
  {
   "cell_type": "code",
   "execution_count": null,
   "id": "e3fd9639",
   "metadata": {},
   "outputs": [],
   "source": [
    "#구의 부피와 겉넓이를 구하는 프로그램 만들기\n",
    "radius=input('구의 반지름을 입력해주세요:')\n",
    "pi=3.141592\n",
    "volume=4/3*pi*(float(radius)**3)\n",
    "outer=4*pi*(float(radius)**2)\n",
    "print('구의 부피는{}입니다.'.format(volume))\n",
    "print('구의 겉넓이는 {}입니다.'.format(outer))"
   ]
  },
  {
   "cell_type": "code",
   "execution_count": null,
   "id": "78c00672",
   "metadata": {},
   "outputs": [],
   "source": [
    "#피타고라스의 정리\n",
    "a=int(input('밑변의 길이를 입력해주세요:'))\n",
    "b=int(input('높이의 길이를 입력해주세요:'))\n",
    "c=(a**2+b**2)**0.5\n",
    "print(f'빗변의 길이는{c}입니다.')"
   ]
  },
  {
   "cell_type": "markdown",
   "id": "f4c8b004",
   "metadata": {},
   "source": [
    "### 186P 확인문제"
   ]
  },
  {
   "cell_type": "code",
   "execution_count": null,
   "id": "a7ac786a",
   "metadata": {},
   "outputs": [],
   "source": [
    "#코드의 실행 결과를 예측해보기\n",
    "x=int(input())\n",
    "y=int(input())\n",
    "if x>4:\n",
    "    if y>2:\n",
    "        print(x*y)\n",
    "else:\n",
    "    print(x+y)\n",
    "    #x=2,y=10 -> 12\n",
    "    #x=1,y=4 -> 5\n",
    "    #x=10,y=2 -> 아무것도 출력되지 않음 두번째 if에 해당되지않으면 그후에 해야할  else 구문이 없어서 그런듯"
   ]
  },
  {
   "cell_type": "code",
   "execution_count": null,
   "id": "2138b5c6",
   "metadata": {},
   "outputs": [],
   "source": [
    "#중첩 조건문에 논리 연산자를 적용해 하나의 if 조건문으로 만들기\n",
    "x1=int(input())\n",
    "if x1>10:\n",
    "    if x1<20:\n",
    "        print('조건에 맞습니다')\n",
    "        \n",
    "if 20>x1>10:\n",
    "    print('조건에 맞습니다')"
   ]
  },
  {
   "cell_type": "code",
   "execution_count": null,
   "id": "df520f2a",
   "metadata": {},
   "outputs": [],
   "source": [
    "#태어난 연도를 입력받아 띠를 출력하는 프로그램을 작성하기\n",
    "str_input=int(input('태어난 연도를 입력해주세요> '))\n",
    "birth_year=str_input%12\n",
    "\n",
    "if birth_year==0:\n",
    "    print('원숭이 띠입니다')\n",
    "elif birth_year==1:\n",
    "    print('닭 띠입니다')\n",
    "elif birth_year==2:\n",
    "    print('개 띠입니다')\n",
    "elif birth_year==3:\n",
    "    print('돼지 띠입니다')\n",
    "elif birth_year==4:\n",
    "    print('쥐 띠입니다')\n",
    "elif birth_year==5:\n",
    "    print('소 띠입니다')\n",
    "elif birth_year==6:\n",
    "    print('범 띠입니다')\n",
    "elif birth_year==7:\n",
    "    print('토끼 띠입니다')\n",
    "elif birth_year==8:\n",
    "    print('용 띠입니다')\n",
    "elif birth_year==9:\n",
    "    print('뱀 띠입니다')\n",
    "elif birth_year==10:\n",
    "    print('말 띠입니다')\n",
    "elif birth_year==11:\n",
    "    print('양 띠입니다')   \n",
    " "
   ]
  },
  {
   "cell_type": "markdown",
   "id": "94573b8e",
   "metadata": {},
   "source": [
    "### 188P 도전문제"
   ]
  },
  {
   "cell_type": "code",
   "execution_count": null,
   "id": "3bb41d22",
   "metadata": {},
   "outputs": [],
   "source": [
    "#간단한 대화 프로그램\n",
    "\n",
    "from datetime import datetime\n",
    "today=datetime.now()\n",
    "text_input=input('입력:')\n",
    "if '안녕' in text_input:\n",
    "    print('안녕하세요')\n",
    "elif '몇 시' in text_input:\n",
    "    print('지금은 {}시 {}분입니다'.format(today.hour,today.minute))\n",
    "#     else:\n",
    "#         print(text_input)\n",
    "else:\n",
    "     print(text_input)"
   ]
  },
  {
   "cell_type": "code",
   "execution_count": null,
   "id": "4aa40ba2",
   "metadata": {},
   "outputs": [],
   "source": [
    "#나누어 떨어지는 숫자\n",
    "int_input=int(input('정수를 입력해주세요'))\n",
    "if int_input%2==0:\n",
    "    print(f'{int_input}은 2로 나누어 떨어지는 숫자입니다')\n",
    "else:\n",
    "    print(f'{int_input}은 2로 나누어 떨어지는 숫자가 아닙니다')\n",
    "if int_input%3==0:\n",
    "    print(f'{int_input}은 3로 나누어 떨어지는 숫자입니다')\n",
    "else:\n",
    "    print(f'{int_input}은 3로 나누어 떨어지는 숫자가 아닙니다')\n",
    "if int_input%4==0:\n",
    "    print(f'{int_input}은 4로 나누어 떨어지는 숫자입니다')\n",
    "else:\n",
    "    print(f'{int_input}은 4로 나누어 떨어지는 숫자가 아닙니다')\n",
    "if int_input%5==0:\n",
    "    print(f'{int_input}은 5로 나누어 떨어지는 숫자입니다')\n",
    "else:\n",
    "    print(f'{int_input}은 5로 나누어 떨어지는 숫자가 아닙니다')"
   ]
  },
  {
   "cell_type": "markdown",
   "id": "d3766f43",
   "metadata": {},
   "source": [
    "### 213P 확인문제"
   ]
  },
  {
   "cell_type": "code",
   "execution_count": 6,
   "id": "a71c3501",
   "metadata": {},
   "outputs": [
    {
     "name": "stdout",
     "output_type": "stream",
     "text": [
      "[0, 1, 2, 3, 4, 5, 6, 7]\n",
      "None\n",
      "None\n"
     ]
    }
   ],
   "source": [
    "##list_a=[0,1,2,3,4,5,6,7]을 다음함수들을 실행했을 때 결과가 어떻게 나오는지 확인해보세요\n",
    "list_b = [0,1,2,3,4,5,6,7]\n",
    "list_a = []\n",
    "print(list_b)\n",
    "list_a=list_b.insert(3,0)\n",
    "print(list_a)\n",
    "print(list_b.append(10))\n",
    "#print(list_b.insert(3,0))\n",
    "#print(list_b.remove(3))\n",
    "#print(list_b.pop(3))\n",
    "#print(list_b.clear())"
   ]
  },
  {
   "cell_type": "code",
   "execution_count": 7,
   "id": "ff4f8894",
   "metadata": {},
   "outputs": [
    {
     "name": "stdout",
     "output_type": "stream",
     "text": [
      " - 100 이상의 수: 273\n",
      " - 100 이상의 수: 103\n",
      " - 100 이상의 수: 800\n"
     ]
    }
   ],
   "source": [
    "#반복문 내부에 if 조건문의 조건식을 채워서 100이상의 숫자만 출력하게 만들기\n",
    "numbers=[273,103,5,32,65,9,72,800,99]\n",
    "for number in numbers:\n",
    "    if number > 100:\n",
    "        print(' - 100 이상의 수:',number)"
   ]
  },
  {
   "cell_type": "code",
   "execution_count": 30,
   "id": "20f5b3af",
   "metadata": {},
   "outputs": [
    {
     "name": "stdout",
     "output_type": "stream",
     "text": [
      "273는 홀수 입니다\n",
      "103는 홀수 입니다\n",
      "5는 홀수 입니다\n",
      "32는 짝수 입니다\n",
      "65는 홀수 입니다\n",
      "9는 홀수 입니다\n",
      "72는 짝수 입니다\n",
      "800는 짝수 입니다\n",
      "99는 홀수 입니다\n",
      "273는 3 자리수입니다\n",
      "103는 3 자리수입니다\n",
      "5는 1 자리수입니다\n",
      "32는 2 자리수입니다\n",
      "65는 2 자리수입니다\n",
      "9는 1 자리수입니다\n",
      "72는 2 자리수입니다\n",
      "800는 3 자리수입니다\n",
      "99는 2 자리수입니다\n"
     ]
    }
   ],
   "source": [
    "#실행결과가 나오게 프로그램 짜기\n",
    "numbers=[273,103,5,32,65,9,72,800,99]\n",
    "for i in numbers:\n",
    "    if i%2==0 :\n",
    "        print(f'{i}는 짝수 입니다')\n",
    "    else:\n",
    "        print(f'{i}는 홀수 입니다')\n",
    "        \n",
    "for i in numbers:\n",
    "    print(f'{i}는 {len(str(i))} 자리수입니다')"
   ]
  },
  {
   "cell_type": "code",
   "execution_count": 27,
   "id": "4c6a9860",
   "metadata": {},
   "outputs": [
    {
     "name": "stdout",
     "output_type": "stream",
     "text": [
      "[[1, 4, 7], [2, 5, 8], [3, 6, 9]]\n"
     ]
    }
   ],
   "source": [
    "#빈칸을 채워서 실행결과처럼 출력되도록 완성하시오\n",
    "numbersa = [1,2,3,4,5,6,7,8,9]\n",
    "output = [[],[],[]]\n",
    "for number in numbersa:\n",
    "    output[number%3-1].append(number)#number%3-1\n",
    "print(output)"
   ]
  },
  {
   "cell_type": "code",
   "execution_count": 17,
   "id": "7ca7c8a6",
   "metadata": {},
   "outputs": [
    {
     "name": "stdout",
     "output_type": "stream",
     "text": [
      "i = 0, j = 1\n",
      "i = 1, j = 3\n",
      "i = 2, j = 5\n",
      "i = 3, j = 7\n",
      "[1, 4, 3, 16, 5, 36, 7, 64, 9]\n"
     ]
    }
   ],
   "source": [
    "#다음 코드의 빈칸을 채워 완성하기\n",
    "numbersb = [1,2,3,4,5,6,7,8,9]\n",
    "for i in range(0,len(numbersb) // 2):\n",
    "    j=i*2+1#i*2+1\n",
    "    print(f'i = {i}, j = {j}')\n",
    "    numbersb[j] = numbersb[j]**2\n",
    "print(numbersb)\n",
    "    "
   ]
  }
 ],
 "metadata": {
  "kernelspec": {
   "display_name": "Python 3 (ipykernel)",
   "language": "python",
   "name": "python3"
  },
  "language_info": {
   "codemirror_mode": {
    "name": "ipython",
    "version": 3
   },
   "file_extension": ".py",
   "mimetype": "text/x-python",
   "name": "python",
   "nbconvert_exporter": "python",
   "pygments_lexer": "ipython3",
   "version": "3.9.12"
  }
 },
 "nbformat": 4,
 "nbformat_minor": 5
}
