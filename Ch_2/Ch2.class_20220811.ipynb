{
 "cells": [
  {
   "cell_type": "code",
   "execution_count": 1,
   "id": "043a923f",
   "metadata": {},
   "outputs": [],
   "source": [
    "import os\n",
    "import numpy as np\n",
    "import cv2\n",
    "import sys\n",
    "import matplotlib.pyplot as plt"
   ]
  },
  {
   "cell_type": "code",
   "execution_count": 7,
   "id": "e35c4cd5",
   "metadata": {},
   "outputs": [],
   "source": [
    "img_list=os.listdir('./fig/images/DesktopBackground/')\n",
    "# print(img_list)\n",
    "img_files=[]\n",
    "for i in img_list:\n",
    "    img_path='./fig/images/DesktopBackground/'+i\n",
    "    img_files.append(img_path)\n",
    "# img_list=glob.glob('./fig/images/DesktopBackground/*.jpg')\n",
    "cv2.namedWindow('image',cv2.WINDOW_NORMAL)\n",
    "# setWindowProperty(winname, prop_id, prop_value) -> None\n",
    "cv2.setWindowProperty('image',cv2.WND_PROP_FULLSCREEN,cv2.WINDOW_FULLSCREEN)\n",
    "idx=0\n",
    "while True:       \n",
    "    img=cv2.imread(img_files[idx])\n",
    "#     img_resize=cv2.resize(img,(640*2,480*2),interpolation=cv2.INTER_LINEAR)\n",
    "    if img is None:\n",
    "        print('image read failed')\n",
    "        break\n",
    "    cv2.imshow('image',img)\n",
    "    if cv2.waitKey(3500)==27:\n",
    "        break\n",
    "    idx+=1\n",
    "    if idx >=len(img_files):\n",
    "        idx=0\n",
    "cv2.destroyAllWindows()"
   ]
  },
  {
   "cell_type": "code",
   "execution_count": 9,
   "id": "af9e8074",
   "metadata": {},
   "outputs": [
    {
     "name": "stdout",
     "output_type": "stream",
     "text": [
      "<class 'numpy.ndarray'>\n",
      "image1 shape (480, 640, 3)\n",
      "image1 shape (480, 640)\n",
      "data type uint8\n",
      "480 640\n",
      "480 640\n"
     ]
    }
   ],
   "source": [
    "img1=cv2.imread('./fig/cat.bmp',cv2.IMREAD_COLOR)\n",
    "img2=cv2.imread('./fig/cat.bmp',cv2.IMREAD_GRAYSCALE)\n",
    "\n",
    "print(type(img1))\n",
    "print('image1 shape',img1.shape)\n",
    "print('image1 shape',img2.shape)\n",
    "print('data type',img1.dtype)\n",
    "\n",
    "h,w=img1.shape[:2]\n",
    "h1,w1=img2.shape\n",
    "print(h,w)\n",
    "print(h1,w1)\n",
    "# if img1 is None:\n",
    "#     print('image read failed')\n",
    "#     sys.exit()\n",
    "    \n",
    "# cv2.imshow('image1',img1)\n",
    "# cv2.imshow('image2',img2)\n",
    "# cv2.waitKey()\n",
    "# cv2.destroyAllWindows()"
   ]
  },
  {
   "cell_type": "code",
   "execution_count": 13,
   "id": "3ddcc645",
   "metadata": {},
   "outputs": [
    {
     "name": "stdout",
     "output_type": "stream",
     "text": [
      "[ 62 103 155]\n",
      "114\n"
     ]
    }
   ],
   "source": [
    "\n",
    "p1=img1[h//2,w//2]\n",
    "p2=img2[h//2,w//2]\n",
    "print(p1)\n",
    "print(p2)\n",
    "# cv2.imshow('image',img3)\n",
    "# cv2.waitKey()\n",
    "# cv2.destroyAllWindows()\n"
   ]
  },
  {
   "cell_type": "code",
   "execution_count": 11,
   "id": "e0cf2c04",
   "metadata": {},
   "outputs": [],
   "source": [
    "img4=np.zeros((400,600,3),dtype=np.uint8)#판넬 만들기((2,2))는 그레이색상 판넬로 만들어짐\n",
    "img5=np.ones((600,1200),np.uint8)*255\n",
    "img6=np.full((600,1200,3),(255,255,0),np.uint8)\n",
    "\n",
    "cv2.imshow('image4',img4)\n",
    "cv2.imshow('image5',img5)\n",
    "cv2.imshow('image6',img6)\n",
    "cv2.waitKey()\n",
    "cv2.destroyAllWindows()"
   ]
  },
  {
   "cell_type": "code",
   "execution_count": 15,
   "id": "aff3c2a6",
   "metadata": {},
   "outputs": [],
   "source": [
    "img=cv2.imread('./fig/puppy.bmp',cv2.IMREAD_COLOR)\n",
    "img1=img\n",
    "img2=img.copy()\n",
    "img2[200:300,240:400]=(0,0,255)\n",
    "cv2.imshow('image2',img2)\n",
    "cv2.imshow('image',img)\n",
    "cv2.waitKey()\n",
    "cv2.destroyAllWindows()"
   ]
  },
  {
   "cell_type": "code",
   "execution_count": 14,
   "id": "d701e4f8",
   "metadata": {},
   "outputs": [],
   "source": [
    "img=cv2.imread('./fig/puppy.bmp',cv2.IMREAD_COLOR)\n",
    "img1=img[200:400,300:500]\n",
    "img2=img[200:400,300:500].copy()\n",
    "# circle(img, center, radius, color[, thickness[, lineType[, shift]]]) -> img\n",
    "cv2.circle(img1,(100,100),50,(0,0,255),-1)\n",
    "cv2.imshow('img',img)\n",
    "cv2.imshow('img1',img1)\n",
    "cv2.imshow('img2',img2)\n",
    "cv2.waitKey()\n",
    "cv2.destroyAllWindows()"
   ]
  },
  {
   "cell_type": "code",
   "execution_count": 5,
   "id": "e5bf5ed0",
   "metadata": {},
   "outputs": [
    {
     "name": "stdout",
     "output_type": "stream",
     "text": [
      "(480, 640, 3)\n"
     ]
    }
   ],
   "source": [
    "img=cv2.imread('./fig/puppy.bmp',cv2.IMREAD_COLOR)\n",
    "print(img.shape)\n",
    "img2=img.copy()\n",
    "img2[150:250,200:500]=(0,0,0)\n",
    "\n",
    "cv2.imshow('img',img)\n",
    "# cv2.imshow('img1',img1)\n",
    "cv2.imshow('img2',img2)\n",
    "\n",
    "cv2.waitKey()\n",
    "cv2.imwrite('./puppy_heechang.jpg',img2)\n",
    "cv2.destroyAllWindows()"
   ]
  },
  {
   "cell_type": "code",
   "execution_count": null,
   "id": "a0f75d5d",
   "metadata": {},
   "outputs": [],
   "source": [
    "img=cv2.imread('./fig/cat.bmp',cv2.IMREAD_GRAYSCALE)\n",
    "if img is None:\n",
    "    print('image read failed')\n",
    "    sys.exit()\n",
    "cv2.namedWindow('image',cv2.WINDOW_NORMAL)\n",
    "cv2.imshow('image',img)\n",
    "while True:\n",
    "    key=cv2.waitkey()"
   ]
  },
  {
   "cell_type": "code",
   "execution_count": null,
   "id": "d4478d77",
   "metadata": {},
   "outputs": [],
   "source": []
  }
 ],
 "metadata": {
  "kernelspec": {
   "display_name": "Python 3 (ipykernel)",
   "language": "python",
   "name": "python3"
  },
  "language_info": {
   "codemirror_mode": {
    "name": "ipython",
    "version": 3
   },
   "file_extension": ".py",
   "mimetype": "text/x-python",
   "name": "python",
   "nbconvert_exporter": "python",
   "pygments_lexer": "ipython3",
   "version": "3.9.12"
  }
 },
 "nbformat": 4,
 "nbformat_minor": 5
}
