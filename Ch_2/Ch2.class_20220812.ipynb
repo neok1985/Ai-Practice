{
 "cells": [
  {
   "cell_type": "code",
   "execution_count": 1,
   "id": "9413329f",
   "metadata": {},
   "outputs": [],
   "source": [
    "import cv2\n",
    "import numpy as np\n",
    "import sys\n",
    "import glob\n"
   ]
  },
  {
   "cell_type": "markdown",
   "id": "9d235528",
   "metadata": {},
   "source": [
    "### glob을 사용하여 파일 경로가 포함된 이미지파일 경로 리스트를 얻을 수 있다"
   ]
  },
  {
   "cell_type": "code",
   "execution_count": 4,
   "id": "a7ad400e",
   "metadata": {},
   "outputs": [],
   "source": [
    "img_files=glob.glob('./fig/*.*')  #fig폴더의 모든 파일의 경로를 img_files에 리스트로 저장\n",
    "cv2.namedWindow('scene',cv2.WINDOW_NORMAL)\n",
    "cv2.setWindowProperty('scene',cv2.WND_PROP_FULLSCREEN,cv2.WINDOW_FULLSCREEN)  #해당 창을 전체화면으로 적용\n",
    "idx=0\n",
    "while True:\n",
    "    img=cv2.imread(img_files[idx]) #img_files에서 0번 부터 경로를 출력하고 imread로 해당 파일 읽어 오기\n",
    "    if img is None:\n",
    "        print('image read failed')\n",
    "        break\n",
    "    cv2.imshow('scene',img)  #읽어온 파일 출력하고 3초뒤에 idx에 1을 추가하며 while문 반복\n",
    "    if cv2.waitKey(3000)==27:   #아스키 코드 27 = esc키를 누르면 break로 while문 탈출\n",
    "        break\n",
    "    idx+=1\n",
    "    if idx>= len(img_files):\n",
    "        idx=0\n",
    "cv2.destroyAllWindows()    #모든 창 닫기"
   ]
  },
  {
   "cell_type": "code",
   "execution_count": 8,
   "id": "d57b0329",
   "metadata": {},
   "outputs": [],
   "source": [
    "img=cv2.imread('./fig/cat.bmp',cv2.IMREAD_COLOR)\n",
    "img1=img   #경로 만 복사하여 img1의 해상도를 변경하여 작업 가능 작업한 결과값이 img에 그대로 반영됨\n",
    "img2=img.copy()   #img파일의 데이터를 복사하여 새로운 img2로 만들기 img2작업한 결과 img에 반영 안됨\n",
    "cv2.circle(img,(100,100),50,(0,0,255),6,cv2.LINE_AA)  #circle 함수\n",
    "cv2.imshow('img',img)\n",
    "cv2.imshow('img1',img1)\n",
    "cv2.imshow('img2',img2)\n",
    "\n",
    "cv2.waitKey()\n",
    "cv2.destroyAllWindows()\n"
   ]
  },
  {
   "cell_type": "markdown",
   "id": "14c2db88",
   "metadata": {},
   "source": [
    "### 비행기 합성하기"
   ]
  },
  {
   "cell_type": "code",
   "execution_count": 5,
   "id": "cba99d83",
   "metadata": {},
   "outputs": [],
   "source": [
    "src=cv2.imread('./fig/airplane.bmp')\n",
    "mask=cv2.imread('./fig/mask_plane.bmp',0)\n",
    "dst=cv2.imread('./fig/field.bmp')\n",
    "\n",
    "if src is None or mask is None or dst is None:\n",
    "    print('image read failed')\n",
    "    sys.exit()\n",
    "    \n",
    "\n",
    "# cv2.copyTo(src,mask,dst)  #copyTo함수이용\n",
    "dst[mask>0]=src[mask>0]   #넘파이 사용\n",
    "# cv2.namedWindow('image')\n",
    "cv2.imshow('src',src)\n",
    "cv2.imshow('mask',mask)\n",
    "cv2.imshow('dst',dst)\n",
    "\n",
    "cv2.waitKey()\n",
    "cv2.destroyAllWindows()\n"
   ]
  },
  {
   "cell_type": "markdown",
   "id": "492e4cd7",
   "metadata": {},
   "source": [
    "### 이미지에서 마스크 추출하기"
   ]
  },
  {
   "cell_type": "code",
   "execution_count": 24,
   "id": "db457edf",
   "metadata": {},
   "outputs": [],
   "source": [
    "src=cv2.imread('./fig/cow.png')\n",
    "dst=cv2.imread('./fig/green.png')\n",
    "\n",
    "src_gray=cv2.cvtColor(src,cv2.COLOR_BGR2GRAY)  #흑백 이미지로 변경하기 그래야 마스크 추출이 가능\n",
    "\n",
    "# threshold(src, thresh, maxval, type[, dst]) -> retval, dst\n",
    "rev,mask=cv2.threshold(src_gray,240,255,cv2.THRESH_BINARY_INV)\n",
    "#240값보다 낮은 값을 255로 바꾸지만 cv2.THRESH_BINARY_INV로 리버스 출력값을 얻음\n",
    "#이미지의 테두리 모양은 255의 값으로 나머지는 0의 검은색으로 변경\n",
    "\n",
    "h,w=src.shape[:2]   #src이미지의 크기값을 구하기 위한 방법\n",
    "dst_resize=dst[400:400+h,300:300+w]  \n",
    "#dst이미지의 원본에서 src의 이미지 사이즈 크기만큼 추출 \n",
    "dst_resize=cv2.copyTo(src,mask,dst_resize)\n",
    "#동일한 사이즈의 dst_resize파일로 합성\n",
    "\n",
    "if src is None or mask is None or dst is None:\n",
    "    print('image read failed')\n",
    "    sys.exit()\n",
    "\n",
    "# cv2.imshow('dst',dst_resize)\n",
    "# cv2.imshow('src_gray',src_gray)\n",
    "# cv2.imshow('mask',mask)\n",
    "\n",
    "cv2.imshow('dst',dst)  \n",
    "#dst원본파일을 출력시 dst_resize에 적용된 부분이 똑같이 적용되어 있음\n",
    "\n",
    "cv2.waitKey()\n",
    "cv2.destroyAllWindows()\n"
   ]
  },
  {
   "cell_type": "markdown",
   "id": "ccaa1253",
   "metadata": {},
   "source": [
    "### 같은 사이즈의 이미지로 바꾸고 합성하기(알파채널포함 이미지)"
   ]
  },
  {
   "cell_type": "code",
   "execution_count": 30,
   "id": "92c45dbf",
   "metadata": {},
   "outputs": [],
   "source": [
    "src=cv2.imread('./fig/puppy.bmp')\n",
    "sunglass=cv2.imread('./fig/imgbin_sunglasses_1.png',cv2.IMREAD_UNCHANGED)\n",
    "h,w=sunglass.shape[:2]\n",
    "crop=src[120:120+150,220:220+300]\n",
    "#원본 src이미지에서 합성할 이미지와 같은 사이즈로 crop변수명으로 복사\n",
    "sunglass=cv2.resize(sunglass,(300,150))\n",
    "#선글라스 사진의 크기를 (300,150)으로 리사이즈\n",
    "mask=sunglass[:,:,-1]\n",
    "glass=sunglass[:,:,0:3]\n",
    "#알파채널포함된 이미지에서 mask와 이미지로 분리 [:,:,4]번째값이 알파채널 이미지 데이터\n",
    "# cv2.copyTo(glass,mask,crop)  #glass이미지를 mask이미지 만큼 crop 이미지에 합성 \n",
    "crop[mask>0]=(0,0,255) #crop이미지에 마스크 값부분을 (0,0,255)색으로 변경\n",
    "cv2.imshow('iamge',src)# cv2.imshow('sunglass',glass)\n",
    "cv2.imshow('crop',crop)\n",
    "# cv2.imshow('mask',mask)\n",
    "cv2.waitKey()\n",
    "cv2.destroyAllWindows()\n"
   ]
  },
  {
   "cell_type": "markdown",
   "id": "fc61c3fb",
   "metadata": {},
   "source": [
    "### 직접 해보기 과제(선착순1등 아아)"
   ]
  },
  {
   "cell_type": "code",
   "execution_count": 5,
   "id": "0d742af6",
   "metadata": {},
   "outputs": [],
   "source": [
    "src=cv2.imread('./fig/puppy2.png')\n",
    "hat=cv2.imread('./fig/imgbin_hat.png',cv2.IMREAD_UNCHANGED)\n",
    "hat=cv2.resize(hat,(350,300))\n",
    "mask_hat=hat[:,:,-1]\n",
    "hat1=hat[:,:,:3]\n",
    "crop=src[75:75+300,125:125+350]\n",
    "\n",
    "# cv2.copyTo(hat1,mask_hat,crop)\n",
    "# cv2.copyTo(hat1,mask_hat,src[75:75+300,125:125+350])\n",
    "cv2.imshow('crop',crop)\n",
    "cv2.imshow('src',src)\n",
    "\n",
    "# cv2.imshow('mask',mask_hat)\n",
    "# cv2.imshow('hat',hat1)\n",
    "# cv2.imwrite('./hatpuppy_heechang.jpg',src)\n",
    "cv2.waitKey()\n",
    "cv2.destroyAllWindows()"
   ]
  }
 ],
 "metadata": {
  "kernelspec": {
   "display_name": "Python 3 (ipykernel)",
   "language": "python",
   "name": "python3"
  },
  "language_info": {
   "codemirror_mode": {
    "name": "ipython",
    "version": 3
   },
   "file_extension": ".py",
   "mimetype": "text/x-python",
   "name": "python",
   "nbconvert_exporter": "python",
   "pygments_lexer": "ipython3",
   "version": "3.9.12"
  }
 },
 "nbformat": 4,
 "nbformat_minor": 5
}
