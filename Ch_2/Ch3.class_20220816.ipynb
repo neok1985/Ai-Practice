{
 "cells": [
  {
   "cell_type": "code",
   "execution_count": 1,
   "id": "e6d0cdf8",
   "metadata": {},
   "outputs": [],
   "source": [
    "import cv2\n",
    "import numpy as np\n",
    "import sys\n",
    "import glob\n",
    "import matplotlib.pyplot as plt"
   ]
  },
  {
   "cell_type": "markdown",
   "id": "264dff57",
   "metadata": {},
   "source": [
    "### 이미지에 선,사각형,원,타원,텍스트 넣기"
   ]
  },
  {
   "cell_type": "code",
   "execution_count": 29,
   "id": "75827538",
   "metadata": {},
   "outputs": [],
   "source": [
    "img=np.full((600,1200,3),(255,255,255),np.uint8)#600,1200 사이즈의 하얀 판넬 만들기\n",
    "# line(img, pt1, pt2, color[, thickness[, lineType[, shift]]]) -> img\n",
    "# rectangle(img, pt1, pt2, color[, thickness[, lineType[, shift]]]) -> img\n",
    "# circle(img, center, radius, color[, thickness[, lineType[, shift]]]) -> img\n",
    "# ellipse(img, center, axes, angle, startAngle, endAngle, color[, thickness[, lineType[, shift]]]) -> img\n",
    "#4가지 직선,사각,원형,타원형 함수 사용 형식\n",
    "\n",
    "cv2.line(img,(100,100),(300,100),(0,0,255),5,cv2.LINE_8)\n",
    "#(이미지,직선 시작 좌표,끝 좌표,직선의 색,직선의 굵기,직선모양)\n",
    "cv2.line(img,(300,100),(200,300),(0,0,255),10,cv2.LINE_AA)\n",
    "cv2.arrowedLine(img,(400,75),(400,350),(255,0,0),5,cv2.LINE_8)#화살표 직선\n",
    "cv2.rectangle(img,(150,400),(400,550),(0,0,255),5)\n",
    "#사각형 만들기 (이미지,사각형의 왼쪽상단 좌표,오른쪽 하단 좌표,사각형의 색,사각형둘레선 두께-1일시 사각형 안쪽 채우기)\n",
    "cv2.rectangle(img,(170,420,210,110),(0,0,255),-1)\n",
    "#사각형 만들기(이미지,사각형의 왼쪽상단 좌표+가로 길이 세로길이,사각형의 색,둘레선 두께 -1이라 안쪽 채워짐)\n",
    "cv2.circle(img,(600,170),100,(0,255,0),10,cv2.LINE_AA)\n",
    "#원만들기(이미지,원점좌표,반지름,원의 색,원 둘레 두께-1일시 안쪽 채워짐,선의 모양)\n",
    "cv2.ellipse(img,(600,170),(100,50),-20,0,270,(85,180,180),10,cv2.LINE_AA)\n",
    "#반원만들기(이미지,원점,휘는 축,휘는 각도,휘기 시작하는 시작각도,끝나는 각도,원의 색,두께,원의 선 모양)\n",
    "\n",
    "text='Open cv'+cv2.__version__\n",
    "# putText(img, text, org, fontFace, fontScale, color[, thickness[, lineType[, bottomLeftOrigin]]]) -> img\n",
    "cv2.putText(img,text,(700,500),cv2.FONT_HERSHEY_COMPLEX,2,(120,80,180),3,cv2.LINE_AA)\n",
    "#텍스트 삽입(이미지,텍스트내용,삽입될 좌표,폰트,폰트크기,폰트 색,폰트의 두께,글의 모양)\n",
    "cv2.imshow('image',img)\n",
    "\n",
    "cv2.waitKey()\n",
    "cv2.destroyAllWindows()"
   ]
  },
  {
   "cell_type": "markdown",
   "id": "0246af98",
   "metadata": {},
   "source": [
    "### 인삼글씨 쓰기"
   ]
  },
  {
   "cell_type": "code",
   "execution_count": 4,
   "id": "fdedf28b",
   "metadata": {},
   "outputs": [],
   "source": [
    "img=np.full((600,1200,3),(255,255,255),np.uint8)\n",
    "\n",
    "#인\n",
    "cv2.circle(img,(200,170),75,(120,80,180),7,cv2.LINE_AA)\n",
    "cv2.line(img,(350,100),(350,250),(120,80,180),7,cv2.LINE_8)\n",
    "cv2.line(img,(125,300),(125,400),(120,80,180),7,cv2.LINE_8)\n",
    "cv2.line(img,(125,400),(350,400),(120,80,180),7,cv2.LINE_8)\n",
    "#삼\n",
    "cv2.line(img,(500,100),(400,250),(120,80,180),7,cv2.LINE_8)\n",
    "cv2.line(img,(500,100),(600,250),(120,80,180),7,cv2.LINE_8)\n",
    "cv2.line(img,(650,100),(650,250),(120,80,180),7,cv2.LINE_8)\n",
    "cv2.line(img,(650,185),(700,185),(120,80,180),7,cv2.LINE_8)\n",
    "cv2.rectangle(img,(400,320),(650,400),(120,80,180),7)\n",
    "\n",
    "# cv2.line(img,(700,100),(700,250),(120,80,180),7,cv2.LINE_8)생\n",
    "# cv2.circle(img,(600,400),100,(120,80,180),7,cv2.LINE_AA)\n",
    "\n",
    "cv2.putText(img,'Ginseung',(700,500),cv2.FONT_HERSHEY_COMPLEX,2,(120,80,180),2,cv2.LINE_AA)\n",
    "#텍스트 \n",
    "\n",
    "cv2.imshow('image',img)\n",
    "# cv2.imwrite('./Ginseung_heechang.jpg',img)#이미지 파일로 내보내기\n",
    "cv2.waitKey()\n",
    "cv2.destroyAllWindows()"
   ]
  },
  {
   "cell_type": "code",
   "execution_count": null,
   "id": "6c635892",
   "metadata": {},
   "outputs": [],
   "source": [
    "### 웹캠으로 동영상 만들기"
   ]
  },
  {
   "cell_type": "code",
   "execution_count": null,
   "id": "8d3cee6d",
   "metadata": {},
   "outputs": [],
   "source": [
    "cap  = cv2.VideoCapture(0)\n",
    "# print(cap.isOpened()) 카메라가 연결되면 True값 반환\n",
    "if not cap.isOpened() :  # -> 캠 존재여부 확인 True 나오면 됨\n",
    "    print('camera open failed')\n",
    "    sys.exit()\n",
    "    \n",
    "w = int(cap.get(cv2.CAP_PROP_FRAME_WIDTH)) # -> 캠이 나오는 창 가로세로 길이\n",
    "h = int(cap.get(cv2.CAP_PROP_FRAME_HEIGHT))\n",
    "fps = int(cap.get(cv2.CAP_PROP_FPS)*0.7)\n",
    "# fourcc/동영상 저장방식\n",
    "fourcc = cv2.VideoWriter_fourcc(*'DIVX')\n",
    "#위4가지가 영상 저장시에 꼭 필요 w,h값은 직접 입력해도 상관없음 모든 값은 int로 입력해야 함\n",
    "\n",
    "# out = cv2.VideoWriter('edge_cvt.avi', fourcc, fps, (w,h))\n",
    "#저장되는 파일명,동영상 저장방식(코덱),초당 프레임수,저장되는 영상의 화면 크기\n",
    "    \n",
    "\n",
    "while True : \n",
    "    ret, frame = cap.read()#출력되는 값 2개 1.불리언리턴,2.카메라가 찍은 1프레임\n",
    "    \n",
    "    if not ret : #불리언 리턴값이 True가 아니라면 에러 메시지 표시후 break\n",
    "        print('frame read failed')\n",
    "        break\n",
    "#    white = cv2.cvtColor(frame, cv2.COLOR_BGR2GRAY) #흑백화면으로 변환\n",
    "    edge = cv2.Canny(frame,20,150)#edge선 따는 함수()\n",
    "    edge_cvt = cv2.cvtColor(edge, cv2.COLOR_GRAY2BGR)\n",
    "    #출력은 상관없으나 파일로 저장하기위해서는 같은 흑백이미지라도 BGR로 값을 변경해야한다.\n",
    "#    inverse = 255 - white  #색반전\n",
    "\n",
    "\n",
    "#     out.write(edge_cvt) # -> 저장할 영상 정보\n",
    "    \n",
    "#    cv2.imshow('image', frame)\n",
    "    cv2.imshow('edge_cvt', edge_cvt)\n",
    "#    cv2.imshow('edge', edge)\n",
    "#    cv2.imshow('white', white)\n",
    "#    cv2.imshow('inverse', inverse)\n",
    "    \n",
    "    if cv2.waitKey(20) == 27 :#20ms마다 종료시키면서 새로운 카메라 이미지를 불러옴으로써 사진이 아닌 영상처럼 보임\n",
    "        break\n",
    "out.release()        \n",
    "cap.release()\n",
    "cv2.destroyAllWindows()"
   ]
  }
 ],
 "metadata": {
  "kernelspec": {
   "display_name": "Python 3 (ipykernel)",
   "language": "python",
   "name": "python3"
  },
  "language_info": {
   "codemirror_mode": {
    "name": "ipython",
    "version": 3
   },
   "file_extension": ".py",
   "mimetype": "text/x-python",
   "name": "python",
   "nbconvert_exporter": "python",
   "pygments_lexer": "ipython3",
   "version": "3.9.12"
  }
 },
 "nbformat": 4,
 "nbformat_minor": 5
}
