{
 "cells": [
  {
   "cell_type": "code",
   "execution_count": 16,
   "id": "58140b63",
   "metadata": {},
   "outputs": [],
   "source": [
    "import cv2\n",
    "import numpy as np\n",
    "import sys\n",
    "import glob\n",
    "import matplotlib.pyplot as plt\n"
   ]
  },
  {
   "cell_type": "markdown",
   "id": "92c4007f",
   "metadata": {},
   "source": [
    "### 출력중인 동영상을 i,f키를 입력시 엣지,좌우반전효과 적용되게 만들기"
   ]
  },
  {
   "cell_type": "code",
   "execution_count": 17,
   "id": "218ef653",
   "metadata": {},
   "outputs": [],
   "source": [
    "cap=cv2.VideoCapture(0)#카메라 캡쳐 불러오기\n",
    "if not cap.isOpened():#카메라 작동하지 않으면 에러메시지 출력후 종료하기\n",
    "    print('camera open failed')\n",
    "    sys.exit()\n",
    "\n",
    "f_flag=False#flag키 값을 False불리언으로 정해두기\n",
    "i_flag=False\n",
    "while True:\n",
    "    ret,frame=cap.read()#ret 불리언 값과 frame으로 카메라로 촬영한 이미지 저장\n",
    "    if not ret:\n",
    "        print('frame open failed')\n",
    "        break\n",
    "    if f_flag:#위에 지정한 f_flag값이 True가 되면 프레임 이미지를 좌우 반전 하는 함수 적용\n",
    "        frame=cv2.flip(frame,1)\n",
    "    if i_flag:#위에 지정한 i_flag값이 True가 되면 프레임 이미지를 엣지 효과 처리\n",
    "        frame=cv2.Canny(frame,50,150)    \n",
    "    cv2.imshow('image',frame)\n",
    "    key=cv2.waitKey(20)\n",
    "    if key==27:\n",
    "        break\n",
    "    elif key==ord('f'):#f키를 입력하면 f_flag의 불리언 값을 기존에 값 반대로 저장하기 고로 False가 True가 되며 위에 if문 작동\n",
    "        f_flag=not f_flag\n",
    "    elif key==ord('i'):\n",
    "        i_flag=not i_flag\n",
    "    \n",
    "cap.release()\n",
    "cv2.destroyAllWindows()"
   ]
  },
  {
   "cell_type": "markdown",
   "id": "8303568c",
   "metadata": {},
   "source": [
    "### 키 입력으로 다양한 작동하게 만들기"
   ]
  },
  {
   "cell_type": "code",
   "execution_count": 3,
   "id": "36d208a9",
   "metadata": {},
   "outputs": [],
   "source": [
    "img=cv2.imread('./fig/puppy.bmp',cv2.IMREAD_GRAYSCALE)\n",
    "img1=img.copy()\n",
    "if img is None:\n",
    "    print('failed')\n",
    "    sys.exit()\n",
    "cv2.imshow('image',img)\n",
    "while True:\n",
    "    key=cv2.waitKey()\n",
    "    if key==ord('i'):\n",
    "        img=255-img\n",
    "        cv2.imshow('image',img)\n",
    "    elif key==ord('e'):\n",
    "        img=cv2.Canny(img,50,150)\n",
    "        cv2.imshow('image',img)\n",
    "    elif key==ord('r'):\n",
    "        img=img1.copy()\n",
    "        cv2.imshow('image',img)\n",
    "    elif key==ord('s'):\n",
    "        cv2.imwrite('./imagesafe.jpg',img)    \n",
    "    \n",
    "    elif key==27:\n",
    "        break\n",
    "\n",
    "\n",
    "cv2.waitKey()\n",
    "cv2.destroyAllWindows()"
   ]
  },
  {
   "cell_type": "code",
   "execution_count": null,
   "id": "dc5f3d17",
   "metadata": {},
   "outputs": [],
   "source": [
    "# cv2.setMouseCallback(windowName, onMouse, param = None) -> None\n",
    "    # windowName: 마우스이벤트를 수행할 창 이름\n",
    "    # onMouse: 마우스 이벤트 콜벡함수\n",
    "    # param: 콜백함수에 전달할 데이터\n",
    "\n",
    "# onMouse(event, x, y, flags, param) -> None\n",
    "# event: 마우스 이벤트 종류 e.g., cv2.EVENT_LBUTTONDOWN\n",
    "# x, y : 창을 기준으로 이벤트 발생좌표\n",
    "# flags: 이벤트시 발생 상태 e.g., \"ctrl\"\n",
    "# param: cv2.setMouseCallback()함수에서 설정한 데이터\n",
    "\n",
    "# 마우스 event와 flags reference\n",
    "# docs/opencv.org/master -> MouseEventTypes cv, MouseEventFlags cv"
   ]
  },
  {
   "cell_type": "code",
   "execution_count": 5,
   "id": "deec88ca",
   "metadata": {},
   "outputs": [],
   "source": [
    "img=np.ones((480,640,3),np.uint8)*255\n",
    "cv2.namedWindow('image')\n",
    "oldx = oldy = -1\n",
    "def call_mouse(event,x,y,flags,param):\n",
    "    global oldx, oldy\n",
    "    if event==cv2.EVENT_LBUTTONDOWN:\n",
    "             oldx, oldy = x, y\n",
    "#     elif event==cv2.EVENT_LBUTTONUP:\n",
    "#         print('MLB UP:',x,y)\n",
    "    elif event==cv2.EVENT_MOUSEMOVE:\n",
    "        if flags & cv2.EVENT_FLAG_LBUTTON:\n",
    "            cv2.line(img,(oldx,oldy),(x,y),(0,0,0),5,cv2.LINE_AA)\n",
    "            cv2.imshow('image',img)\n",
    "            oldx, oldy = x, y\n",
    "\n",
    "\n",
    "# setMouseCallback(windowName, onMouse [, param]) -> None  마우스가 활성화되는 창,콜벡함수받는 변수,이미지\n",
    "cv2.setMouseCallback('image',call_mouse,img)\n",
    "cv2.imshow('image',img)\n",
    "\n",
    "\n",
    "cv2.waitKey()\n",
    "cv2.destroyAllWindows()"
   ]
  },
  {
   "cell_type": "code",
   "execution_count": null,
   "id": "94006b60",
   "metadata": {},
   "outputs": [],
   "source": [
    "# createTrackbar(trackbarName, windowName, value, count, onChange) -> None\n",
    "# trackbarName: 트랙바 이름\n",
    "# windowName : 트랙바를 생성할 창 이름\n",
    "# value : 트랙바 위치 초기값\n",
    "# count : 트랙바 최댓값, 최솟값은 0\n",
    "# onChange :callback 함수 e.g., onChange(pos) 위치를 정수형태로 전달"
   ]
  },
  {
   "cell_type": "code",
   "execution_count": 11,
   "id": "199ad5f4",
   "metadata": {},
   "outputs": [],
   "source": [
    "def call_trackbar(pos):\n",
    "    img=np.round(img1*(pos/255),0).astype(np.uint8)\n",
    "    cv2.imshow('image',img)\n",
    "\n",
    "img=cv2.imread('./hatpuppy_heechang.jpg',cv2.IMREAD_GRAYSCALE)\n",
    "img1=img.copy()\n",
    "cv2.imshow('image',img)\n",
    "cv2.createTrackbar('Level','image',0,255,call_trackbar)\n",
    "\n",
    "cv2.waitKey()\n",
    "cv2.destroyAllWindows()"
   ]
  }
 ],
 "metadata": {
  "kernelspec": {
   "display_name": "Python 3 (ipykernel)",
   "language": "python",
   "name": "python3"
  },
  "language_info": {
   "codemirror_mode": {
    "name": "ipython",
    "version": 3
   },
   "file_extension": ".py",
   "mimetype": "text/x-python",
   "name": "python",
   "nbconvert_exporter": "python",
   "pygments_lexer": "ipython3",
   "version": "3.9.12"
  }
 },
 "nbformat": 4,
 "nbformat_minor": 5
}
