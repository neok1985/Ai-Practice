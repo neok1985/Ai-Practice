{
 "cells": [
  {
   "cell_type": "markdown",
   "id": "0793ae1f",
   "metadata": {},
   "source": [
    "## OpenCV DNN 얼굴검출"
   ]
  },
  {
   "cell_type": "code",
   "execution_count": 1,
   "id": "5b8109aa",
   "metadata": {},
   "outputs": [],
   "source": [
    "import numpy as np\n",
    "import sys\n",
    "import cv2\n"
   ]
  },
  {
   "cell_type": "code",
   "execution_count": 17,
   "id": "2b813f5d",
   "metadata": {},
   "outputs": [],
   "source": [
    "# img=cv2.imread('./fig/face.png',cv2.IMREAD_REDUCED_COLOR_2)\n",
    "model='./opencv_face_detector_uint8.pb'\n",
    "config='./opencv_face_detector.pbtxt.txt'\n",
    "\n",
    "face_net=cv2.dnn.readNet(model,config)\n",
    "\n",
    "\n",
    "cap=cv2.VideoCapture(0)\n",
    "if not cap.isOpened():\n",
    "    print('video open failed')\n",
    "    sys.exit()\n",
    "\n",
    "# w=int(cap.get(cv2.CAP_PROP_FRAME_WIDTH))\n",
    "# h=int(cap.get(cv2.CAP_PROP_FRAME_HEIGHT))\n",
    "# fps=int(cap.get(cv2.CAP_PROP_FPS)*0.8)\n",
    "# foucc=cv2.VideoWriter_fourcc(*'DIVX')\n",
    "    \n",
    "while True:\n",
    "    ret,frame=cap.read()\n",
    "    if not ret:\n",
    "        print('frame read failed')\n",
    "        break\n",
    "    blob = cv2.dnn.blobFromImage(frame, 1, (300, 300), (104, 177, 123),swapRB=False)\n",
    "    face_net.setInput(blob)\n",
    "    out=face_net.forward()\n",
    "\n",
    "    detect=out[0,0,:,:]\n",
    "\n",
    "    h,w=frame.shape[:2]\n",
    "    for i in range(detect.shape[0]):\n",
    "        confidence=detect[i,2]\n",
    "        if confidence > 0.5:\n",
    "            x1=int(detect[i,3]*w)\n",
    "            y1=int(detect[i,4]*h)\n",
    "            x2=int(detect[i,5]*w)\n",
    "            y2=int(detect[i,6]*h)\n",
    "            cv2.rectangle(frame,(x1,y1),(x2,y2),(0,125,255),2)\n",
    "            text='Face:{}%'.format(round(confidence*100,2))\n",
    "            cv2.putText(frame,text,(x1,y1-2),cv2.FONT_HERSHEY_COMPLEX,1,(0,125,255),1,cv2.LINE_AA)\n",
    "#             cv2.flip(text_flip)\n",
    "#     edge=cv2.Canny(frame,50,150)\n",
    "    flip=cv2.flip(frame,1)\n",
    "    cv2.imshow('image',frame)\n",
    "#     cv2.imshow('edge',edge)\n",
    "    cv2.imshow('flip',flip)\n",
    "    \n",
    "#     out.write('outvideo',flip)\n",
    "    \n",
    "    if cv2.waitKey(20)==27:\n",
    "        break\n",
    "# out.release()\n",
    "cap.release()\n",
    "cv2.destroyAllWindows()\n",
    "\n",
    "\n",
    "        \n",
    "# print(detect.shape)\n",
    "# cv2.imshow('image',img)\n",
    "# cv2.waitKey()\n",
    "# cv2.destroyAllWindows()"
   ]
  }
 ],
 "metadata": {
  "kernelspec": {
   "display_name": "Python 3 (ipykernel)",
   "language": "python",
   "name": "python3"
  },
  "language_info": {
   "codemirror_mode": {
    "name": "ipython",
    "version": 3
   },
   "file_extension": ".py",
   "mimetype": "text/x-python",
   "name": "python",
   "nbconvert_exporter": "python",
   "pygments_lexer": "ipython3",
   "version": "3.9.12"
  }
 },
 "nbformat": 4,
 "nbformat_minor": 5
}
