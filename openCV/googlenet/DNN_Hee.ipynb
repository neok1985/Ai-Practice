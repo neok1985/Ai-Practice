{
 "cells": [
  {
   "cell_type": "code",
   "execution_count": 21,
   "id": "8f65e16d",
   "metadata": {},
   "outputs": [],
   "source": [
    "import cv2\n",
    "import numpy as np\n",
    "import sys\n",
    "import os"
   ]
  },
  {
   "cell_type": "code",
   "execution_count": 25,
   "id": "727d9b62",
   "metadata": {},
   "outputs": [
    {
     "name": "stdout",
     "output_type": "stream",
     "text": [
      "pomegranate(93.62%)\n",
      "Granny Smith(99.97%)\n",
      "beagle(78.35%)\n",
      "anemone fish(98.70%)\n",
      "pineapple, ananas(99.99%)\n",
      "motor scooter, scooter(59.21%)\n",
      "space shuttle(99.99%)\n"
     ]
    }
   ],
   "source": [
    "# file_name='./fig/yort.jfif'\n",
    "# img=cv2.imread(file_name)   #이미지파일 불러올시\n",
    "\n",
    "# if img is None:\n",
    "#     print('image read failed')\n",
    "#     sys.exit()\n",
    "###Caffen model import       #학습된 모델 불러와 적용하기\n",
    "model='bvlc_googlenet.caffemodel'   #사용할 모델\n",
    "config='deploy.prototxt'            #사용할 모델의 파라미터파일\n",
    "\n",
    "net=cv2.dnn.readNet(model,config)\n",
    "\n",
    "###불러올 파일들의 경로 생성하는 부분\n",
    "idx=0\n",
    "img_list=os.listdir('./fig/')\n",
    "img_files=[]\n",
    "for i in img_list:\n",
    "    img_path='./fig/'+i\n",
    "    img_files.append(img_path)\n",
    "while True:       \n",
    "    img=cv2.imread(img_files[idx])\n",
    "\n",
    "    if img is None:\n",
    "        print('image read failed')\n",
    "        break\n",
    "    ### 출력될 결과값의 이름을 정해져 있는 1000개의 카테고리명에서 불러오는 과정\n",
    "    classNames=[]\n",
    "    with open('classification_classes_ILSVRC2012.txt','rt')as f:##해당 txt파일에서 1000개의 카테고리를 \n",
    "        classNames=f.read().rstrip('\\n').split('\\n')            #띄어쓰기 칸으로 구분하여 단어별로 리스트에 입력하기\n",
    "\n",
    "### Deep learning\n",
    "# blobFromImage(image[, scalefactor[, size[, mean[, swapRB[, crop[, ddepth]]]]]]) -> retval\n",
    "        blob=cv2.dnn.blobFromImage(img,1,(224,224),(104,117,123),swapRB=False)\n",
    "        net.setInput(blob)\n",
    "        prob=net.forward()\n",
    "# print(prob[0,:10])\n",
    "        out=prob.flatten()\n",
    "        classID=np.argmax(out)\n",
    "# print(classID)\n",
    "        confidence=out[classID]\n",
    "# print(confidence)\n",
    "        class_text=classNames[classID]\n",
    "# print(class_text)\n",
    "        text=f'{class_text}({confidence*100:.2f}%)'\n",
    "        print(text)\n",
    "        cv2.putText(img,text,(10,30),cv2.FONT_HERSHEY_COMPLEX,1,(0,0,255),2,cv2.LINE_AA)\n",
    "        cv2.imshow('image',img)\n",
    "        if cv2.waitKey(3500)==27:\n",
    "            break\n",
    "        idx+=1\n",
    "        if idx >=len(img_files):\n",
    "            idx=0\n",
    "\n",
    "\n",
    "# cv2.imshow('image',img)\n",
    "# cv2.waitKey()\n",
    "cv2.destroyAllWindows()"
   ]
  },
  {
   "cell_type": "code",
   "execution_count": null,
   "id": "8bc120f2",
   "metadata": {},
   "outputs": [],
   "source": []
  }
 ],
 "metadata": {
  "kernelspec": {
   "display_name": "Python 3 (ipykernel)",
   "language": "python",
   "name": "python3"
  },
  "language_info": {
   "codemirror_mode": {
    "name": "ipython",
    "version": 3
   },
   "file_extension": ".py",
   "mimetype": "text/x-python",
   "name": "python",
   "nbconvert_exporter": "python",
   "pygments_lexer": "ipython3",
   "version": "3.9.12"
  }
 },
 "nbformat": 4,
 "nbformat_minor": 5
}
