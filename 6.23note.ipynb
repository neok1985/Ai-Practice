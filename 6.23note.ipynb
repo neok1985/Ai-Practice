{
 "cells": [
  {
   "cell_type": "code",
   "execution_count": null,
   "id": "1edf77e4",
   "metadata": {},
   "outputs": [],
   "source": [
    "#하나만 출력합니다.\n",
    "print('# 하나만 출력합니다.')\n",
    "print('Hellow Python Programming...!')\n",
    "print()\n",
    "\n",
    "#여러 개를 출력합니다.\n",
    "print('#여러 개를 출력합니다.')\n",
    "print(10,20,30,40,50)\n",
    "print('안녕하세요','저의','이름은','윤인성입니다!')\n",
    "print()\n",
    "\n",
    "#아무것도 입력하지 않으면 단순하게 줄바꿈합니다.\n",
    "print('#아무것도 출력하지 않습니다.')\n",
    "print('--- 확인 전용선 ---')\n",
    "print()\n",
    "print()\n",
    "print('--- 확인 전용선 ---')"
   ]
  },
  {
   "cell_type": "code",
   "execution_count": null,
   "id": "af186d17",
   "metadata": {},
   "outputs": [],
   "source": [
    "#키워드 import keyword ->keyword.keylist 에서 확인\n",
    "#식별자 : 문자 시작 _가능, 숫자 시작 불가,공백 안됨,키워드 안됨\n",
    "#식별자를 작성 규칙 : 캐멀(클래스),스네이크 (변수,함수),함수는()"
   ]
  },
  {
   "cell_type": "markdown",
   "id": "74fb9716",
   "metadata": {},
   "source": [
    "## 02 자료형\n",
    "### 자료형과 문자열"
   ]
  },
  {
   "cell_type": "code",
   "execution_count": null,
   "id": "e3aeb7f9",
   "metadata": {},
   "outputs": [],
   "source": [
    "#python의 자료형은 문자열,숫자,불 타입으로 세가지만 존재\n",
    "print('문자열의 데이터 타입:',type('문자열'))\n",
    "print('숫자열의 데이터 타입:',type(27.3))\n",
    "print('불리언의 데이터 타입:',type(True))\n"
   ]
  },
  {
   "cell_type": "code",
   "execution_count": null,
   "id": "0566fefc",
   "metadata": {},
   "outputs": [],
   "source": [
    "#이스케이프 문자를 사용해 문자열 만들기\n",
    "print('\\'배가 고픕니다\\'라고 생각했습니다')"
   ]
  },
  {
   "cell_type": "code",
   "execution_count": null,
   "id": "70c2810a",
   "metadata": {},
   "outputs": [],
   "source": [
    "print('''동해물과 백두산이 마르고 닳도록\n",
    "하느님이 보우하사 우리나라 만세\n",
    "무궁화 삼천리 화려강산 대한사람\n",
    "대한으로 길이 보전하세''')"
   ]
  },
  {
   "cell_type": "code",
   "execution_count": null,
   "id": "ecc815f3",
   "metadata": {},
   "outputs": [],
   "source": [
    "print('안녕'+'하세요')\n",
    "print('안녕하세요'+'!')\n",
    "print('안녕하세요'*3)\n",
    "print(3*'안녕하세요')"
   ]
  },
  {
   "cell_type": "code",
   "execution_count": null,
   "id": "541738ab",
   "metadata": {},
   "outputs": [],
   "source": [
    "#문자열 자르기 :문자열[시작인덱스:마지막인덱스] -> 시작은 포함 마지막은 포함X\n",
    "hello='안녕하세요'\n",
    "print(len(hello))\n",
    "print(hello[:4])\n",
    "print(hello[1:3])"
   ]
  },
  {
   "cell_type": "code",
   "execution_count": null,
   "id": "6abb7e4f",
   "metadata": {},
   "outputs": [],
   "source": [
    "#문자열의 길이를 구해서 마지막 문자 출력\n",
    "hello='안녕하세요'\n",
    "print(3*hello[len(hello)-1])"
   ]
  },
  {
   "cell_type": "markdown",
   "id": "dcef9537",
   "metadata": {},
   "source": [
    "#변수의 활용"
   ]
  },
  {
   "cell_type": "code",
   "execution_count": null,
   "id": "31932e4c",
   "metadata": {},
   "outputs": [],
   "source": [
    "var_a=10\n",
    "var_b=20\n",
    "print(var_a+var_b)\n",
    "print(hello)"
   ]
  },
  {
   "cell_type": "code",
   "execution_count": null,
   "id": "f28e24b8",
   "metadata": {},
   "outputs": [],
   "source": [
    "#원의 둘레와 넓이 구하기\n",
    "#변수 선언과 할당\n",
    "pi=3.14159265\n",
    "r=10\n",
    "\n",
    "#변수 참조\n",
    "\n",
    "print('원주율 =',pi)\n",
    "print('반지름 =',r)\n",
    "print('원의 둘레 =',2*pi*r)\n",
    "print('원의 넓이 =',pi*(r**2))"
   ]
  },
  {
   "cell_type": "code",
   "execution_count": null,
   "id": "6af744ac",
   "metadata": {},
   "outputs": [],
   "source": [
    "number=100\n",
    "number +=10\n",
    "number +=20\n",
    "number*=2\n",
    "print('number:',number)\n"
   ]
  },
  {
   "cell_type": "code",
   "execution_count": 12,
   "id": "1becc557",
   "metadata": {},
   "outputs": [
    {
     "name": "stdout",
     "output_type": "stream",
     "text": [
      "입력>580\n",
      "자료: 580\n",
      "자료형: <class 'int'>\n"
     ]
    }
   ],
   "source": [
    "#입력 자료형 확인하기\n",
    "#입력을 받습니다\n",
    "string=input('입력>')\n",
    "\n",
    "#출력합니다\n",
    "print('자료:',string)\n",
    "print('자료형:',type(int(string)))\n"
   ]
  },
  {
   "cell_type": "code",
   "execution_count": 14,
   "id": "f6b49584",
   "metadata": {},
   "outputs": [
    {
     "name": "stdout",
     "output_type": "stream",
     "text": [
      "숫자를 입력하시오:50\n",
      "숫자를 입력하시오:80\n",
      "<class 'int'>\n",
      "<class 'int'>\n"
     ]
    }
   ],
   "source": [
    "#두 수를 입력 받아 두 수의 합과 곱을 구하세요\n",
    "#숫자 두개를 입력 받음\n",
    "#입력 받은 두 수를 int로 형 변환\n",
    "#두 수의 합과 곱을 구함\n",
    "\n",
    "inpt_a=int(input('숫자를 입력하시오:'))\n",
    "inpt_b=int(input('숫자를 입력하시오:'))\n",
    "print(type(inpt_a))\n",
    "print(type(inpt_b))\n",
    "# int_a=int(inpt_a)\n",
    "# int_b=int(inpt_b)\n",
    "\n",
    "# print('두수의 합은 :',int_a+int_b)\n",
    "# print('두 수의 곱은 :',int_a*int_b)"
   ]
  },
  {
   "cell_type": "markdown",
   "id": "306e2a7f",
   "metadata": {},
   "source": [
    "### 숫자와 문자의 다양한 기능"
   ]
  },
  {
   "cell_type": "code",
   "execution_count": 15,
   "id": "c5460973",
   "metadata": {},
   "outputs": [
    {
     "data": {
      "text/plain": [
       "'400문자열'"
      ]
     },
     "execution_count": 15,
     "metadata": {},
     "output_type": "execute_result"
    }
   ],
   "source": [
    "#문자열 format()\n",
    "'{}{}'.format(400,'문자열')"
   ]
  },
  {
   "cell_type": "code",
   "execution_count": 16,
   "id": "2c8f91d6",
   "metadata": {},
   "outputs": [
    {
     "name": "stdout",
     "output_type": "stream",
     "text": [
      "#조합하기\n",
      "  +30\n",
      "  -30\n",
      "+  30\n",
      "-  30\n",
      "+0030\n",
      "-0030\n"
     ]
    }
   ],
   "source": [
    "#조합하기\n",
    "output_h='{:+5d}'.format(30)\n",
    "output_i='{:+5d}'.format(-30)\n",
    "output_j='{:=+5d}'.format(30)\n",
    "output_k='{:=+5d}'.format(-30)\n",
    "output_l='{:+05d}'.format(30)\n",
    "output_m='{:+05d}'.format(-30)\n",
    "\n",
    "print('#조합하기')\n",
    "print(output_h)\n",
    "print(output_i)\n",
    "print(output_j)\n",
    "print(output_k)\n",
    "print(output_l)\n",
    "print(output_m)\n"
   ]
  },
  {
   "cell_type": "code",
   "execution_count": 18,
   "id": "7fd81296",
   "metadata": {},
   "outputs": [
    {
     "name": "stdout",
     "output_type": "stream",
     "text": [
      "수를 입력하시오10\n",
      "수를 입력하시오20\n",
      "입력받은 두 수10과20의 합은 30\n",
      "입력받은 두 수10과20의 곱은 200\n",
      "입력받은 두 수10과20의 차는 -10.0\n",
      "입력받은 두 수10과20의 나머지는 10.0\n"
     ]
    }
   ],
   "source": [
    "#두 개의 숫자를 입력 받아 두 수의 합과 곱, 차, 나머지 값을 다음의 형식으로 출력\n",
    "#1.입력 받은 두 수는 10,20\n",
    "input_aa=input('수를 입력하시오')\n",
    "input_bb=input('수를 입력하시오')\n",
    "#2.입력 받은 두 수 10과 20의 합은 30\n",
    "print('입력받은 두 수{}과{}의 합은'.format(input_aa,input_bb),int(input_aa)+int(input_bb))\n",
    "#3.입력 받은 두 수 10과 20의 곱은 200\n",
    "print('입력받은 두 수{}과{}의 곱은'.format(input_aa,input_bb),int(input_aa)*int(input_bb))\n",
    "#4.입력 받은 두 수 10과 20의 차는 -10\n",
    "print('입력받은 두 수{}과{}의 차는'.format(input_aa,input_bb),float(input_aa)-float(input_bb))\n",
    "#5.입력 받은 두 수 10과 20의 나눈 나머지는 \n",
    "print('입력받은 두 수{}과{}의 나머지는'.format(input_aa,input_bb),float(input_aa)%float(input_bb))"
   ]
  },
  {
   "cell_type": "code",
   "execution_count": null,
   "id": "0bd5c98b",
   "metadata": {},
   "outputs": [],
   "source": []
  },
  {
   "cell_type": "code",
   "execution_count": null,
   "id": "00570b51",
   "metadata": {},
   "outputs": [],
   "source": []
  },
  {
   "cell_type": "code",
   "execution_count": null,
   "id": "296c4e29",
   "metadata": {},
   "outputs": [],
   "source": []
  },
  {
   "cell_type": "code",
   "execution_count": null,
   "id": "efc306b0",
   "metadata": {},
   "outputs": [],
   "source": []
  }
 ],
 "metadata": {
  "kernelspec": {
   "display_name": "Python 3 (ipykernel)",
   "language": "python",
   "name": "python3"
  },
  "language_info": {
   "codemirror_mode": {
    "name": "ipython",
    "version": 3
   },
   "file_extension": ".py",
   "mimetype": "text/x-python",
   "name": "python",
   "nbconvert_exporter": "python",
   "pygments_lexer": "ipython3",
   "version": "3.9.12"
  }
 },
 "nbformat": 4,
 "nbformat_minor": 5
}
