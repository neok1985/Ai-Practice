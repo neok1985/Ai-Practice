{
 "cells": [
  {
   "cell_type": "code",
   "execution_count": 4,
   "id": "8d7ef638",
   "metadata": {},
   "outputs": [],
   "source": [
    "import requests"
   ]
  },
  {
   "cell_type": "code",
   "execution_count": 7,
   "id": "ba93a881",
   "metadata": {},
   "outputs": [],
   "source": [
    "text='''Yesterday\n",
    "All my troubles seemed so far away\n",
    "Now it looks as though they're here to stay\n",
    "Oh, I believe in yesterday\n",
    "Suddenly\n",
    "I'm not half the man I used to be\n",
    "There's a shadow hanging over me\n",
    "Oh, yesterday came suddenly\n",
    "Why she had to go, I don't know\n",
    "She wouldn't say\n",
    "I said something wrong\n",
    "Now I long for yesterday\n",
    "Yesterday\n",
    "Love was such an easy game to play\n",
    "Now I need a place to hide away\n",
    "Oh, I believe in yesterday\n",
    "Why she'''"
   ]
  },
  {
   "cell_type": "code",
   "execution_count": 9,
   "id": "85e33bc4",
   "metadata": {},
   "outputs": [],
   "source": [
    "# import request\n",
    "\n",
    "url='https://openapi.naver.com/v1/papago/n2mt'\n",
    "headers={'X-Naver-Client-Id':'LHNxbOVAV9ijd0gWdhhA','X-Naver-Client-Secret':'BxvLmP9Ijt'}\n",
    "\n",
    "params={'source':'en','target':'ko','text':text}\n",
    "\n",
    "respose=requests.post(url, headers=headers, data=params)\n"
   ]
  },
  {
   "cell_type": "code",
   "execution_count": 18,
   "id": "f6de2b4d",
   "metadata": {
    "scrolled": false
   },
   "outputs": [
    {
     "name": "stdout",
     "output_type": "stream",
     "text": [
      "{\"message\":{\"result\":{\"srcLangType\":\"en\",\"tarLangType\":\"ko\",\"translatedText\":\"어제,\\n내 모든 시름들이 멀리 사라져버린듯 했다\\n이제 그들은 여기 머물기 위해 온 것처럼 보인다.\\n오, 나는 어제를 다시 그리게 돼.\\n갑자기\\n예전의 나의 반도 안 되는구나.\\n그림자가 내 머리 위에 드리워져 있다.\\n오, 어제가 갑자기 왔다.\\n왜 그녀가 가야만 했는지 모르겠어\\n그녀는 말하지 않았다.\\n내가 잘못 말했다.\\n이제 나는 어제가 그립다.\\n어제,\\n사랑은 정말 하기 쉬운 게임이었다.\\n이제 숨을 곳이 필요해\\n오, 나는 어제를 다시 그리게 돼.\\n왜 그녀는\",\"engineType\":\"UNDEF_MULTI_SENTENCE\",\"pivot\":null,\"dict\":null,\"tarDict\":null},\"@type\":\"response\",\"@service\":\"naverservice.nmt.proxy\",\"@version\":\"1.0.0\"}}\n",
      "어제,\n",
      "내 모든 시름들이 멀리 사라져버린듯 했다\n",
      "이제 그들은 여기 머물기 위해 온 것처럼 보인다.\n",
      "오, 나는 어제를 다시 그리게 돼.\n",
      "갑자기\n",
      "예전의 나의 반도 안 되는구나.\n",
      "그림자가 내 머리 위에 드리워져 있다.\n",
      "오, 어제가 갑자기 왔다.\n",
      "왜 그녀가 가야만 했는지 모르겠어\n",
      "그녀는 말하지 않았다.\n",
      "내가 잘못 말했다.\n",
      "이제 나는 어제가 그립다.\n",
      "어제,\n",
      "사랑은 정말 하기 쉬운 게임이었다.\n",
      "이제 숨을 곳이 필요해\n",
      "오, 나는 어제를 다시 그리게 돼.\n",
      "왜 그녀는\n"
     ]
    }
   ],
   "source": [
    "print(respose.text)#하나의 문장으로 가져옴\n",
    "result=respose.json()\n",
    "print(result['message']['result']['translatedText'])"
   ]
  }
 ],
 "metadata": {
  "kernelspec": {
   "display_name": "Python 3 (ipykernel)",
   "language": "python",
   "name": "python3"
  },
  "language_info": {
   "codemirror_mode": {
    "name": "ipython",
    "version": 3
   },
   "file_extension": ".py",
   "mimetype": "text/x-python",
   "name": "python",
   "nbconvert_exporter": "python",
   "pygments_lexer": "ipython3",
   "version": "3.9.12"
  }
 },
 "nbformat": 4,
 "nbformat_minor": 5
}
