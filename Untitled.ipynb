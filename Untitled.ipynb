{
 "cells": [
  {
   "cell_type": "code",
   "execution_count": 21,
   "id": "e176d5bf",
   "metadata": {},
   "outputs": [
    {
     "name": "stdout",
     "output_type": "stream",
     "text": [
      "계산식 입력 : (ex:10 + 20)dkf\n",
      "계산식의 형식이 다릅니다\n",
      "계산식 입력 : (ex:10 + 20)40 + 10\n",
      "답은 50입니다\n",
      "\n",
      "계산식 입력 : (ex:10 + 20)90 / 10\n",
      "답은 9.0입니다\n",
      "\n",
      "계산식 입력 : (ex:10 + 20)q\n",
      "종료합니다\n"
     ]
    }
   ],
   "source": [
    "# #3+4 -> 7 계산기 프로그램 작성\n",
    "# 반복해서 작성\n",
    "# 처음 문자에 'q'가 입력되면 프로그램 종료\n",
    "# 1.문자열 입력 -> 리스트에 저장\n",
    "# 2.리스트의 자료를 가져 옴\n",
    "# 3.리스트의 처음 자료가 'q'이면 프로그램 종료\n",
    "# 4.계속 입력 -> 리스트에 저장\n",
    "input_data=[]\n",
    "input_data=input('계산식 입력 : (ex:10 + 20)').split()\n",
    "#print(input_data)\n",
    "# a=int(input_data[0])+int(input_data[2])\n",
    "# print(a)\n",
    "while True:\n",
    "    if input_data[0] == 'q' :\n",
    "        print('종료합니다')\n",
    "        break\n",
    "    elif len(input_data) != 3 :\n",
    "        print('계산식의 형식이 다릅니다')\n",
    "        input_data=input('계산식 입력 : (ex:10 + 20)').split()\n",
    "    else :\n",
    "        if input_data[0] !='q':\n",
    "        \n",
    "            if '+' in input_data :\n",
    "                a=int(input_data[0])+int(input_data[2])\n",
    "                print('답은 {}입니다'.format(a))\n",
    "                print()\n",
    "            elif '-' in input_data :\n",
    "                a=int(input_data[0])-int(input_data[2])\n",
    "                print('답은 {}입니다'.format(a))\n",
    "                print()\n",
    "            elif '*' in input_data :\n",
    "                a=int(input_data[0])*int(input_data[2])\n",
    "                print('답은 {}입니다'.format(a))\n",
    "                print()\n",
    "            elif '/' in input_data :\n",
    "                a=int(input_data[0])/int(input_data[2])\n",
    "                print('답은 {}입니다'.format(a))\n",
    "                print()\n",
    "            input_data=input('계산식 입력 : (ex:10 + 20)').split()\n",
    "        \n"
   ]
  },
  {
   "cell_type": "code",
   "execution_count": null,
   "id": "132dd348",
   "metadata": {},
   "outputs": [],
   "source": []
  }
 ],
 "metadata": {
  "kernelspec": {
   "display_name": "Python 3 (ipykernel)",
   "language": "python",
   "name": "python3"
  },
  "language_info": {
   "codemirror_mode": {
    "name": "ipython",
    "version": 3
   },
   "file_extension": ".py",
   "mimetype": "text/x-python",
   "name": "python",
   "nbconvert_exporter": "python",
   "pygments_lexer": "ipython3",
   "version": "3.9.12"
  }
 },
 "nbformat": 4,
 "nbformat_minor": 5
}
