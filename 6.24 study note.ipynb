{
 "cells": [
  {
   "cell_type": "code",
   "execution_count": 1,
   "id": "7e5e438f",
   "metadata": {},
   "outputs": [
    {
     "name": "stdout",
     "output_type": "stream",
     "text": [
      "HELLO PYTHON PROGRAMMING!!\n",
      "hello python programming!!\n",
      "Hello Python programming!!\n"
     ]
    }
   ],
   "source": [
    "#문자열 관련 함수 : 문자열 오브젝트.upper(),오브젝트.lower()\n",
    "a_str='Hello Python programming!!'\n",
    "print(a_str.upper())\n",
    "print(a_str.lower())\n",
    "print(a_str)"
   ]
  },
  {
   "cell_type": "code",
   "execution_count": 3,
   "id": "927ae753",
   "metadata": {},
   "outputs": [
    {
     "name": "stdout",
     "output_type": "stream",
     "text": [
      "strip() -> /Hello Python programming  !!/\n",
      "lstrip() -> /Hello Python programming  !!    /\n",
      "rstrip() -> /   Hello Python programming  !!/\n"
     ]
    }
   ],
   "source": [
    "#문자열의 공백 제거 : 문자열.strip() -> 양쪽의 공백 제거\n",
    "# 문자열.lstrip() -> 왼쪽의 공백제거\n",
    "# 문자열.rstrip() -> 오른쪽의 공백제거\n",
    "\n",
    "a_str='   Hello Python programming  !!    '\n",
    "print('strip() -> /{}/'.format(a_str.strip()))\n",
    "print('lstrip() -> /{}/'.format(a_str.lstrip()))\n",
    "print('rstrip() -> /{}/'.format(a_str.rstrip()))"
   ]
  },
  {
   "cell_type": "code",
   "execution_count": 4,
   "id": "3589724d",
   "metadata": {},
   "outputs": [
    {
     "ename": "SyntaxError",
     "evalue": "invalid syntax (2574387889.py, line 2)",
     "output_type": "error",
     "traceback": [
      "\u001b[1;36m  Input \u001b[1;32mIn [4]\u001b[1;36m\u001b[0m\n\u001b[1;33m    10.isdigit()\u001b[0m\n\u001b[1;37m       ^\u001b[0m\n\u001b[1;31mSyntaxError\u001b[0m\u001b[1;31m:\u001b[0m invalid syntax\n"
     ]
    }
   ],
   "source": [
    "#문자열 구성 확인 함수 : is??()\n"
   ]
  },
  {
   "cell_type": "code",
   "execution_count": 10,
   "id": "8b61fbcd",
   "metadata": {},
   "outputs": [
    {
     "name": "stdout",
     "output_type": "stream",
     "text": [
      "Python\n"
     ]
    }
   ],
   "source": [
    "#find(), rfind()-> 위치 반환\n",
    "aa_str='Hello Python programming!!'\n",
    "#Python 만 출력\n",
    "\n",
    "print(aa_str[aa_str.find('Python'):aa_str.find('programming')-1])"
   ]
  },
  {
   "cell_type": "code",
   "execution_count": 12,
   "id": "375c7aa2",
   "metadata": {},
   "outputs": [
    {
     "name": "stdout",
     "output_type": "stream",
     "text": [
      "True\n",
      "False\n"
     ]
    }
   ],
   "source": [
    "#문자가 해당 문자열에 있는지 확인 : 문자 in 문자열\n",
    "print('Hello' in aa_str) #True\n",
    "print('op' in aa_str)  #False"
   ]
  },
  {
   "cell_type": "code",
   "execution_count": 20,
   "id": "dac7ff8a",
   "metadata": {},
   "outputs": [
    {
     "name": "stdout",
     "output_type": "stream",
     "text": [
      "['Hello', 'Python', 'programming!!']\n"
     ]
    }
   ],
   "source": [
    "#문자열 자르기:split()\n",
    "a=aa_str.split(' ')\n",
    "print(a)"
   ]
  },
  {
   "cell_type": "code",
   "execution_count": null,
   "id": "4e6bdf95",
   "metadata": {},
   "outputs": [],
   "source": [
    "#f-문자열\n"
   ]
  },
  {
   "cell_type": "code",
   "execution_count": null,
   "id": "58512b58",
   "metadata": {},
   "outputs": [],
   "source": []
  },
  {
   "cell_type": "markdown",
   "id": "b4e3c889",
   "metadata": {},
   "source": [
    "### chap 3.조건문\n",
    "1.불 자료형과 if 조건문"
   ]
  },
  {
   "cell_type": "code",
   "execution_count": 13,
   "id": "2f506fe2",
   "metadata": {},
   "outputs": [
    {
     "name": "stdout",
     "output_type": "stream",
     "text": [
      "True 출력\n"
     ]
    }
   ],
   "source": [
    "#True,False, and, or, not , ==,!=, >, <, >=, <=\n",
    "#if 표현식:\n",
    "#    들여쓰기\n",
    "if True:\n",
    "    print('True 출력') #실행\n",
    "    \n",
    "if False:\n",
    "    print('False 출력')   #실행 안됨"
   ]
  },
  {
   "cell_type": "code",
   "execution_count": 17,
   "id": "6182a2e4",
   "metadata": {},
   "outputs": [
    {
     "name": "stdout",
     "output_type": "stream",
     "text": [
      "자료 입력:900\n",
      "입력 받은 자료는 숫자(정수)\n"
     ]
    }
   ],
   "source": [
    "#키보드에서 자료를 입력 받아 숫자이면 '입력 받은 자료는 숫자'\n",
    "#문자이면 '입력 받은 자료는 문자' 출력\n",
    "\n",
    "input_a=input('자료 입력:')#자료 입력\n",
    "\n",
    "if input_a.isdecimal():\n",
    "    print('입력 받은 자료는 숫자(정수)')#정수 숫자이면 출력\n",
    "if not input_a.isdecimal():\n",
    "    print('입력 받은 자료는 문자')#정수 숫자가 아니면 출력"
   ]
  },
  {
   "cell_type": "code",
   "execution_count": 18,
   "id": "8985a33c",
   "metadata": {},
   "outputs": [
    {
     "name": "stdout",
     "output_type": "stream",
     "text": [
      "2022년 6월 24일 10시\n"
     ]
    }
   ],
   "source": [
    "#날짜 / 시간 활용하기 : datetime 모듈 소스에 삽입\n",
    "#import 모듈명\n",
    "import datetime\n",
    "now = datetime.datetime.now()\n",
    "print(f'{now.year}년 {now.month}월 {now.day}일 {now.hour}시')"
   ]
  },
  {
   "cell_type": "code",
   "execution_count": 19,
   "id": "3f46b10c",
   "metadata": {},
   "outputs": [
    {
     "name": "stdout",
     "output_type": "stream",
     "text": [
      "6월은 여름입니다\n"
     ]
    }
   ],
   "source": [
    "#3월에서 5월은 봄,6~8월은 여름,9~11월은 가을,1,2,12월은 겨울\n",
    "if 3<=now.month<=5:\n",
    "    print(f'{now.month}월은 봄입니다')\n",
    "if 6<=now.month<=8:\n",
    "    print(f'{now.month}월은 여름입니다')\n",
    "if 9<=now.month<=11:\n",
    "    print(f'{now.month}월은 가을입니다')\n",
    "if 12 or 1<=now.month<=2:\n",
    "    print(f'{now.month}월은 겨울입니다')\n"
   ]
  },
  {
   "cell_type": "code",
   "execution_count": 24,
   "id": "44960fe1",
   "metadata": {},
   "outputs": [
    {
     "name": "stdout",
     "output_type": "stream",
     "text": [
      "정수를 입력하세요99\n",
      "입력된 정수는 홀수입니다\n",
      "정수를 입력하세요56\n",
      "입력된 정수는 짝수입니다\n"
     ]
    }
   ],
   "source": [
    "#정수를 입력 받아 입력된 숫자가 짝수인지 홀수인지 출력\n",
    "\n",
    "#1.입력된 문자를 숫자로 변경 후 2나눈 나머지 값이 0이면 짝수 1이면 홀수\n",
    "int_a=int(input('정수를 입력하세요'))\n",
    "if int_a%2==0:\n",
    "    print('입력된 정수는 짝수입니다') \n",
    "if int_a%2!=0:\n",
    "    print('입력된 정수는 홀수입니다')\n",
    "    \n",
    "#입력된 마지막 문자를 숫자로 변경후 0,2,4,6,8이면 짝수\n",
    "#1,3,5,7,9 이면 홀수\n",
    "\n",
    "int_b=int(input('정수를 입력하세요')[-1])\n",
    "if int_b==0:\n",
    "    print('입력된 정수는 짝수입니다')\n",
    "if int_b==2:\n",
    "    print('입력된 정수는 짝수입니다')    \n",
    "if int_b==4:\n",
    "    print('입력된 정수는 짝수입니다')\n",
    "if int_b==6:\n",
    "    print('입력된 정수는 짝수입니다')\n",
    "if int_b==8:\n",
    "    print('입력된 정수는 짝수입니다')\n",
    "if int_b==1:\n",
    "    print('입력된 정수는 홀수입니다')\n",
    "if int_b==3:\n",
    "    print('입력된 정수는 홀수입니다')    \n",
    "if int_b==5:\n",
    "    print('입력된 정수는 홀수입니다')\n",
    "if int_b==7:\n",
    "    print('입력된 정수는 홀수입니다')\n",
    "if int_b==9:\n",
    "    print('입력된 정수는 홀수입니다')"
   ]
  },
  {
   "cell_type": "code",
   "execution_count": 26,
   "id": "031b55f4",
   "metadata": {},
   "outputs": [
    {
     "name": "stdout",
     "output_type": "stream",
     "text": [
      "정수를 입력하세요40\n",
      "입력한 숫자40는 짝수 입니다\n"
     ]
    }
   ],
   "source": [
    "#문자열의 경우 in 연산자를 사용하여 불리안값 사용가능\n",
    "input_c=input('정수를 입력하세요')\n",
    "last_char=input_c[-1]\n",
    "if last_char in '02468':\n",
    "    print('입력한 숫자{}는 짝수 입니다'.format(input_c))\n",
    "if last_char in '13579':\n",
    "    print('입력한 숫자{}는 홀수 입니다'.format(input_c))"
   ]
  },
  {
   "cell_type": "code",
   "execution_count": 28,
   "id": "419d11fe",
   "metadata": {},
   "outputs": [
    {
     "name": "stdout",
     "output_type": "stream",
     "text": [
      "정수를 입력하세요30\n",
      "입력한 숫자30는 짝수 입니다\n"
     ]
    }
   ],
   "source": [
    "#if else 로 간략하게 가능\n",
    "input_c=input('정수를 입력하세요')\n",
    "last_char=input_c[-1]\n",
    "if last_char in '02468':\n",
    "    print('입력한 숫자{}는 짝수 입니다'.format(input_c))\n",
    "else:\n",
    "    print('입력한 숫자{}는 홀수 입니다'.format(input_c))"
   ]
  },
  {
   "cell_type": "code",
   "execution_count": null,
   "id": "99464515",
   "metadata": {},
   "outputs": [],
   "source": []
  },
  {
   "cell_type": "code",
   "execution_count": 36,
   "id": "2aa6f2e8",
   "metadata": {},
   "outputs": [
    {
     "name": "stdout",
     "output_type": "stream",
     "text": [
      "입력하세요895\n",
      "입력한 숫자\"895\"는 홀수 입니다\n"
     ]
    }
   ],
   "source": [
    "#키보드에서 자료를 입력받아 정수이면 짝수인지 확인하고 짝수 출력\n",
    "#정수가 아니면 마지막 문자출력\n",
    "input_d=input('입력하세요')\n",
    "last_char2=input_d[-1]\n",
    "if input_d.isdecimal():\n",
    "    if last_char2 in '02468':\n",
    "        print('입력한 숫자\"{}\"는 짝수 입니다'.format(input_d))\n",
    "    else:\n",
    "        print('입력한 숫자\"{}\"는 홀수 입니다'.format(input_d))\n",
    "else:\n",
    "    print('입력 받은 자료\"{}\"마지막 문자는\"{}\"입니다'.format(input_d,last_char2))"
   ]
  },
  {
   "cell_type": "markdown",
   "id": "71d2af48",
   "metadata": {},
   "source": [
    "### chap4.반복문\n",
    "1.리스트와 반복문"
   ]
  },
  {
   "cell_type": "code",
   "execution_count": 39,
   "id": "9bbd128b",
   "metadata": {},
   "outputs": [
    {
     "data": {
      "text/plain": [
       "[12, 'test', True, 345, 'python programming']"
      ]
     },
     "execution_count": 39,
     "metadata": {},
     "output_type": "execute_result"
    }
   ],
   "source": [
    "#리스트 선언하기 : [요소,...]\n",
    "list_a=[12,'test',True,345,'python programming']\n",
    "list_a"
   ]
  },
  {
   "cell_type": "code",
   "execution_count": 41,
   "id": "40d2bbdf",
   "metadata": {},
   "outputs": [
    {
     "name": "stdout",
     "output_type": "stream",
     "text": [
      "<class 'list'>\n",
      "test\n",
      "['test', True]\n",
      "python programming\n",
      "python\n"
     ]
    }
   ],
   "source": [
    "#리스트의 요소 접근하는 방법 : 리스트[인덱스]\n",
    "print(type(list_a))\n",
    "print(list_a[1])#test\n",
    "print(list_a[1:3])#test,True\n",
    "print(list_a[-1])#'python programming'\n",
    "print(list_a[-1].split()[0])"
   ]
  },
  {
   "cell_type": "code",
   "execution_count": 42,
   "id": "5db7b79c",
   "metadata": {},
   "outputs": [
    {
     "name": "stdout",
     "output_type": "stream",
     "text": [
      "[1, 2, 3, 4, 5, 6]\n",
      "[4, 5, 6, 1, 2, 3]\n"
     ]
    }
   ],
   "source": [
    "a=[1,2,3]\n",
    "b=[4,5,6]\n",
    "print(a+b)\n",
    "print(b+a)"
   ]
  },
  {
   "cell_type": "code",
   "execution_count": 43,
   "id": "09841095",
   "metadata": {},
   "outputs": [
    {
     "name": "stdout",
     "output_type": "stream",
     "text": [
      "90\n",
      "[1, 2, 3, '90']\n",
      "추가할 리스트 위치를 입력하세요1\n",
      "추가할 내용을 입력하세요안녕\n",
      "[4, '안녕', 5, 6]\n"
     ]
    }
   ],
   "source": [
    "#리스트에 요소 추가하기:append(),insert()\n",
    "\n",
    "a.append(input())\n",
    "print(a)#리스트 뒤에 입력한 요소 추가\n",
    "b.insert(int(input('추가할 리스트 위치를 입력하세요')),input('추가할 내용을 입력하세요'))\n",
    "print(b)"
   ]
  },
  {
   "cell_type": "code",
   "execution_count": 44,
   "id": "7c1c2951",
   "metadata": {},
   "outputs": [
    {
     "name": "stdout",
     "output_type": "stream",
     "text": [
      "[1, 2, 3, '90', [4, '안녕', 5, 6]]\n",
      "[4, '안녕', 5, 6, 7, 8, 9]\n"
     ]
    }
   ],
   "source": [
    "a.append(b)#[1,2,3 '90',[4, '안녕',5,6]]\n",
    "print(a)\n",
    "c=[7,8,9]\n",
    "b.extend(c)#[4,'안녕',5,6,7,8,9]\n",
    "print(b)"
   ]
  },
  {
   "cell_type": "code",
   "execution_count": 46,
   "id": "7959a6d1",
   "metadata": {},
   "outputs": [
    {
     "name": "stdout",
     "output_type": "stream",
     "text": [
      "1번째 자료를 입력하시오2\n",
      "2번째 자료를 입력하시오3\n",
      "3번째 자료를 입력하시오4\n",
      "4번째 자료를 입력하시오5\n",
      "5번째 자료를 입력하시오6\n",
      "['2', '3', '4', '5', '6']\n",
      "다시 추가할 자료를 입력하시오90\n",
      "['2', '90', '3', '4', '5', '6']\n"
     ]
    }
   ],
   "source": [
    "#5개의 자료를 입력받아 공백으로 분리해서 리스트로 만든후\n",
    "#리스트의 내용을 출력하고 다시 문자를 입력 받아 2번째 자료를 수정하세요\n",
    "list_5data=[]\n",
    "list_5data.append(input('1번째 자료를 입력하시오'))\n",
    "list_5data.append(input('2번째 자료를 입력하시오'))\n",
    "list_5data.append(input('3번째 자료를 입력하시오'))\n",
    "list_5data.append(input('4번째 자료를 입력하시오'))\n",
    "list_5data.append(input('5번째 자료를 입력하시오'))\n",
    "print(list_5data)\n",
    "list_5data.insert(1,input('다시 추가할 자료를 입력하시오'))\n",
    "print(list_5data)"
   ]
  },
  {
   "cell_type": "code",
   "execution_count": 47,
   "id": "d55ceffb",
   "metadata": {},
   "outputs": [
    {
     "name": "stdout",
     "output_type": "stream",
     "text": [
      "['90', '3', '4', '5', '6']\n",
      "['90', '3', '4', '5']\n"
     ]
    }
   ],
   "source": [
    "#리스트 제거 : 인덱스 제거 -> del 리스트명[인덱스]\n",
    "#마지막 요소 제거 : 리스트.pop()\n",
    "del list_5data[0]\n",
    "print(list_5data)#[90,3,4,5,6]\n",
    "list_5data.pop()\n",
    "print(list_5data)#[90,3,4,5]"
   ]
  },
  {
   "cell_type": "code",
   "execution_count": 48,
   "id": "d86f8a8d",
   "metadata": {},
   "outputs": [
    {
     "name": "stdout",
     "output_type": "stream",
     "text": [
      "[1, 3, 5, 7, 9]\n",
      "[3, 4, 5]\n",
      "[9, 7, 5, 3, 1]\n"
     ]
    }
   ],
   "source": [
    "#리스트의 인덱스 슬라이싱 : 리스트명[start : stop : step]\n",
    "list_s=[1,2,3,4,5,6,7,8,9]\n",
    "print(list_s[::2])\n",
    "print(list_s[2:5:1])\n",
    "print(list_s[::-2])"
   ]
  },
  {
   "cell_type": "code",
   "execution_count": 56,
   "id": "265ba992",
   "metadata": {},
   "outputs": [
    {
     "data": {
      "text/plain": [
       "[1, 2, 4, 5, 6, 7, 8]"
      ]
     },
     "execution_count": 56,
     "metadata": {},
     "output_type": "execute_result"
    }
   ],
   "source": [
    "#리스트 remove\n",
    "list_s\n",
    "#print(list_s.remove(3))\n",
    "#리스트 clear\n",
    "#print(list_s.clear())"
   ]
  },
  {
   "cell_type": "code",
   "execution_count": 60,
   "id": "8ccca4ff",
   "metadata": {},
   "outputs": [
    {
     "name": "stdout",
     "output_type": "stream",
     "text": [
      "[65, 346, 1, 3547]\n",
      "[3547, 346, 65, 1]\n"
     ]
    }
   ],
   "source": [
    "#정렬 : 리스트.sort()\n",
    "list_ss=[65,346,1,3547]\n",
    "#list_ss.sort()\n",
    "print(list_ss)\n",
    "list_ss.sort(reverse=True)\n",
    "print(list_ss)"
   ]
  },
  {
   "cell_type": "code",
   "execution_count": 61,
   "id": "470fed5a",
   "metadata": {},
   "outputs": [
    {
     "name": "stdout",
     "output_type": "stream",
     "text": [
      "h e l l o   f o r "
     ]
    }
   ],
   "source": [
    "#for 반복문 : 리스트와 함게 사용\n",
    "#for 반복자 in 반복할 수 있는 모든 자료 :\n",
    "\n",
    "for char in 'hello for':\n",
    "    print(char, end=' ')"
   ]
  },
  {
   "cell_type": "code",
   "execution_count": 62,
   "id": "b290b9f0",
   "metadata": {},
   "outputs": [
    {
     "name": "stdout",
     "output_type": "stream",
     "text": [
      "1회 : 3547\n",
      "2회 : 346\n",
      "3회 : 65\n",
      "4회 : 1\n",
      "end\n"
     ]
    }
   ],
   "source": [
    "cnt=0\n",
    "for item in list_ss:\n",
    "    cnt+=1\n",
    "    print('{}회 : {}'.format(cnt,item))\n",
    "print('end')"
   ]
  },
  {
   "cell_type": "code",
   "execution_count": 87,
   "id": "ae13a836",
   "metadata": {},
   "outputs": [
    {
     "name": "stdout",
     "output_type": "stream",
     "text": [
      "2단=====\n",
      "2 X 1 = 2\t2 X 2 = 4\t2 X 3 = 6\n",
      "2 X 4 = 8\t2 X 5 = 10\t2 X 6 = 12\n",
      "2 X 7 = 14\t2 X 8 = 16\t2 X 9 = 18\n",
      "\n",
      "3단=====\n",
      "3 X 1 = 3\t3 X 2 = 6\t3 X 3 = 9\n",
      "3 X 4 = 12\t3 X 5 = 15\t3 X 6 = 18\n",
      "3 X 7 = 21\t3 X 8 = 24\t3 X 9 = 27\n",
      "\n",
      "4단=====\n",
      "4 X 1 = 4\t4 X 2 = 8\t4 X 3 = 12\n",
      "4 X 4 = 16\t4 X 5 = 20\t4 X 6 = 24\n",
      "4 X 7 = 28\t4 X 8 = 32\t4 X 9 = 36\n",
      "\n",
      "5단=====\n",
      "5 X 1 = 5\t5 X 2 = 10\t5 X 3 = 15\n",
      "5 X 4 = 20\t5 X 5 = 25\t5 X 6 = 30\n",
      "5 X 7 = 35\t5 X 8 = 40\t5 X 9 = 45\n",
      "\n",
      "6단=====\n",
      "6 X 1 = 6\t6 X 2 = 12\t6 X 3 = 18\n",
      "6 X 4 = 24\t6 X 5 = 30\t6 X 6 = 36\n",
      "6 X 7 = 42\t6 X 8 = 48\t6 X 9 = 54\n",
      "\n",
      "7단=====\n",
      "7 X 1 = 7\t7 X 2 = 14\t7 X 3 = 21\n",
      "7 X 4 = 28\t7 X 5 = 35\t7 X 6 = 42\n",
      "7 X 7 = 49\t7 X 8 = 56\t7 X 9 = 63\n",
      "\n",
      "8단=====\n",
      "8 X 1 = 8\t8 X 2 = 16\t8 X 3 = 24\n",
      "8 X 4 = 32\t8 X 5 = 40\t8 X 6 = 48\n",
      "8 X 7 = 56\t8 X 8 = 64\t8 X 9 = 72\n",
      "\n",
      "9단=====\n",
      "9 X 1 = 9\t9 X 2 = 18\t9 X 3 = 27\n",
      "9 X 4 = 36\t9 X 5 = 45\t9 X 6 = 54\n",
      "9 X 7 = 63\t9 X 8 = 72\t9 X 9 = 81\n",
      "\n",
      "end\n"
     ]
    }
   ],
   "source": [
    "#구구단 출력\n",
    "list_9=[2,3,4,5,6,7,8,9]\n",
    "list_num=[1,2,3,4,5,6,7,8,9]\n",
    "\n",
    "for dan in list_9:\n",
    "    print('{}단====='.format(dan))\n",
    "    cnt1=1\n",
    "    for num in list_num:\n",
    "        if cnt1<3 :\n",
    "            print('{} X {} = {}'.format(dan,num,(dan*num)),end='\\t')\n",
    "            cnt1 +=1\n",
    "        else :\n",
    "            print('{} X {} = {}'.format(dan,num,(dan*num)))\n",
    "            cnt1=1\n",
    "    print()\n",
    "        \n",
    "print('end')"
   ]
  },
  {
   "cell_type": "code",
   "execution_count": null,
   "id": "c06a551a",
   "metadata": {},
   "outputs": [],
   "source": []
  }
 ],
 "metadata": {
  "kernelspec": {
   "display_name": "Python 3 (ipykernel)",
   "language": "python",
   "name": "python3"
  },
  "language_info": {
   "codemirror_mode": {
    "name": "ipython",
    "version": 3
   },
   "file_extension": ".py",
   "mimetype": "text/x-python",
   "name": "python",
   "nbconvert_exporter": "python",
   "pygments_lexer": "ipython3",
   "version": "3.9.12"
  }
 },
 "nbformat": 4,
 "nbformat_minor": 5
}
