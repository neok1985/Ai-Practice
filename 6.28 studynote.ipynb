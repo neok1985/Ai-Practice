{
 "cells": [
  {
   "cell_type": "code",
   "execution_count": 4,
   "id": "0afa67fc",
   "metadata": {},
   "outputs": [
    {
     "name": "stdout",
     "output_type": "stream",
     "text": [
      "reversed nums : <list_reverseiterator object at 0x00000176BB2B5460>\n",
      "6\n",
      "5\n",
      "4\n",
      "3\n",
      "2\n",
      "1\n"
     ]
    },
    {
     "ename": "StopIteration",
     "evalue": "",
     "output_type": "error",
     "traceback": [
      "\u001b[1;31m---------------------------------------------------------------------------\u001b[0m",
      "\u001b[1;31mStopIteration\u001b[0m                             Traceback (most recent call last)",
      "Input \u001b[1;32mIn [4]\u001b[0m, in \u001b[0;36m<cell line: 10>\u001b[1;34m()\u001b[0m\n\u001b[0;32m      8\u001b[0m \u001b[38;5;28mprint\u001b[39m(\u001b[38;5;28mnext\u001b[39m(r_nums))\n\u001b[0;32m      9\u001b[0m \u001b[38;5;28mprint\u001b[39m(\u001b[38;5;28mnext\u001b[39m(r_nums))\n\u001b[1;32m---> 10\u001b[0m \u001b[38;5;28mprint\u001b[39m(\u001b[38;5;28;43mnext\u001b[39;49m\u001b[43m(\u001b[49m\u001b[43mr_nums\u001b[49m\u001b[43m)\u001b[49m)\n",
      "\u001b[1;31mStopIteration\u001b[0m: "
     ]
    }
   ],
   "source": [
    "nums=[1,2,3,4,5,6]\n",
    "r_nums=reversed(nums)\n",
    "print('reversed nums :',r_nums)\n",
    "print(next(r_nums))\n",
    "print(next(r_nums))\n",
    "print(next(r_nums))\n",
    "print(next(r_nums))\n",
    "print(next(r_nums))\n",
    "print(next(r_nums))\n",
    "#print(next(r_nums))"
   ]
  },
  {
   "cell_type": "markdown",
   "id": "eaaf620a",
   "metadata": {},
   "source": [
    "### Chap05. 함수"
   ]
  },
  {
   "cell_type": "code",
   "execution_count": 7,
   "id": "2e43bb6e",
   "metadata": {},
   "outputs": [],
   "source": [
    "#1.함수 만들기 : deg 함수명():\n",
    "#코드 작성...\n",
    "def print_3_times(): #매개변수 없는 함수 정의\n",
    "    print('Hello')\n",
    "    print('Hello')\n",
    "    print('Hello')\n",
    "#함수를 호출하기 전에 함수는 반드시 선언이 되어 있어야 함\n",
    "def print_n_times(value,n):\n",
    "    for i in range(n):\n",
    "        print(value)"
   ]
  },
  {
   "cell_type": "code",
   "execution_count": 10,
   "id": "05c27bce",
   "metadata": {},
   "outputs": [
    {
     "name": "stdout",
     "output_type": "stream",
     "text": [
      "Hello\n",
      "Hello\n",
      "Hello\n",
      "test2\n",
      "test2\n"
     ]
    }
   ],
   "source": [
    "print_3_times()\n",
    "print_n_times('test2',2)"
   ]
  },
  {
   "cell_type": "code",
   "execution_count": null,
   "id": "42394b17",
   "metadata": {},
   "outputs": [],
   "source": [
    "#가변 매개변수 : 함수명(매개변수,...,*가변 매개변수명)\n",
    "def print_n_var_times(n,*values):\n",
    "    for i in range(n):\n",
    "        for value in values:\n",
    "            print(value)\n",
    "        print()"
   ]
  },
  {
   "cell_type": "code",
   "execution_count": null,
   "id": "39608256",
   "metadata": {},
   "outputs": [],
   "source": [
    "#기본 매개변수 : 함수명(매개변수,...,기본매개변수=값)\n",
    "def print_n_times(value,n=2):\n",
    "    for i in range(n):\n",
    "        print(value)\n",
    "    print()"
   ]
  },
  {
   "cell_type": "code",
   "execution_count": null,
   "id": "28984d7e",
   "metadata": {},
   "outputs": [],
   "source": [
    "#기본 매개변수와 가변 매개변수가 같이 오는 경우\n",
    "def print_n_times(n=2,*values):\n",
    "    for i in range(n):\n",
    "        for value in values:\n",
    "            print(value)\n",
    "        print()\n",
    "#가변,기본 순서로 적용해야 기본매개변수를 생략했을시 에러 발생하지 않음\n",
    "#def print_n_times(*values,n=2):  기본매개변수는 항상 n=변수값 의 형식으로 정확하게 사용해야함"
   ]
  },
  {
   "cell_type": "code",
   "execution_count": 11,
   "id": "05960c60",
   "metadata": {},
   "outputs": [
    {
     "name": "stdout",
     "output_type": "stream",
     "text": [
      "60\n",
      "40\n",
      "220\n",
      "320\n"
     ]
    }
   ],
   "source": [
    "#일반 매개변수, 가변 매개변수, 키워드 매개변수\n",
    "def test_func(a,b=10,c=20):\n",
    "    print(a+b+c)\n",
    "test_func(a=10,b=20,c=30)#60\n",
    "test_func(10)#40\n",
    "test_func(c=100,b=20,a=100)\n",
    "test_func(a=10,c=300)"
   ]
  },
  {
   "cell_type": "code",
   "execution_count": null,
   "id": "bab54957",
   "metadata": {},
   "outputs": [],
   "source": [
    "def test_func1(a,b=10,c=20):\n",
    "    return(a+b+c)#함수 호출한 곳으로 값을 돌려 줌\n",
    "a=test_func1(a=10,b=20,c30)\n",
    "b=test_func1(100)\n",
    "print(a,b)\n"
   ]
  },
  {
   "cell_type": "code",
   "execution_count": null,
   "id": "69a97c25",
   "metadata": {},
   "outputs": [],
   "source": [
    "def test_f():\n",
    "    print(atest)#로컬 변수\n",
    "    func_val = 'func var'\n",
    "atest='test'#글로벌 변수\n",
    "test_f()\n",
    "func_val\n",
    "#글로벌 변수는 함수안의 로컬변수로 사용가능 !!그 역으로는 불가능"
   ]
  },
  {
   "cell_type": "code",
   "execution_count": 12,
   "id": "144dd3bb",
   "metadata": {},
   "outputs": [],
   "source": [
    "#start,stop,step을 이용하여 합을 구하는 함수 작성\n",
    "def sum_func(start=0,stop=100, step=1):\n",
    "    total = 0\n",
    "    for i in range(start,stop+1,step):\n",
    "        total+=i\n",
    "    return total"
   ]
  },
  {
   "cell_type": "code",
   "execution_count": 13,
   "id": "4aa98d03",
   "metadata": {},
   "outputs": [
    {
     "name": "stdout",
     "output_type": "stream",
     "text": [
      "0부터 100까지 합을 구함 : 5050\n",
      "0부터 100까지 짝수의 합을 구함: 2550\n",
      "0부터 100까지 홀수의 합을 구함: 2500\n",
      "0부터 50까지 홀수의 합을 구함: 625\n"
     ]
    }
   ],
   "source": [
    "print('0부터 100까지 합을 구함 :',sum_func())\n",
    "print('0부터 100까지 짝수의 합을 구함:',sum_func(step=2))\n",
    "print('0부터 100까지 홀수의 합을 구함:',sum_func(start=1,step=2))\n",
    "print('0부터 50까지 홀수의 합을 구함:',sum_func(start=1,stop=50,step=2))"
   ]
  },
  {
   "cell_type": "code",
   "execution_count": 14,
   "id": "9172377f",
   "metadata": {},
   "outputs": [
    {
     "name": "stdout",
     "output_type": "stream",
     "text": [
      "4!: 24\n"
     ]
    }
   ],
   "source": [
    "# 2.함수의 활용 :자기함수 호출->재귀함수\n",
    "#factorial 함수 정의\n",
    "def fac_func(n):\n",
    "    if n==0:\n",
    "        return 1\n",
    "    else:\n",
    "        return n *fac_func(n-1)\n",
    "\n",
    "    \n",
    "print('4!:',fac_func(4))"
   ]
  },
  {
   "cell_type": "code",
   "execution_count": 17,
   "id": "4e73e276",
   "metadata": {},
   "outputs": [
    {
     "name": "stdout",
     "output_type": "stream",
     "text": [
      "89\n"
     ]
    }
   ],
   "source": [
    "#피보나치를 구하는 함수 작성\n",
    "def fibonacci(n):\n",
    "    if n ==1:\n",
    "        return 1\n",
    "    if n ==2:\n",
    "        return 1\n",
    "    else:\n",
    "        return fibonacci(n-1)+fibonacci(n-2)\n",
    "    \n",
    "print(fibonacci(11))"
   ]
  },
  {
   "cell_type": "code",
   "execution_count": 19,
   "id": "f5f81e7d",
   "metadata": {},
   "outputs": [],
   "source": [
    "#메모화 : 메모 변수를 생성\n",
    "dict_num={1:1,2:1}\n",
    "def fibo_mem(n):\n",
    "    if n in dict_num:\n",
    "        return dict_num[n]\n",
    "    else:\n",
    "        output=fibo_mem(n-1)+fibo_mem(n-2)\n",
    "        dict_num[n]=output\n",
    "        return output"
   ]
  },
  {
   "cell_type": "code",
   "execution_count": 22,
   "id": "deb64f89",
   "metadata": {},
   "outputs": [
    {
     "name": "stdout",
     "output_type": "stream",
     "text": [
      "{1: 1, 2: 1, 3: 2, 4: 3, 5: 5, 6: 8, 7: 13, 8: 21, 9: 34, 10: 55, 11: 89, 12: 144, 13: 233, 14: 377, 15: 610, 16: 987, 17: 1597, 18: 2584, 19: 4181, 20: 6765, 21: 10946, 22: 17711, 23: 28657, 24: 46368, 25: 75025, 26: 121393, 27: 196418, 28: 317811, 29: 514229, 30: 832040, 31: 1346269, 32: 2178309, 33: 3524578, 34: 5702887, 35: 9227465, 36: 14930352, 37: 24157817, 38: 39088169, 39: 63245986, 40: 102334155, 41: 165580141, 42: 267914296, 43: 433494437, 44: 701408733, 45: 1134903170, 46: 1836311903, 47: 2971215073, 48: 4807526976, 49: 7778742049, 50: 12586269025}\n"
     ]
    }
   ],
   "source": [
    "fibo_mem(50)\n",
    "print(dict_num)"
   ]
  },
  {
   "cell_type": "code",
   "execution_count": null,
   "id": "90af18a7",
   "metadata": {},
   "outputs": [],
   "source": [
    "#tuple -> a_tuple=(10,20,30) -> 자료의 수정 불가\n",
    "#for i ,value in enumerate([1,2,3,4]):\n",
    "    "
   ]
  },
  {
   "cell_type": "code",
   "execution_count": 24,
   "id": "6e56c1cb",
   "metadata": {},
   "outputs": [
    {
     "name": "stdout",
     "output_type": "stream",
     "text": [
      "Hello\n",
      "Hello\n",
      "Hello\n",
      "Hello\n",
      "Hello\n"
     ]
    }
   ],
   "source": [
    "#람다 : lambda\n",
    "#함수의 매개변수로 함수명 전달하기\n",
    "def call_times(func):\n",
    "    for i in range(5):\n",
    "        func()\n",
    "def print_hello():\n",
    "    print('Hello')\n",
    "\n",
    "call_times(print_hello)"
   ]
  },
  {
   "cell_type": "code",
   "execution_count": 27,
   "id": "5db2ae99",
   "metadata": {},
   "outputs": [],
   "source": [
    "def power(item):\n",
    "    return item*item\n",
    "def under_3(item):\n",
    "    return item<3"
   ]
  },
  {
   "cell_type": "code",
   "execution_count": 28,
   "id": "3f8a2892",
   "metadata": {},
   "outputs": [
    {
     "name": "stdout",
     "output_type": "stream",
     "text": [
      "[1, 4, 9, 16, 25]\n",
      "[1, 2]\n"
     ]
    }
   ],
   "source": [
    "#map(함수명,리스트)\n",
    "#filter(함수명, 리스트)-> 함수에 조건식으로 return\n",
    "input_list=[1,2,3,4,5]\n",
    "output=map(power,input_list)\n",
    "print(list(output))\n",
    "\n",
    "print(list(filter(under_3, input_list)))"
   ]
  },
  {
   "cell_type": "code",
   "execution_count": 29,
   "id": "82ac6764",
   "metadata": {},
   "outputs": [
    {
     "name": "stdout",
     "output_type": "stream",
     "text": [
      "[1, 4, 9, 16, 25]\n",
      "[1, 2]\n"
     ]
    }
   ],
   "source": [
    "#lambda 매개변수:리턴 값\n",
    "power=lambda x: x*x\n",
    "under_3=lambda x: x<3\n",
    "input_list=[1,2,3,4,5]\n",
    "output=map(power,input_list)\n",
    "print(list(output))\n",
    "\n",
    "print(list(filter(under_3, input_list)))"
   ]
  },
  {
   "cell_type": "code",
   "execution_count": 32,
   "id": "05a2cd21",
   "metadata": {},
   "outputs": [],
   "source": [
    "#파일 처리: open() , file.write(),file.close(),file.read()\n",
    "#현재 경로에서 새로운 디렉토리 dataset 을 생성\n",
    "#dataset 안에 새로운 파일 test.txt파일을 생성\n",
    "#test.txt파일에 'hello python programming'을 작성하고 파일 close()\n",
    "!mkdir dataset\n"
   ]
  },
  {
   "cell_type": "code",
   "execution_count": 33,
   "id": "ae5778f9",
   "metadata": {},
   "outputs": [],
   "source": [
    "file=open('./dataset/test.txt','w')\n",
    "file.write('hello python programming')\n",
    "file.close()"
   ]
  },
  {
   "cell_type": "code",
   "execution_count": 34,
   "id": "457c3a3d",
   "metadata": {},
   "outputs": [
    {
     "ename": "UnsupportedOperation",
     "evalue": "not readable",
     "output_type": "error",
     "traceback": [
      "\u001b[1;31m---------------------------------------------------------------------------\u001b[0m",
      "\u001b[1;31mUnsupportedOperation\u001b[0m                      Traceback (most recent call last)",
      "Input \u001b[1;32mIn [34]\u001b[0m, in \u001b[0;36m<cell line: 2>\u001b[1;34m()\u001b[0m\n\u001b[0;32m      1\u001b[0m file\u001b[38;5;241m=\u001b[39m\u001b[38;5;28mopen\u001b[39m(\u001b[38;5;124m'\u001b[39m\u001b[38;5;124m./dataset/test.txt\u001b[39m\u001b[38;5;124m'\u001b[39m,\u001b[38;5;124m'\u001b[39m\u001b[38;5;124mw\u001b[39m\u001b[38;5;124m'\u001b[39m)\n\u001b[1;32m----> 2\u001b[0m contents \u001b[38;5;241m=\u001b[39m \u001b[43mfile\u001b[49m\u001b[38;5;241;43m.\u001b[39;49m\u001b[43mread\u001b[49m\u001b[43m(\u001b[49m\u001b[43m)\u001b[49m\n\u001b[0;32m      3\u001b[0m \u001b[38;5;28mprint\u001b[39m(contents)\n\u001b[0;32m      4\u001b[0m file\u001b[38;5;241m.\u001b[39mwrite(\u001b[38;5;124m'\u001b[39m\u001b[38;5;130;01m\\n\u001b[39;00m\u001b[38;5;124mhello python programming read\u001b[39m\u001b[38;5;124m'\u001b[39m)\n",
      "\u001b[1;31mUnsupportedOperation\u001b[0m: not readable"
     ]
    }
   ],
   "source": [
    "# file=open('./dataset/test.txt','w')\n",
    "# contents = file.read()\n",
    "# print(contents)\n",
    "# file.write('\\nhello python programming read')\n",
    "# file.close()"
   ]
  },
  {
   "cell_type": "code",
   "execution_count": 37,
   "id": "140ae932",
   "metadata": {},
   "outputs": [
    {
     "name": "stdout",
     "output_type": "stream",
     "text": [
      "main start \n",
      "First \n",
      "1\n",
      "main 111 start\n",
      "second \n",
      "2\n",
      "main 222 start\n",
      "Third \n",
      "3\n"
     ]
    }
   ],
   "source": [
    "#제너레이터 함수 작성 : 함수 내부에 yield 키워드를 사용\n",
    "def gen_test():\n",
    "    print('First ')\n",
    "    yield 1\n",
    "    \n",
    "    print('second ')\n",
    "    yield 2\n",
    "    \n",
    "    print('Third ')\n",
    "    yield 3\n",
    "\n",
    "o_func= gen_test()\n",
    "print('main start ')\n",
    "a=next(o_func)\n",
    "print(a)\n",
    "\n",
    "print('main 111 start')\n",
    "a=next(o_func)\n",
    "print(a)\n",
    "\n",
    "print('main 222 start')\n",
    "a=next(o_func)\n",
    "print(a)"
   ]
  },
  {
   "cell_type": "code",
   "execution_count": 39,
   "id": "e36a8f48",
   "metadata": {},
   "outputs": [
    {
     "name": "stdout",
     "output_type": "stream",
     "text": [
      "{'제목': '혼자공부하는 파이썬', '가격': 18000}\n",
      "{'제목': '혼자공부하는 파이썬2', '가격': 26000}\n"
     ]
    }
   ],
   "source": [
    "books=[{'제목':'혼자공부하는 파이썬','가격':18000},{'제목':'혼자공부하는 파이썬2','가격':26000},{'제목':'혼자공부하는 자바','가격':24000}]\n",
    "#가격이 가장 저렴한 책의 정보 출력\n",
    "print(min(books,key=lambda book: book['가격']))\n",
    "print(max(books,key=lambda book: book['가격']))"
   ]
  },
  {
   "cell_type": "code",
   "execution_count": 40,
   "id": "603ff805",
   "metadata": {},
   "outputs": [
    {
     "data": {
      "text/plain": [
       "[1, 100, 3, 4, 5]"
      ]
     },
     "execution_count": 40,
     "metadata": {},
     "output_type": "execute_result"
    }
   ],
   "source": [
    "a=[1,2,3,4,5]\n",
    "b=a\n",
    "b[1]=100\n",
    "a"
   ]
  },
  {
   "cell_type": "code",
   "execution_count": 41,
   "id": "1b4d1b43",
   "metadata": {},
   "outputs": [
    {
     "name": "stdout",
     "output_type": "stream",
     "text": [
      "a: [1, 100, 3, 4, 5]\n",
      "c: [1, 300, 3, 4, 5]\n"
     ]
    }
   ],
   "source": [
    "c=a.copy()\n",
    "c[1]=300\n",
    "print('a:',a)\n",
    "print('c:',c)"
   ]
  },
  {
   "cell_type": "markdown",
   "id": "5ca75ceb",
   "metadata": {},
   "source": [
    "## Chap 06.예외처리"
   ]
  },
  {
   "cell_type": "code",
   "execution_count": 42,
   "id": "c580c4b4",
   "metadata": {},
   "outputs": [
    {
     "name": "stdout",
     "output_type": "stream",
     "text": [
      "정수 입력 :ㅇㄹ\n",
      "정수가 입력되지 않음\n"
     ]
    }
   ],
   "source": [
    "#실행오류 : try~except~else~finally\n",
    "#실행 오류가 발생할 수 있는 코드 작성\n",
    "#try~ except  -> 기본 구문\n",
    "try:\n",
    "    input_num=int(input('정수 입력 :'))\n",
    "    \n",
    "    print('원의 반지름:', input_num)\n",
    "    print('원의 둘레:',input_num*2*3.14)\n",
    "except:\n",
    "    print('정수가 입력되지 않음')"
   ]
  },
  {
   "cell_type": "code",
   "execution_count": null,
   "id": "b1b1af6a",
   "metadata": {},
   "outputs": [],
   "source": [
    "try:\n",
    "    input_num=int(input('정수 입력 :'))\n",
    "    \n",
    "    print('원의 반지름:', input_num)\n",
    "    print('원의 둘레:',input_num*2*3.14)\n",
    "except:\n",
    "    print('정수가 입력되지 않음')"
   ]
  },
  {
   "cell_type": "code",
   "execution_count": 43,
   "id": "22c4f5b8",
   "metadata": {},
   "outputs": [
    {
     "name": "stdout",
     "output_type": "stream",
     "text": [
      "이름 성적 입력ㅇㄹ\n",
      "입력 자료 검토중\n"
     ]
    },
    {
     "data": {
      "text/plain": [
       "5"
      ]
     },
     "execution_count": 43,
     "metadata": {},
     "output_type": "execute_result"
    }
   ],
   "source": [
    "#file 처리시 예외 처리 응용\n",
    "try:\n",
    "    file=open('./dataset/try.txt','w')\n",
    "    input_data=input('이름 성적 입력').split()\n",
    "    score=int(input_data[1])\n",
    "    file.write('input_data' + str(score))\n",
    "except:\n",
    "    print('입력 자료 검토중')\n",
    "file.write('\\nend\\n')"
   ]
  },
  {
   "cell_type": "code",
   "execution_count": 44,
   "id": "74cde738",
   "metadata": {},
   "outputs": [
    {
     "name": "stdout",
     "output_type": "stream",
     "text": [
      "try 구문 실행\n"
     ]
    }
   ],
   "source": [
    "def test_func1():\n",
    "    try :\n",
    "        print('try 구문 실행')\n",
    "        return\n",
    "    except:\n",
    "        print('except 구문 실행')\n",
    "    else:\n",
    "        print('else 구문 실행')\n",
    "    finally:\n",
    "        ('try end!!')\n",
    "        \n",
    "test_func1()"
   ]
  },
  {
   "cell_type": "code",
   "execution_count": null,
   "id": "a7210d7d",
   "metadata": {},
   "outputs": [],
   "source": []
  }
 ],
 "metadata": {
  "kernelspec": {
   "display_name": "Python 3 (ipykernel)",
   "language": "python",
   "name": "python3"
  },
  "language_info": {
   "codemirror_mode": {
    "name": "ipython",
    "version": 3
   },
   "file_extension": ".py",
   "mimetype": "text/x-python",
   "name": "python",
   "nbconvert_exporter": "python",
   "pygments_lexer": "ipython3",
   "version": "3.9.12"
  }
 },
 "nbformat": 4,
 "nbformat_minor": 5
}
