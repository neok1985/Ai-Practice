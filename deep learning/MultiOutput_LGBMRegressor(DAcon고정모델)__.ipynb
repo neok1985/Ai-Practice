{
 "cells": [
  {
   "cell_type": "markdown",
   "metadata": {
    "id": "PeoKGyqLhIxA"
   },
   "source": [
    "# **환경설정**"
   ]
  },
  {
   "cell_type": "code",
   "execution_count": 1,
   "metadata": {
    "id": "sZ8_mpZvi98R"
   },
   "outputs": [],
   "source": [
    "# 데이터 불러오기\n",
    "import pandas as pd\n",
    "import numpy as np\n",
    "import random as rnd\n",
    "\n",
    "# 시각화\n",
    "import seaborn as sns\n",
    "import matplotlib.pyplot as plt\n",
    "%matplotlib inline\n",
    "\n",
    "# 머신러닝\n",
    "from sklearn.linear_model import LogisticRegression\n",
    "from sklearn.svm import SVC, LinearSVC\n",
    "from sklearn.ensemble import RandomForestClassifier\n",
    "from sklearn.neighbors import KNeighborsClassifier\n",
    "from sklearn.naive_bayes import GaussianNB\n",
    "from sklearn.linear_model import Perceptron\n",
    "from sklearn.linear_model import SGDClassifier\n",
    "from sklearn.tree import DecisionTreeClassifier\n",
    "\n",
    "import pandas as pd\n",
    "import random\n",
    "import os\n",
    "import numpy as np\n",
    "\n",
    "from sklearn.linear_model import LinearRegression\n",
    "from sklearn.multioutput import MultiOutputRegressor\n",
    "\n",
    "import matplotlib.pyplot as plt\n",
    "\n",
    "import xgboost as xgb"
   ]
  },
  {
   "cell_type": "markdown",
   "metadata": {
    "id": "i07GOTGuhNpN"
   },
   "source": [
    "# **Data Load**"
   ]
  },
  {
   "cell_type": "code",
   "execution_count": 2,
   "metadata": {
    "id": "fRDnjx5xkZ5c"
   },
   "outputs": [],
   "source": [
    "train_df=pd.read_csv(\"C:/Users/hcwan/Downloads/open/train.csv\")\n",
    "test_df=pd.read_csv(\"C:/Users/hcwan/Downloads/open/test.csv\")"
   ]
  },
  {
   "cell_type": "code",
   "execution_count": 3,
   "metadata": {
    "id": "-K-6bLkHkc2V"
   },
   "outputs": [],
   "source": [
    "train_x = train_df.filter(regex='X') # Input : X Featrue\n",
    "train_y = train_df.filter(regex='Y') # Output : Y Feature"
   ]
  },
  {
   "cell_type": "code",
   "execution_count": null,
   "metadata": {
    "colab": {
     "base_uri": "https://localhost:8080/"
    },
    "id": "nilOZJhq6xa3",
    "outputId": "f1114ab6-95ab-4e7d-91b1-f73e172da1af"
   },
   "outputs": [
    {
     "data": {
      "text/plain": [
       "(39607, 56)"
      ]
     },
     "execution_count": 4,
     "metadata": {},
     "output_type": "execute_result"
    }
   ],
   "source": [
    "train_x.shape"
   ]
  },
  {
   "cell_type": "code",
   "execution_count": null,
   "metadata": {
    "id": "yHfPIpe06MdX"
   },
   "outputs": [],
   "source": [
    "# train_x2 = train_x.copy()\n",
    "# train_x2.drop([\"X_04\",\"X_10\",\"X_11\",\"X_23\",\"X_47\",\"X_48\"],axis=1,inplace=True)"
   ]
  },
  {
   "cell_type": "code",
   "execution_count": null,
   "metadata": {
    "id": "wAmbsJXN7cEW"
   },
   "outputs": [],
   "source": [
    "# train_x2.shape"
   ]
  },
  {
   "cell_type": "code",
   "execution_count": 4,
   "metadata": {
    "id": "kqytvER8dXUK"
   },
   "outputs": [],
   "source": [
    "def seed_everything(seed):\n",
    "    random.seed(seed)\n",
    "    os.environ['PYTHONHASHSEED'] = str(seed)\n",
    "    np.random.seed(seed)\n",
    "seed_everything(42) # Seed 고정"
   ]
  },
  {
   "cell_type": "markdown",
   "metadata": {
    "id": "ixKCI2Q4kukr"
   },
   "source": [
    "# **데이터 전처리**"
   ]
  },
  {
   "cell_type": "code",
   "execution_count": null,
   "metadata": {
    "id": "lS6NdimfgElJ"
   },
   "outputs": [],
   "source": [
    "# from sklearn.preprocessing import MinMaxScaler\n",
    "# min_max_scaler = MinMaxScaler()\n",
    "# fitted = min_max_scaler.fit(train_x2)\n",
    "\n",
    "# output = min_max_scaler.transform(train_x2)\n",
    "# output = pd.DataFrame(output, columns=train_x2.columns, index=list(train_x2.index.values))\n",
    "# print(output.head())"
   ]
  },
  {
   "cell_type": "code",
   "execution_count": null,
   "metadata": {
    "id": "cdxhqWHDkCdI"
   },
   "outputs": [],
   "source": [
    "# from sklearn.preprocessing import StandardScaler\n",
    "# std_scaler = StandardScaler()\n",
    "\n",
    "# fitted = std_scaler.fit(train_x)\n",
    "\n",
    "# output = std_scaler.transform(train_x)\n",
    "# output = pd.DataFrame(output, columns=train_x.columns, index=list(train_x.index.values))\n",
    "# output"
   ]
  },
  {
   "cell_type": "code",
   "execution_count": 5,
   "metadata": {
    "id": "Nbk453wQyPnF"
   },
   "outputs": [],
   "source": [
    "output =train_x.copy()"
   ]
  },
  {
   "cell_type": "code",
   "execution_count": null,
   "metadata": {
    "id": "OftgLWAy9hq6"
   },
   "outputs": [],
   "source": [
    "train_y1 = output.copy()\n",
    "train_y1 = train_y1[[\"X_18\",\"X_20\",\"X_22\"]]\n",
    "\n",
    "train_y2 = output.copy()\n",
    "train_y2 = train_y2[[\"X_18\",\"X_20\",\"X_22\",\"X_14\",\"X_03\"]]\n",
    "\n",
    "train_y3 = output.copy()\n",
    "train_y3 = train_y3[[\"X_18\",\"X_13\"]]\n",
    "\n",
    "train_y4 = output.copy()\n",
    "train_y4 = train_y4[[\"X_30\",\"X_19\",\"X_21\",\"X_32\",\"X_20\",\"X_22\"]]\n",
    "\n",
    "train_y5 = output.copy()\n",
    "train_y5 = train_y5[[\"X_13\",\"X_56\"]]\n",
    "\n",
    "train_y5 = output.copy()\n",
    "train_y5 = train_y5[[\"X_13\",\"X_56\"]]\n",
    "\n",
    "train_y6 = output.copy()\n",
    "train_y6 = train_y6[[\"X_19\",\"X_21\",\"X_20\",\"X_22\"]]\n",
    "\n",
    "train_y6 = output.copy()\n",
    "train_y6 = train_y6[[\"X_19\",\"X_21\",\"X_20\",\"X_22\"]]\n",
    "\n",
    "train_y7 = output.copy()\n",
    "train_y7 = train_y7[[\"X_19\",\"X_13\",\"X_21\",\"X_22\"]]\n",
    "\n",
    "train_y8 = output.copy()\n",
    "train_y8 = train_y8[[\"X_20\",\"X_22\",\"X_21\",\"X_03\",\"X_19\",\"X_40\",\"X_16\",\"X_42\"]]\n",
    "\n",
    "train_y9 = output.copy()\n",
    "train_y9 = train_y9[[\"X_20\",\"X_22\",\"X_21\",\"X_03\",\"X_19\",\"X_40\",\"X_16\",\"X_42\"]]\n",
    "\n",
    "train_y10 = output.copy()\n",
    "train_y10 = train_y10[[\"X_18\",\"X_16\",\"X_14\",\"X_22\",\"X_21\",\"X_03\",\"X_19\",\"X_20\",\"X_17\",\"X_42\",\"X_40\",\"X_44\"]]\n",
    "\n",
    "train_y11 = output.copy()\n",
    "train_y11 = train_y11[[\"X_17\",\"X_13\",\"X_20\"]]\n",
    "\n",
    "train_y12 = output.copy()\n",
    "train_y12 = train_y12[[\"X_20\",\"X_22\",\"X_21\",\"X_03\",\"X_19\",\"X_40\",\"X_16\",\"X_42\"]]\n",
    "\n",
    "train_y13 = output.copy()\n",
    "train_y13 = train_y13[[\"X_20\",\"X_22\",\"X_21\",\"X_03\",\"X_19\",\"X_40\",\"X_16\",\"X_42\"]]\n",
    "\n",
    "train_y14 = output.copy()\n",
    "train_y14 = train_y14[[\"X_20\",\"X_22\",\"X_21\",\"X_03\",\"X_19\",\"X_40\",\"X_16\",\"X_42\"]]"
   ]
  },
  {
   "cell_type": "code",
   "execution_count": null,
   "metadata": {
    "id": "-nitwc14FNj5"
   },
   "outputs": [],
   "source": [
    "train_y_1 = train_y.copy()\n",
    "train_y_1 = train_y_1[['Y_01']]\n",
    "\n",
    "train_y_2 = train_y.copy()\n",
    "train_y_2 = train_y_2[['Y_02']]\n",
    "\n",
    "train_y_3 = train_y.copy()\n",
    "train_y_3 = train_y_3[['Y_03']]\n",
    "\n",
    "train_y_4 = train_y.copy()\n",
    "train_y_4 = train_y_4[['Y_04']]\n",
    "\n",
    "train_y_5 = train_y.copy()\n",
    "train_y_5 = train_y_5[['Y_05']]\n",
    "\n",
    "train_y_6 = train_y.copy()\n",
    "train_y_6 = train_y_6[['Y_06']]\n",
    "\n",
    "train_y_7 = train_y.copy()\n",
    "train_y_7 = train_y_7[['Y_07']]\n",
    "\n",
    "train_y_8 = train_y.copy()\n",
    "train_y_8 = train_y_8[['Y_08']]\n",
    "\n",
    "train_y_9 = train_y.copy()\n",
    "train_y_9 = train_y_9[['Y_09']]\n",
    "\n",
    "train_y_10 = train_y.copy()\n",
    "train_y_10 = train_y_10[['Y_10']]\n",
    "\n",
    "train_y_11 = train_y.copy()\n",
    "train_y_11 = train_y_11[['Y_11']]\n",
    "\n",
    "train_y_12 = train_y.copy()\n",
    "train_y_12 = train_y_12[['Y_12']]\n",
    "\n",
    "train_y_13 = train_y.copy()\n",
    "train_y_13 = train_y_13[['Y_13']]\n",
    "\n",
    "train_y_14 = train_y.copy()\n",
    "train_y_14 = train_y_14[['Y_14']]"
   ]
  },
  {
   "cell_type": "markdown",
   "metadata": {
    "id": "fqRmEi4llk13"
   },
   "source": [
    "# **Regression Model Fit**"
   ]
  },
  {
   "cell_type": "code",
   "execution_count": null,
   "metadata": {
    "colab": {
     "base_uri": "https://localhost:8080/"
    },
    "id": "oqixdzDoly72",
    "outputId": "083d3e68-cb08-49a1-8745-e35733f92a0e"
   },
   "outputs": [
    {
     "name": "stderr",
     "output_type": "stream",
     "text": [
      "/usr/local/lib/python3.7/dist-packages/lightgbm/engine.py:118: UserWarning: Found `num_iterations` in params. Will use it instead of argument\n",
      "  warnings.warn(\"Found `{}` in params. Will use it instead of argument\".format(alias))\n",
      "/usr/local/lib/python3.7/dist-packages/lightgbm/engine.py:118: UserWarning: Found `num_iterations` in params. Will use it instead of argument\n",
      "  warnings.warn(\"Found `{}` in params. Will use it instead of argument\".format(alias))\n",
      "/usr/local/lib/python3.7/dist-packages/lightgbm/engine.py:118: UserWarning: Found `num_iterations` in params. Will use it instead of argument\n",
      "  warnings.warn(\"Found `{}` in params. Will use it instead of argument\".format(alias))\n",
      "/usr/local/lib/python3.7/dist-packages/lightgbm/engine.py:118: UserWarning: Found `num_iterations` in params. Will use it instead of argument\n",
      "  warnings.warn(\"Found `{}` in params. Will use it instead of argument\".format(alias))\n",
      "/usr/local/lib/python3.7/dist-packages/lightgbm/engine.py:118: UserWarning: Found `num_iterations` in params. Will use it instead of argument\n",
      "  warnings.warn(\"Found `{}` in params. Will use it instead of argument\".format(alias))\n",
      "/usr/local/lib/python3.7/dist-packages/lightgbm/engine.py:118: UserWarning: Found `num_iterations` in params. Will use it instead of argument\n",
      "  warnings.warn(\"Found `{}` in params. Will use it instead of argument\".format(alias))\n",
      "/usr/local/lib/python3.7/dist-packages/lightgbm/engine.py:118: UserWarning: Found `num_iterations` in params. Will use it instead of argument\n",
      "  warnings.warn(\"Found `{}` in params. Will use it instead of argument\".format(alias))\n",
      "/usr/local/lib/python3.7/dist-packages/lightgbm/engine.py:118: UserWarning: Found `num_iterations` in params. Will use it instead of argument\n",
      "  warnings.warn(\"Found `{}` in params. Will use it instead of argument\".format(alias))\n",
      "/usr/local/lib/python3.7/dist-packages/lightgbm/engine.py:118: UserWarning: Found `num_iterations` in params. Will use it instead of argument\n",
      "  warnings.warn(\"Found `{}` in params. Will use it instead of argument\".format(alias))\n",
      "/usr/local/lib/python3.7/dist-packages/lightgbm/engine.py:118: UserWarning: Found `num_iterations` in params. Will use it instead of argument\n",
      "  warnings.warn(\"Found `{}` in params. Will use it instead of argument\".format(alias))\n",
      "/usr/local/lib/python3.7/dist-packages/lightgbm/engine.py:118: UserWarning: Found `num_iterations` in params. Will use it instead of argument\n",
      "  warnings.warn(\"Found `{}` in params. Will use it instead of argument\".format(alias))\n",
      "/usr/local/lib/python3.7/dist-packages/lightgbm/engine.py:118: UserWarning: Found `num_iterations` in params. Will use it instead of argument\n",
      "  warnings.warn(\"Found `{}` in params. Will use it instead of argument\".format(alias))\n",
      "/usr/local/lib/python3.7/dist-packages/lightgbm/engine.py:118: UserWarning: Found `num_iterations` in params. Will use it instead of argument\n",
      "  warnings.warn(\"Found `{}` in params. Will use it instead of argument\".format(alias))\n",
      "/usr/local/lib/python3.7/dist-packages/lightgbm/engine.py:118: UserWarning: Found `num_iterations` in params. Will use it instead of argument\n",
      "  warnings.warn(\"Found `{}` in params. Will use it instead of argument\".format(alias))\n"
     ]
    },
    {
     "data": {
      "text/plain": [
       "MultiOutputRegressor(estimator=LGBMRegressor(bagging_fraction=0.3,\n",
       "                                             feature_fraction=0.8,\n",
       "                                             kernel_initializer='he_uniform',\n",
       "                                             learning_rate=0.008,\n",
       "                                             loss='mean_squared_error',\n",
       "                                             max_depth=4, max_iter=10000,\n",
       "                                             num_iterations=1000,\n",
       "                                             optimizer='adam', tol=None))"
      ]
     },
     "execution_count": 17,
     "metadata": {},
     "output_type": "execute_result"
    }
   ],
   "source": [
    "import lightgbm as lgb\n",
    "from lightgbm import LGBMRegressor\n",
    "\n",
    "clf1 = MultiOutputRegressor(lgb.LGBMRegressor(optimizer='adam',loss='mean_squared_error',kernel_initializer='he_uniform',tol=None,max_iter=10000,learning_rate=0.008,num_iterations=1000,max_depth=4,bagging_fraction=0.3,feature_fraction=0.8))\n",
    "clf1.fit(train_y1,train_y_1)\n",
    "clf2 = MultiOutputRegressor(lgb.LGBMRegressor(optimizer='adam',loss='mean_squared_error',kernel_initializer='he_uniform',tol=None,max_iter=10000,learning_rate=0.008,num_iterations=1000,max_depth=4,bagging_fraction=0.3,feature_fraction=0.8))\n",
    "clf2.fit(train_y2,train_y_2)\n",
    "clf3 = MultiOutputRegressor(lgb.LGBMRegressor(optimizer='adam',loss='mean_squared_error',kernel_initializer='he_uniform',tol=None,max_iter=10000,learning_rate=0.008,num_iterations=1000,max_depth=4,bagging_fraction=0.3,feature_fraction=0.8))\n",
    "clf3.fit(train_y3,train_y_3)\n",
    "clf4= MultiOutputRegressor(lgb.LGBMRegressor(optimizer='adam',loss='mean_squared_error',kernel_initializer='he_uniform',tol=None,max_iter=10000,learning_rate=0.008,num_iterations=1000,max_depth=4,bagging_fraction=0.3,feature_fraction=0.8))\n",
    "clf4.fit(train_y4,train_y_4)\n",
    "clf5 = MultiOutputRegressor(lgb.LGBMRegressor(optimizer='adam',loss='mean_squared_error',kernel_initializer='he_uniform',tol=None,max_iter=10000,learning_rate=0.008,num_iterations=1000,max_depth=4,bagging_fraction=0.3,feature_fraction=0.8))\n",
    "clf5.fit(train_y5,train_y_5)\n",
    "clf6 = MultiOutputRegressor(lgb.LGBMRegressor(optimizer='adam',loss='mean_squared_error',kernel_initializer='he_uniform',tol=None,max_iter=10000,learning_rate=0.008,num_iterations=1000,max_depth=4,bagging_fraction=0.3,feature_fraction=0.8))\n",
    "clf6.fit(train_y6,train_y_6)\n",
    "clf7 = MultiOutputRegressor(lgb.LGBMRegressor(optimizer='adam',loss='mean_squared_error',kernel_initializer='he_uniform',tol=None,max_iter=10000,learning_rate=0.008,num_iterations=1000,max_depth=4,bagging_fraction=0.3,feature_fraction=0.8))\n",
    "clf7.fit(train_y7,train_y_7)\n",
    "clf8 = MultiOutputRegressor(lgb.LGBMRegressor(optimizer='adam',loss='mean_squared_error',kernel_initializer='he_uniform',tol=None,max_iter=10000,learning_rate=0.008,num_iterations=1000,max_depth=4,bagging_fraction=0.3,feature_fraction=0.8))\n",
    "clf8.fit(train_y8,train_y_8)\n",
    "clf9 = MultiOutputRegressor(lgb.LGBMRegressor(optimizer='adam',loss='mean_squared_error',kernel_initializer='he_uniform',tol=None,max_iter=10000,learning_rate=0.008,num_iterations=1000,max_depth=4,bagging_fraction=0.3,feature_fraction=0.8))\n",
    "clf9.fit(train_y9,train_y_9)\n",
    "clf10 = MultiOutputRegressor(lgb.LGBMRegressor(optimizer='adam',loss='mean_squared_error',kernel_initializer='he_uniform',tol=None,max_iter=10000,learning_rate=0.008,num_iterations=1000,max_depth=4,bagging_fraction=0.3,feature_fraction=0.8))\n",
    "clf10.fit(train_y10,train_y_10)\n",
    "clf11 = MultiOutputRegressor(lgb.LGBMRegressor(optimizer='adam',loss='mean_squared_error',kernel_initializer='he_uniform',tol=None,max_iter=10000,learning_rate=0.008,num_iterations=1000,max_depth=4,bagging_fraction=0.3,feature_fraction=0.8))\n",
    "clf11.fit(train_y11,train_y_11)\n",
    "clf12 = MultiOutputRegressor(lgb.LGBMRegressor(optimizer='adam',loss='mean_squared_error',kernel_initializer='he_uniform',tol=None,max_iter=10000,learning_rate=0.008,num_iterations=1000,max_depth=4,bagging_fraction=0.3,feature_fraction=0.8))\n",
    "clf12.fit(train_y12,train_y_12)\n",
    "clf13 = MultiOutputRegressor(lgb.LGBMRegressor(optimizer='adam',loss='mean_squared_error',kernel_initializer='he_uniform',tol=None,max_iter=10000,learning_rate=0.008,num_iterations=1000,max_depth=4,bagging_fraction=0.3,feature_fraction=0.8))\n",
    "clf13.fit(train_y13,train_y_13)\n",
    "clf14 = MultiOutputRegressor(lgb.LGBMRegressor(optimizer='adam',loss='mean_squared_error',kernel_initializer='he_uniform',tol=None,max_iter=10000,learning_rate=0.008,num_iterations=1000,max_depth=4,bagging_fraction=0.3,feature_fraction=0.8))\n",
    "clf14.fit(train_y14,train_y_14)"
   ]
  },
  {
   "cell_type": "markdown",
   "metadata": {
    "id": "9VeDYjhgeBYB"
   },
   "source": [
    "# **Inference**"
   ]
  },
  {
   "cell_type": "code",
   "execution_count": null,
   "metadata": {
    "id": "ik53_gNYcsBl"
   },
   "outputs": [],
   "source": [
    "test_x = pd.read_csv('./test.csv').drop(columns=['ID'])"
   ]
  },
  {
   "cell_type": "code",
   "execution_count": null,
   "metadata": {
    "colab": {
     "base_uri": "https://localhost:8080/",
     "height": 488
    },
    "id": "cuSvrne9MgC1",
    "outputId": "9ccebe4c-a5b4-4549-8320-7d6127daaf72"
   },
   "outputs": [
    {
     "data": {
      "text/html": [
       "\n",
       "  <div id=\"df-cf84ecc9-49fe-4592-96f9-1e6de8400d8f\">\n",
       "    <div class=\"colab-df-container\">\n",
       "      <div>\n",
       "<style scoped>\n",
       "    .dataframe tbody tr th:only-of-type {\n",
       "        vertical-align: middle;\n",
       "    }\n",
       "\n",
       "    .dataframe tbody tr th {\n",
       "        vertical-align: top;\n",
       "    }\n",
       "\n",
       "    .dataframe thead th {\n",
       "        text-align: right;\n",
       "    }\n",
       "</style>\n",
       "<table border=\"1\" class=\"dataframe\">\n",
       "  <thead>\n",
       "    <tr style=\"text-align: right;\">\n",
       "      <th></th>\n",
       "      <th>X_01</th>\n",
       "      <th>X_02</th>\n",
       "      <th>X_03</th>\n",
       "      <th>X_04</th>\n",
       "      <th>X_05</th>\n",
       "      <th>X_06</th>\n",
       "      <th>X_07</th>\n",
       "      <th>X_08</th>\n",
       "      <th>X_09</th>\n",
       "      <th>X_10</th>\n",
       "      <th>...</th>\n",
       "      <th>X_47</th>\n",
       "      <th>X_48</th>\n",
       "      <th>X_49</th>\n",
       "      <th>X_50</th>\n",
       "      <th>X_51</th>\n",
       "      <th>X_52</th>\n",
       "      <th>X_53</th>\n",
       "      <th>X_54</th>\n",
       "      <th>X_55</th>\n",
       "      <th>X_56</th>\n",
       "    </tr>\n",
       "  </thead>\n",
       "  <tbody>\n",
       "    <tr>\n",
       "      <th>0</th>\n",
       "      <td>70.544</td>\n",
       "      <td>103.320</td>\n",
       "      <td>67.47</td>\n",
       "      <td>1.0</td>\n",
       "      <td>101.892</td>\n",
       "      <td>74.983</td>\n",
       "      <td>29.45</td>\n",
       "      <td>62.38</td>\n",
       "      <td>245.71</td>\n",
       "      <td>0.0</td>\n",
       "      <td>...</td>\n",
       "      <td>1.0</td>\n",
       "      <td>1.0</td>\n",
       "      <td>9706.03</td>\n",
       "      <td>137.043591</td>\n",
       "      <td>135.359219</td>\n",
       "      <td>147.837968</td>\n",
       "      <td>134.313475</td>\n",
       "      <td>125.605427</td>\n",
       "      <td>136.721425</td>\n",
       "      <td>125.028256</td>\n",
       "    </tr>\n",
       "    <tr>\n",
       "      <th>1</th>\n",
       "      <td>69.524</td>\n",
       "      <td>103.321</td>\n",
       "      <td>65.17</td>\n",
       "      <td>1.0</td>\n",
       "      <td>101.944</td>\n",
       "      <td>72.943</td>\n",
       "      <td>28.73</td>\n",
       "      <td>61.23</td>\n",
       "      <td>233.61</td>\n",
       "      <td>0.0</td>\n",
       "      <td>...</td>\n",
       "      <td>1.0</td>\n",
       "      <td>1.0</td>\n",
       "      <td>10423.43</td>\n",
       "      <td>133.736691</td>\n",
       "      <td>135.979817</td>\n",
       "      <td>149.924692</td>\n",
       "      <td>123.630583</td>\n",
       "      <td>127.893337</td>\n",
       "      <td>143.322659</td>\n",
       "      <td>124.877308</td>\n",
       "    </tr>\n",
       "    <tr>\n",
       "      <th>2</th>\n",
       "      <td>72.583</td>\n",
       "      <td>103.320</td>\n",
       "      <td>64.07</td>\n",
       "      <td>1.0</td>\n",
       "      <td>103.153</td>\n",
       "      <td>72.943</td>\n",
       "      <td>28.81</td>\n",
       "      <td>105.77</td>\n",
       "      <td>272.20</td>\n",
       "      <td>0.0</td>\n",
       "      <td>...</td>\n",
       "      <td>1.0</td>\n",
       "      <td>1.0</td>\n",
       "      <td>10948.53</td>\n",
       "      <td>132.805112</td>\n",
       "      <td>131.055355</td>\n",
       "      <td>146.814592</td>\n",
       "      <td>128.939070</td>\n",
       "      <td>127.012195</td>\n",
       "      <td>140.395688</td>\n",
       "      <td>122.238232</td>\n",
       "    </tr>\n",
       "    <tr>\n",
       "      <th>3</th>\n",
       "      <td>71.563</td>\n",
       "      <td>103.320</td>\n",
       "      <td>67.57</td>\n",
       "      <td>1.0</td>\n",
       "      <td>101.971</td>\n",
       "      <td>77.022</td>\n",
       "      <td>28.92</td>\n",
       "      <td>115.21</td>\n",
       "      <td>255.36</td>\n",
       "      <td>0.0</td>\n",
       "      <td>...</td>\n",
       "      <td>1.0</td>\n",
       "      <td>1.0</td>\n",
       "      <td>15007.03</td>\n",
       "      <td>134.138760</td>\n",
       "      <td>133.239422</td>\n",
       "      <td>139.720132</td>\n",
       "      <td>132.260824</td>\n",
       "      <td>130.723186</td>\n",
       "      <td>147.624829</td>\n",
       "      <td>134.875225</td>\n",
       "    </tr>\n",
       "    <tr>\n",
       "      <th>4</th>\n",
       "      <td>69.524</td>\n",
       "      <td>103.320</td>\n",
       "      <td>63.57</td>\n",
       "      <td>1.0</td>\n",
       "      <td>101.981</td>\n",
       "      <td>70.904</td>\n",
       "      <td>29.68</td>\n",
       "      <td>103.38</td>\n",
       "      <td>241.46</td>\n",
       "      <td>0.0</td>\n",
       "      <td>...</td>\n",
       "      <td>1.0</td>\n",
       "      <td>1.0</td>\n",
       "      <td>11051.03</td>\n",
       "      <td>142.728970</td>\n",
       "      <td>136.620022</td>\n",
       "      <td>134.853555</td>\n",
       "      <td>134.760252</td>\n",
       "      <td>125.647793</td>\n",
       "      <td>139.331105</td>\n",
       "      <td>123.272762</td>\n",
       "    </tr>\n",
       "    <tr>\n",
       "      <th>...</th>\n",
       "      <td>...</td>\n",
       "      <td>...</td>\n",
       "      <td>...</td>\n",
       "      <td>...</td>\n",
       "      <td>...</td>\n",
       "      <td>...</td>\n",
       "      <td>...</td>\n",
       "      <td>...</td>\n",
       "      <td>...</td>\n",
       "      <td>...</td>\n",
       "      <td>...</td>\n",
       "      <td>...</td>\n",
       "      <td>...</td>\n",
       "      <td>...</td>\n",
       "      <td>...</td>\n",
       "      <td>...</td>\n",
       "      <td>...</td>\n",
       "      <td>...</td>\n",
       "      <td>...</td>\n",
       "      <td>...</td>\n",
       "      <td>...</td>\n",
       "    </tr>\n",
       "    <tr>\n",
       "      <th>39603</th>\n",
       "      <td>66.465</td>\n",
       "      <td>103.321</td>\n",
       "      <td>62.77</td>\n",
       "      <td>1.0</td>\n",
       "      <td>102.021</td>\n",
       "      <td>66.825</td>\n",
       "      <td>29.21</td>\n",
       "      <td>102.25</td>\n",
       "      <td>270.67</td>\n",
       "      <td>0.0</td>\n",
       "      <td>...</td>\n",
       "      <td>1.0</td>\n",
       "      <td>1.0</td>\n",
       "      <td>60763.43</td>\n",
       "      <td>127.633885</td>\n",
       "      <td>120.158764</td>\n",
       "      <td>142.667802</td>\n",
       "      <td>122.465490</td>\n",
       "      <td>122.987209</td>\n",
       "      <td>143.090741</td>\n",
       "      <td>122.811413</td>\n",
       "    </tr>\n",
       "    <tr>\n",
       "      <th>39604</th>\n",
       "      <td>68.504</td>\n",
       "      <td>103.320</td>\n",
       "      <td>64.67</td>\n",
       "      <td>1.0</td>\n",
       "      <td>103.144</td>\n",
       "      <td>68.864</td>\n",
       "      <td>29.96</td>\n",
       "      <td>102.61</td>\n",
       "      <td>198.07</td>\n",
       "      <td>0.0</td>\n",
       "      <td>...</td>\n",
       "      <td>1.0</td>\n",
       "      <td>1.0</td>\n",
       "      <td>8813.33</td>\n",
       "      <td>132.501286</td>\n",
       "      <td>136.893025</td>\n",
       "      <td>134.419328</td>\n",
       "      <td>129.115431</td>\n",
       "      <td>130.920147</td>\n",
       "      <td>140.489232</td>\n",
       "      <td>119.166699</td>\n",
       "    </tr>\n",
       "    <tr>\n",
       "      <th>39605</th>\n",
       "      <td>66.465</td>\n",
       "      <td>103.320</td>\n",
       "      <td>63.67</td>\n",
       "      <td>1.0</td>\n",
       "      <td>102.025</td>\n",
       "      <td>67.845</td>\n",
       "      <td>30.30</td>\n",
       "      <td>112.60</td>\n",
       "      <td>275.52</td>\n",
       "      <td>0.0</td>\n",
       "      <td>...</td>\n",
       "      <td>1.0</td>\n",
       "      <td>1.0</td>\n",
       "      <td>62222.33</td>\n",
       "      <td>128.189679</td>\n",
       "      <td>121.495930</td>\n",
       "      <td>141.288011</td>\n",
       "      <td>130.141676</td>\n",
       "      <td>125.518825</td>\n",
       "      <td>136.603634</td>\n",
       "      <td>124.525929</td>\n",
       "    </tr>\n",
       "    <tr>\n",
       "      <th>39606</th>\n",
       "      <td>66.465</td>\n",
       "      <td>103.320</td>\n",
       "      <td>65.67</td>\n",
       "      <td>1.0</td>\n",
       "      <td>102.004</td>\n",
       "      <td>69.884</td>\n",
       "      <td>30.16</td>\n",
       "      <td>112.90</td>\n",
       "      <td>276.06</td>\n",
       "      <td>0.0</td>\n",
       "      <td>...</td>\n",
       "      <td>1.0</td>\n",
       "      <td>1.0</td>\n",
       "      <td>62172.23</td>\n",
       "      <td>135.096272</td>\n",
       "      <td>122.988476</td>\n",
       "      <td>142.019357</td>\n",
       "      <td>123.752157</td>\n",
       "      <td>130.648365</td>\n",
       "      <td>139.695370</td>\n",
       "      <td>136.714504</td>\n",
       "    </tr>\n",
       "    <tr>\n",
       "      <th>39607</th>\n",
       "      <td>NaN</td>\n",
       "      <td>NaN</td>\n",
       "      <td>NaN</td>\n",
       "      <td>NaN</td>\n",
       "      <td>NaN</td>\n",
       "      <td>NaN</td>\n",
       "      <td>NaN</td>\n",
       "      <td>NaN</td>\n",
       "      <td>NaN</td>\n",
       "      <td>NaN</td>\n",
       "      <td>...</td>\n",
       "      <td>NaN</td>\n",
       "      <td>NaN</td>\n",
       "      <td>NaN</td>\n",
       "      <td>NaN</td>\n",
       "      <td>NaN</td>\n",
       "      <td>NaN</td>\n",
       "      <td>NaN</td>\n",
       "      <td>NaN</td>\n",
       "      <td>NaN</td>\n",
       "      <td>NaN</td>\n",
       "    </tr>\n",
       "  </tbody>\n",
       "</table>\n",
       "<p>39608 rows × 56 columns</p>\n",
       "</div>\n",
       "      <button class=\"colab-df-convert\" onclick=\"convertToInteractive('df-cf84ecc9-49fe-4592-96f9-1e6de8400d8f')\"\n",
       "              title=\"Convert this dataframe to an interactive table.\"\n",
       "              style=\"display:none;\">\n",
       "        \n",
       "  <svg xmlns=\"http://www.w3.org/2000/svg\" height=\"24px\"viewBox=\"0 0 24 24\"\n",
       "       width=\"24px\">\n",
       "    <path d=\"M0 0h24v24H0V0z\" fill=\"none\"/>\n",
       "    <path d=\"M18.56 5.44l.94 2.06.94-2.06 2.06-.94-2.06-.94-.94-2.06-.94 2.06-2.06.94zm-11 1L8.5 8.5l.94-2.06 2.06-.94-2.06-.94L8.5 2.5l-.94 2.06-2.06.94zm10 10l.94 2.06.94-2.06 2.06-.94-2.06-.94-.94-2.06-.94 2.06-2.06.94z\"/><path d=\"M17.41 7.96l-1.37-1.37c-.4-.4-.92-.59-1.43-.59-.52 0-1.04.2-1.43.59L10.3 9.45l-7.72 7.72c-.78.78-.78 2.05 0 2.83L4 21.41c.39.39.9.59 1.41.59.51 0 1.02-.2 1.41-.59l7.78-7.78 2.81-2.81c.8-.78.8-2.07 0-2.86zM5.41 20L4 18.59l7.72-7.72 1.47 1.35L5.41 20z\"/>\n",
       "  </svg>\n",
       "      </button>\n",
       "      \n",
       "  <style>\n",
       "    .colab-df-container {\n",
       "      display:flex;\n",
       "      flex-wrap:wrap;\n",
       "      gap: 12px;\n",
       "    }\n",
       "\n",
       "    .colab-df-convert {\n",
       "      background-color: #E8F0FE;\n",
       "      border: none;\n",
       "      border-radius: 50%;\n",
       "      cursor: pointer;\n",
       "      display: none;\n",
       "      fill: #1967D2;\n",
       "      height: 32px;\n",
       "      padding: 0 0 0 0;\n",
       "      width: 32px;\n",
       "    }\n",
       "\n",
       "    .colab-df-convert:hover {\n",
       "      background-color: #E2EBFA;\n",
       "      box-shadow: 0px 1px 2px rgba(60, 64, 67, 0.3), 0px 1px 3px 1px rgba(60, 64, 67, 0.15);\n",
       "      fill: #174EA6;\n",
       "    }\n",
       "\n",
       "    [theme=dark] .colab-df-convert {\n",
       "      background-color: #3B4455;\n",
       "      fill: #D2E3FC;\n",
       "    }\n",
       "\n",
       "    [theme=dark] .colab-df-convert:hover {\n",
       "      background-color: #434B5C;\n",
       "      box-shadow: 0px 1px 3px 1px rgba(0, 0, 0, 0.15);\n",
       "      filter: drop-shadow(0px 1px 2px rgba(0, 0, 0, 0.3));\n",
       "      fill: #FFFFFF;\n",
       "    }\n",
       "  </style>\n",
       "\n",
       "      <script>\n",
       "        const buttonEl =\n",
       "          document.querySelector('#df-cf84ecc9-49fe-4592-96f9-1e6de8400d8f button.colab-df-convert');\n",
       "        buttonEl.style.display =\n",
       "          google.colab.kernel.accessAllowed ? 'block' : 'none';\n",
       "\n",
       "        async function convertToInteractive(key) {\n",
       "          const element = document.querySelector('#df-cf84ecc9-49fe-4592-96f9-1e6de8400d8f');\n",
       "          const dataTable =\n",
       "            await google.colab.kernel.invokeFunction('convertToInteractive',\n",
       "                                                     [key], {});\n",
       "          if (!dataTable) return;\n",
       "\n",
       "          const docLinkHtml = 'Like what you see? Visit the ' +\n",
       "            '<a target=\"_blank\" href=https://colab.research.google.com/notebooks/data_table.ipynb>data table notebook</a>'\n",
       "            + ' to learn more about interactive tables.';\n",
       "          element.innerHTML = '';\n",
       "          dataTable['output_type'] = 'display_data';\n",
       "          await google.colab.output.renderOutput(dataTable, element);\n",
       "          const docLink = document.createElement('div');\n",
       "          docLink.innerHTML = docLinkHtml;\n",
       "          element.appendChild(docLink);\n",
       "        }\n",
       "      </script>\n",
       "    </div>\n",
       "  </div>\n",
       "  "
      ],
      "text/plain": [
       "         X_01     X_02   X_03  X_04     X_05    X_06   X_07    X_08    X_09  \\\n",
       "0      70.544  103.320  67.47   1.0  101.892  74.983  29.45   62.38  245.71   \n",
       "1      69.524  103.321  65.17   1.0  101.944  72.943  28.73   61.23  233.61   \n",
       "2      72.583  103.320  64.07   1.0  103.153  72.943  28.81  105.77  272.20   \n",
       "3      71.563  103.320  67.57   1.0  101.971  77.022  28.92  115.21  255.36   \n",
       "4      69.524  103.320  63.57   1.0  101.981  70.904  29.68  103.38  241.46   \n",
       "...       ...      ...    ...   ...      ...     ...    ...     ...     ...   \n",
       "39603  66.465  103.321  62.77   1.0  102.021  66.825  29.21  102.25  270.67   \n",
       "39604  68.504  103.320  64.67   1.0  103.144  68.864  29.96  102.61  198.07   \n",
       "39605  66.465  103.320  63.67   1.0  102.025  67.845  30.30  112.60  275.52   \n",
       "39606  66.465  103.320  65.67   1.0  102.004  69.884  30.16  112.90  276.06   \n",
       "39607     NaN      NaN    NaN   NaN      NaN     NaN    NaN     NaN     NaN   \n",
       "\n",
       "       X_10  ...  X_47  X_48      X_49        X_50        X_51        X_52  \\\n",
       "0       0.0  ...   1.0   1.0   9706.03  137.043591  135.359219  147.837968   \n",
       "1       0.0  ...   1.0   1.0  10423.43  133.736691  135.979817  149.924692   \n",
       "2       0.0  ...   1.0   1.0  10948.53  132.805112  131.055355  146.814592   \n",
       "3       0.0  ...   1.0   1.0  15007.03  134.138760  133.239422  139.720132   \n",
       "4       0.0  ...   1.0   1.0  11051.03  142.728970  136.620022  134.853555   \n",
       "...     ...  ...   ...   ...       ...         ...         ...         ...   \n",
       "39603   0.0  ...   1.0   1.0  60763.43  127.633885  120.158764  142.667802   \n",
       "39604   0.0  ...   1.0   1.0   8813.33  132.501286  136.893025  134.419328   \n",
       "39605   0.0  ...   1.0   1.0  62222.33  128.189679  121.495930  141.288011   \n",
       "39606   0.0  ...   1.0   1.0  62172.23  135.096272  122.988476  142.019357   \n",
       "39607   NaN  ...   NaN   NaN       NaN         NaN         NaN         NaN   \n",
       "\n",
       "             X_53        X_54        X_55        X_56  \n",
       "0      134.313475  125.605427  136.721425  125.028256  \n",
       "1      123.630583  127.893337  143.322659  124.877308  \n",
       "2      128.939070  127.012195  140.395688  122.238232  \n",
       "3      132.260824  130.723186  147.624829  134.875225  \n",
       "4      134.760252  125.647793  139.331105  123.272762  \n",
       "...           ...         ...         ...         ...  \n",
       "39603  122.465490  122.987209  143.090741  122.811413  \n",
       "39604  129.115431  130.920147  140.489232  119.166699  \n",
       "39605  130.141676  125.518825  136.603634  124.525929  \n",
       "39606  123.752157  130.648365  139.695370  136.714504  \n",
       "39607         NaN         NaN         NaN         NaN  \n",
       "\n",
       "[39608 rows x 56 columns]"
      ]
     },
     "execution_count": 19,
     "metadata": {},
     "output_type": "execute_result"
    }
   ],
   "source": [
    "from sklearn.preprocessing import StandardScaler\n",
    "std_scaler = StandardScaler()\n",
    "\n",
    "fitted = std_scaler.fit(test_x)\n",
    "\n",
    "output2 = std_scaler.transform(test_x)\n",
    "output2 = pd.DataFrame(output, columns=test_x.columns, index=list(test_x.index.values))\n",
    "output2"
   ]
  },
  {
   "cell_type": "code",
   "execution_count": null,
   "metadata": {
    "id": "68_EgiZkNlOR"
   },
   "outputs": [],
   "source": [
    "test_y1 = output2.copy()\n",
    "test_y1 = test_y1[[\"X_18\",\"X_20\",\"X_22\"]]\n",
    "\n",
    "test_y2 = output2.copy()\n",
    "test_y2 = test_y2[[\"X_18\",\"X_20\",\"X_22\",\"X_14\",\"X_03\"]]\n",
    "\n",
    "test_y3 = output2.copy()\n",
    "test_y3 = test_y3[[\"X_18\",\"X_13\"]]\n",
    "\n",
    "test_y4 = output2.copy()\n",
    "test_y4 = test_y4[[\"X_30\",\"X_19\",\"X_21\",\"X_32\",\"X_20\",\"X_22\"]]\n",
    "\n",
    "test_y5 = output2.copy()\n",
    "test_y5 = test_y5[[\"X_13\",\"X_56\"]]\n",
    "\n",
    "test_y5 = output2.copy()\n",
    "test_y5 = test_y5[[\"X_13\",\"X_56\"]]\n",
    "\n",
    "test_y6 = output2.copy()\n",
    "test_y6 = test_y6[[\"X_19\",\"X_21\",\"X_20\",\"X_22\"]]\n",
    "\n",
    "test_y6 = output2.copy()\n",
    "test_y6 = test_y6[[\"X_19\",\"X_21\",\"X_20\",\"X_22\"]]\n",
    "\n",
    "test_y7 = output2.copy()\n",
    "test_y7 = test_y7[[\"X_19\",\"X_13\",\"X_21\",\"X_22\"]]\n",
    "\n",
    "test_y8 = output2.copy()\n",
    "test_y8 = test_y8[[\"X_20\",\"X_22\",\"X_21\",\"X_03\",\"X_19\",\"X_40\",\"X_16\",\"X_42\"]]\n",
    "\n",
    "test_y9 = output2.copy()\n",
    "test_y9 = test_y9[[\"X_20\",\"X_22\",\"X_21\",\"X_03\",\"X_19\",\"X_40\",\"X_16\",\"X_42\"]]\n",
    "\n",
    "test_y10 = output2.copy()\n",
    "test_y10 = test_y10[[\"X_18\",\"X_16\",\"X_14\",\"X_22\",\"X_21\",\"X_03\",\"X_19\",\"X_20\",\"X_17\",\"X_42\",\"X_40\",\"X_44\"]]\n",
    "\n",
    "test_y11 = output2.copy()\n",
    "test_y11 = test_y11[[\"X_17\",\"X_13\",\"X_20\"]]\n",
    "\n",
    "test_y12 = output2.copy()\n",
    "test_y12 = test_y12[[\"X_20\",\"X_22\",\"X_21\",\"X_03\",\"X_19\",\"X_40\",\"X_16\",\"X_42\"]]\n",
    "\n",
    "test_y13 = output2.copy()\n",
    "test_y13 = test_y13[[\"X_20\",\"X_22\",\"X_21\",\"X_03\",\"X_19\",\"X_40\",\"X_16\",\"X_42\"]]\n",
    "\n",
    "test_y14 = output2.copy()\n",
    "test_y14 = test_y14[[\"X_20\",\"X_22\",\"X_21\",\"X_03\",\"X_19\",\"X_40\",\"X_16\",\"X_42\"]]"
   ]
  },
  {
   "cell_type": "code",
   "execution_count": null,
   "metadata": {
    "id": "rTHPBzJceEbF"
   },
   "outputs": [],
   "source": [
    "preds1 = clf1.predict(test_y1)\n",
    "preds2 = clf2.predict(test_y2)\n",
    "preds3 = clf3.predict(test_y3)\n",
    "preds4 = clf4.predict(test_y4)\n",
    "preds5 = clf5.predict(test_y5)\n",
    "preds6 = clf6.predict(test_y6)\n",
    "preds7 = clf7.predict(test_y7)\n",
    "preds8 = clf8.predict(test_y8)\n",
    "preds9 = clf9.predict(test_y9)\n",
    "preds10 = clf10.predict(test_y10)\n",
    "preds11 = clf11.predict(test_y11)\n",
    "preds12 = clf12.predict(test_y12)\n",
    "preds13 = clf13.predict(test_y13)\n",
    "preds14 = clf14.predict(test_y14)"
   ]
  },
  {
   "cell_type": "code",
   "execution_count": null,
   "metadata": {
    "id": "R_CdzdmMPD_0"
   },
   "outputs": [],
   "source": [
    "preds = np.stack((preds1,preds2,preds3,preds4,preds5,preds6,preds7,preds8,preds9,preds10,preds11,preds12,preds13,preds14), axis=1)"
   ]
  },
  {
   "cell_type": "markdown",
   "metadata": {
    "id": "daZRW5kveIwI"
   },
   "source": [
    "# **Submit**"
   ]
  },
  {
   "cell_type": "code",
   "execution_count": null,
   "metadata": {
    "id": "p4YNtuxFeFjh"
   },
   "outputs": [],
   "source": [
    "submit = pd.read_csv('./sample_submission.csv')"
   ]
  },
  {
   "cell_type": "code",
   "execution_count": null,
   "metadata": {
    "colab": {
     "base_uri": "https://localhost:8080/"
    },
    "id": "rkOXOC-8eKwi",
    "outputId": "9575c968-8009-454b-a55a-3a30a8aa2eb3"
   },
   "outputs": [
    {
     "name": "stdout",
     "output_type": "stream",
     "text": [
      "Done.\n"
     ]
    }
   ],
   "source": [
    "for idx, col in enumerate(submit.columns):\n",
    "    if col=='ID':\n",
    "        continue\n",
    "    submit[col] = preds[:,idx-1]\n",
    "print('Done.')"
   ]
  },
  {
   "cell_type": "code",
   "execution_count": null,
   "metadata": {
    "id": "1HLtRc8xeLwA"
   },
   "outputs": [],
   "source": [
    "submit.to_csv('./space_8_5_1.csv', index=False)"
   ]
  }
 ],
 "metadata": {
  "colab": {
   "collapsed_sections": [],
   "name": "자율주행=MultiOutput -LGBMRegressor-분류 전처리",
   "provenance": []
  },
  "kernelspec": {
   "display_name": "Python 3 (ipykernel)",
   "language": "python",
   "name": "python3"
  },
  "language_info": {
   "codemirror_mode": {
    "name": "ipython",
    "version": 3
   },
   "file_extension": ".py",
   "mimetype": "text/x-python",
   "name": "python",
   "nbconvert_exporter": "python",
   "pygments_lexer": "ipython3",
   "version": "3.9.12"
  }
 },
 "nbformat": 4,
 "nbformat_minor": 1
}
