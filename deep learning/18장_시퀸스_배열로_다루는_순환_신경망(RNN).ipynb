{
  "nbformat": 4,
  "nbformat_minor": 0,
  "metadata": {
    "colab": {
      "name": "18장 시퀸스 배열로 다루는 순환 신경망(RNN).ipynb",
      "provenance": [],
      "collapsed_sections": []
    },
    "kernelspec": {
      "name": "python3",
      "display_name": "Python 3"
    },
    "language_info": {
      "name": "python"
    },
    "gpuClass": "standard"
  },
  "cells": [
    {
      "cell_type": "code",
      "execution_count": 1,
      "metadata": {
        "colab": {
          "base_uri": "https://localhost:8080/"
        },
        "id": "3rtBODht9imm",
        "outputId": "50836835-1473-4860-f258-840a629c73de"
      },
      "outputs": [
        {
          "output_type": "stream",
          "name": "stdout",
          "text": [
            "46 카테고리\n",
            "8982 학습용 뉴스 기사\n",
            "2246 테스트용 뉴스 기사\n",
            "[1, 2, 2, 8, 43, 10, 447, 5, 25, 207, 270, 5, 2, 111, 16, 369, 186, 90, 67, 7, 89, 5, 19, 102, 6, 19, 124, 15, 90, 67, 84, 22, 482, 26, 7, 48, 4, 49, 8, 864, 39, 209, 154, 6, 151, 6, 83, 11, 15, 22, 155, 11, 15, 7, 48, 9, 2, 2, 504, 6, 258, 6, 272, 11, 15, 22, 134, 44, 11, 15, 16, 8, 197, 2, 90, 67, 52, 29, 209, 30, 32, 132, 6, 109, 15, 17, 12]\n"
          ]
        }
      ],
      "source": [
        "from tensorflow.keras.models import Sequential\n",
        "from tensorflow.keras.layers import Dense,LSTM,Embedding\n",
        "from tensorflow.keras.utils import to_categorical\n",
        "from tensorflow.keras.preprocessing import sequence\n",
        "from tensorflow.keras.datasets import reuters\n",
        "from tensorflow.keras.callbacks import EarlyStopping\n",
        "\n",
        "import numpy as np\n",
        "import matplotlib.pyplot as plt\n",
        "\n",
        "(X_train,y_train),(X_test,y_test)=reuters.load_data(num_words=1000,test_split=0.2)\n",
        "\n",
        "category=np.max(y_train)+1\n",
        "\n",
        "print(category,'카테고리')\n",
        "print(len(X_train),'학습용 뉴스 기사')\n",
        "print(len(X_test),'테스트용 뉴스 기사')\n",
        "print(X_train[0])\n",
        "\n",
        "\n"
      ]
    },
    {
      "cell_type": "code",
      "source": [
        "X_train=sequence.pad_sequences(X_train,maxlen=100)\n",
        "X_test=sequence.pad_sequences(X_test,maxlen=100)\n",
        "\n",
        "y_train=to_categorical(y_train)\n",
        "y_test=to_categorical(y_test)\n"
      ],
      "metadata": {
        "id": "u4aXJv3h-5Lb"
      },
      "execution_count": 2,
      "outputs": []
    },
    {
      "cell_type": "code",
      "source": [
        "model=Sequential()\n",
        "model.add(Embedding(1000,100))\n",
        "model.add(LSTM(100,activation='tanh'))\n",
        "model.add(Dense(46,activation='softmax'))\n",
        "\n",
        "model.summary()"
      ],
      "metadata": {
        "colab": {
          "base_uri": "https://localhost:8080/"
        },
        "id": "0SbGGOqs_6jM",
        "outputId": "d7e95588-f5f7-486b-abb2-f678bbebfaea"
      },
      "execution_count": 3,
      "outputs": [
        {
          "output_type": "stream",
          "name": "stdout",
          "text": [
            "Model: \"sequential\"\n",
            "_________________________________________________________________\n",
            " Layer (type)                Output Shape              Param #   \n",
            "=================================================================\n",
            " embedding (Embedding)       (None, None, 100)         100000    \n",
            "                                                                 \n",
            " lstm (LSTM)                 (None, 100)               80400     \n",
            "                                                                 \n",
            " dense (Dense)               (None, 46)                4646      \n",
            "                                                                 \n",
            "=================================================================\n",
            "Total params: 185,046\n",
            "Trainable params: 185,046\n",
            "Non-trainable params: 0\n",
            "_________________________________________________________________\n"
          ]
        }
      ]
    },
    {
      "cell_type": "code",
      "source": [
        "model.compile(loss='categorical_crossentropy',optimizer='adam',metrics=['accuracy'])\n",
        "\n",
        "early_stopping_callback=EarlyStopping(monitor='val_loss',patience=5)\n"
      ],
      "metadata": {
        "id": "elNVZbWeVoOD"
      },
      "execution_count": 7,
      "outputs": []
    },
    {
      "cell_type": "code",
      "source": [
        "history=model.fit(X_train,y_train,batch_size=20,epochs=200,validation_data=(X_test,y_test),callbacks=[early_stopping_callback])\n",
        "\n",
        "print('\\n Test Accuracy: %.4f'%(model.evaluate(X_test,y_test)[1]))"
      ],
      "metadata": {
        "colab": {
          "base_uri": "https://localhost:8080/"
        },
        "id": "UrxQkfxVWV64",
        "outputId": "fe4f48b6-ecdc-4cca-b99d-2e0b43832b76"
      },
      "execution_count": 8,
      "outputs": [
        {
          "output_type": "stream",
          "name": "stdout",
          "text": [
            "Epoch 1/200\n",
            "450/450 [==============================] - 12s 10ms/step - loss: 2.1667 - accuracy: 0.4683 - val_loss: 2.0132 - val_accuracy: 0.5009\n",
            "Epoch 2/200\n",
            "450/450 [==============================] - 4s 9ms/step - loss: 1.8287 - accuracy: 0.5365 - val_loss: 1.7585 - val_accuracy: 0.5396\n",
            "Epoch 3/200\n",
            "450/450 [==============================] - 4s 9ms/step - loss: 1.6895 - accuracy: 0.5679 - val_loss: 1.6719 - val_accuracy: 0.5819\n",
            "Epoch 4/200\n",
            "450/450 [==============================] - 4s 9ms/step - loss: 1.5189 - accuracy: 0.6228 - val_loss: 1.4799 - val_accuracy: 0.6282\n",
            "Epoch 5/200\n",
            "450/450 [==============================] - 4s 10ms/step - loss: 1.3308 - accuracy: 0.6631 - val_loss: 1.3702 - val_accuracy: 0.6589\n",
            "Epoch 6/200\n",
            "450/450 [==============================] - 4s 10ms/step - loss: 1.2115 - accuracy: 0.6969 - val_loss: 1.2718 - val_accuracy: 0.6843\n",
            "Epoch 7/200\n",
            "450/450 [==============================] - 4s 9ms/step - loss: 1.1099 - accuracy: 0.7239 - val_loss: 1.2333 - val_accuracy: 0.6866\n",
            "Epoch 8/200\n",
            "450/450 [==============================] - 4s 10ms/step - loss: 1.0158 - accuracy: 0.7488 - val_loss: 1.1717 - val_accuracy: 0.7017\n",
            "Epoch 9/200\n",
            "450/450 [==============================] - 4s 9ms/step - loss: 0.9364 - accuracy: 0.7674 - val_loss: 1.1559 - val_accuracy: 0.7110\n",
            "Epoch 10/200\n",
            "450/450 [==============================] - 4s 9ms/step - loss: 0.8613 - accuracy: 0.7846 - val_loss: 1.1588 - val_accuracy: 0.7110\n",
            "Epoch 11/200\n",
            "450/450 [==============================] - 4s 9ms/step - loss: 0.7993 - accuracy: 0.8033 - val_loss: 1.1547 - val_accuracy: 0.7199\n",
            "Epoch 12/200\n",
            "450/450 [==============================] - 4s 9ms/step - loss: 0.7422 - accuracy: 0.8117 - val_loss: 1.1570 - val_accuracy: 0.7173\n",
            "Epoch 13/200\n",
            "450/450 [==============================] - 4s 9ms/step - loss: 0.6873 - accuracy: 0.8299 - val_loss: 1.1749 - val_accuracy: 0.7240\n",
            "Epoch 14/200\n",
            "450/450 [==============================] - 4s 9ms/step - loss: 0.6348 - accuracy: 0.8401 - val_loss: 1.1662 - val_accuracy: 0.7240\n",
            "Epoch 15/200\n",
            "450/450 [==============================] - 5s 10ms/step - loss: 0.5828 - accuracy: 0.8536 - val_loss: 1.2278 - val_accuracy: 0.7186\n",
            "Epoch 16/200\n",
            "450/450 [==============================] - 4s 9ms/step - loss: 0.5481 - accuracy: 0.8631 - val_loss: 1.2607 - val_accuracy: 0.7226\n",
            "71/71 [==============================] - 0s 6ms/step - loss: 1.2607 - accuracy: 0.7226\n",
            "\n",
            " Test Accuracy: 0.7226\n"
          ]
        }
      ]
    },
    {
      "cell_type": "code",
      "source": [
        "y_vloss=history.history['val_loss']\n",
        "y_loss=history.history['loss']\n",
        "\n",
        "x_len=np.arange(len(y_loss))\n",
        "plt.plot(x_len,y_vloss,marker='.',c='red',label='Testset_loss')\n",
        "plt.plot(x_len,y_loss,marker='.',c='blue',label='Trainset_loss')\n",
        "\n",
        "plt.legend(loc='upper right')\n",
        "plt.grid()\n",
        "plt.xlabel('epoch')\n",
        "plt.ylabel('loss')\n",
        "plt.show()"
      ],
      "metadata": {
        "colab": {
          "base_uri": "https://localhost:8080/",
          "height": 279
        },
        "id": "jjwcvkl0ajUT",
        "outputId": "1f80eea5-59bd-47b1-e96a-f59f495a045c"
      },
      "execution_count": 9,
      "outputs": [
        {
          "output_type": "display_data",
          "data": {
            "text/plain": [
              "<Figure size 432x288 with 1 Axes>"
            ],
            "image/png": "[encoded data removed]"
          },
          "metadata": {
            "needs_background": "light"
          }
        }
      ]
    }
  ]
}