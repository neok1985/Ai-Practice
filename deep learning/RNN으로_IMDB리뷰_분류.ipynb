{
  "nbformat": 4,
  "nbformat_minor": 0,
  "metadata": {
    "colab": {
      "name": "RNN으로 IMDB리뷰 분류.ipynb",
      "provenance": []
    },
    "kernelspec": {
      "name": "python3",
      "display_name": "Python 3"
    },
    "language_info": {
      "name": "python"
    },
    "accelerator": "GPU",
    "gpuClass": "standard"
  },
  "cells": [
    {
      "cell_type": "code",
      "execution_count": 1,
      "metadata": {
        "colab": {
          "base_uri": "https://localhost:8080/"
        },
        "id": "X2AjdmkTUfnH",
        "outputId": "59ec5e2a-cdbb-4da5-e24c-cf8ba578e071"
      },
      "outputs": [
        {
          "output_type": "stream",
          "name": "stdout",
          "text": [
            "239.00925 178.0\n"
          ]
        }
      ],
      "source": [
        "from tensorflow.keras.datasets import imdb\n",
        "from sklearn.model_selection import train_test_split\n",
        "import numpy as np\n",
        "import matplotlib.pyplot as plt\n",
        "from tensorflow.keras.preprocessing.sequence import pad_sequences\n",
        "from tensorflow import keras\n",
        "\n",
        "(train_input,train_target),(test_input,test_target)=imdb.load_data(num_words=500)\n",
        "train_input,val_input,train_target,val_target=train_test_split(train_input,train_target,test_size=0.2,random_state=42)\n",
        "lengths=np.array([len(x) for x in train_input])\n",
        "print(np.mean(lengths),np.median(lengths))\n"
      ]
    },
    {
      "cell_type": "code",
      "source": [
        "plt.hist(lengths)\n",
        "plt.xlabel('length')\n",
        "plt.ylabel('frequency')\n",
        "plt.show()"
      ],
      "metadata": {
        "colab": {
          "base_uri": "https://localhost:8080/",
          "height": 279
        },
        "id": "wurBxkmpVpCi",
        "outputId": "00837883-06d1-4624-aa4d-715cd01b2dc9"
      },
      "execution_count": 4,
      "outputs": [
        {
          "output_type": "display_data",
          "data": {
            "text/plain": [
              "<Figure size 432x288 with 1 Axes>"
            ],
            "image/png": "[encoded data removed]"
          },
          "metadata": {
            "needs_background": "light"
          }
        }
      ]
    },
    {
      "cell_type": "code",
      "source": [
        "train_seq=pad_sequences(train_input,maxlen=100)\n",
        "print(train_seq.shape)\n",
        "print(train_seq[0])\n",
        "print(train_input[0][-10])\n",
        "print(train_seq[5])\n"
      ],
      "metadata": {
        "colab": {
          "base_uri": "https://localhost:8080/"
        },
        "id": "EcqZyeiCWmiF",
        "outputId": "ee2cb17f-f1bd-4e00-f148-fdb04d23b2b8"
      },
      "execution_count": 2,
      "outputs": [
        {
          "output_type": "stream",
          "name": "stdout",
          "text": [
            "(20000, 100)\n",
            "[ 10   4  20   9   2 364 352   5  45   6   2   2  33 269   8   2 142   2\n",
            "   5   2  17  73  17 204   5   2  19  55   2   2  92  66 104  14  20  93\n",
            "  76   2 151  33   4  58  12 188   2 151  12 215  69 224 142  73 237   6\n",
            "   2   7   2   2 188   2 103  14  31  10  10 451   7   2   5   2  80  91\n",
            "   2  30   2  34  14  20 151  50  26 131  49   2  84  46  50  37  80  79\n",
            "   6   2  46   7  14  20  10  10 470 158]\n",
            "6\n",
            "[  0   0   0   0   1   2 195  19  49   2   2 190   4   2 352   2 183  10\n",
            "  10  13  82  79   4   2  36  71 269   8   2  25  19  49   7   4   2   2\n",
            "   2   2   2  10  10  48  25  40   2  11   2   2  40   2   2   5   4   2\n",
            "   2  95  14 238  56 129   2  10  10  21   2  94 364 352   2   2  11 190\n",
            "  24 484   2   7  94 205 405  10  10  87   2  34  49   2   7   2   2   2\n",
            "   2   2 290   2  46  48  64  18   4   2]\n"
          ]
        }
      ]
    },
    {
      "cell_type": "code",
      "source": [
        "val_seq=pad_sequences(val_input,maxlen=100)\n",
        "\n",
        "model=keras.Sequential()\n",
        "model.add(keras.layers.SimpleRNN(8,input_shape=(100,500)))\n",
        "model.add(keras.layers.Dense(1,activation='sigmoid'))\n",
        "train_oh=keras.utils.to_categorical(train_seq)\n",
        "val_oh=keras.utils.to_categorical(val_seq)\n",
        "\n",
        "model.summary()"
      ],
      "metadata": {
        "id": "vw9BcytNW9tP"
      },
      "execution_count": 3,
      "outputs": []
    },
    {
      "cell_type": "code",
      "source": [
        "rmsprop=keras.optimizers.RMSprop(learning_rate=0.0001)\n",
        "model.compile(optimizer=rmsprop,loss='binary_crossentropy',metrics=['accuracy'])\n",
        "checkpoint_cb=keras.callbacks.ModelCheckpoint('best-simplernn-model.h5',save_best_only=True)\n",
        "early_stopping_cb=keras.callbacks.EarlyStopping(patience=3,restore_best_weights=True)\n",
        "\n",
        "history=model.fit(train_oh,train_target,epochs=100,batch_size=64,validation_data=(val_oh,val_target),callbacks=[checkpoint_cb,early_stopping_cb])"
      ],
      "metadata": {
        "colab": {
          "base_uri": "https://localhost:8080/"
        },
        "id": "ODVHlvkuX6cf",
        "outputId": "20d76878-eefc-4596-d18f-05d60066776d"
      },
      "execution_count": 4,
      "outputs": [
        {
          "output_type": "stream",
          "name": "stdout",
          "text": [
            "Epoch 1/100\n",
            "313/313 [==============================] - 44s 123ms/step - loss: 0.6859 - accuracy: 0.5459 - val_loss: 0.6647 - val_accuracy: 0.5976\n",
            "Epoch 2/100\n",
            "313/313 [==============================] - 26s 83ms/step - loss: 0.6440 - accuracy: 0.6339 - val_loss: 0.6326 - val_accuracy: 0.6506\n",
            "Epoch 3/100\n",
            "313/313 [==============================] - 25s 79ms/step - loss: 0.6127 - accuracy: 0.6782 - val_loss: 0.6064 - val_accuracy: 0.6818\n",
            "Epoch 4/100\n",
            "313/313 [==============================] - 25s 80ms/step - loss: 0.5875 - accuracy: 0.7096 - val_loss: 0.5857 - val_accuracy: 0.7060\n",
            "Epoch 5/100\n",
            "313/313 [==============================] - 25s 80ms/step - loss: 0.5675 - accuracy: 0.7286 - val_loss: 0.5687 - val_accuracy: 0.7282\n",
            "Epoch 6/100\n",
            "313/313 [==============================] - 25s 79ms/step - loss: 0.5498 - accuracy: 0.7444 - val_loss: 0.5549 - val_accuracy: 0.7346\n",
            "Epoch 7/100\n",
            "313/313 [==============================] - 25s 80ms/step - loss: 0.5349 - accuracy: 0.7566 - val_loss: 0.5432 - val_accuracy: 0.7408\n",
            "Epoch 8/100\n",
            "313/313 [==============================] - 25s 79ms/step - loss: 0.5224 - accuracy: 0.7635 - val_loss: 0.5319 - val_accuracy: 0.7528\n",
            "Epoch 9/100\n",
            "313/313 [==============================] - 25s 79ms/step - loss: 0.5112 - accuracy: 0.7707 - val_loss: 0.5254 - val_accuracy: 0.7518\n",
            "Epoch 10/100\n",
            "313/313 [==============================] - 24s 78ms/step - loss: 0.5016 - accuracy: 0.7739 - val_loss: 0.5146 - val_accuracy: 0.7628\n",
            "Epoch 11/100\n",
            "313/313 [==============================] - 25s 80ms/step - loss: 0.4923 - accuracy: 0.7813 - val_loss: 0.5073 - val_accuracy: 0.7620\n",
            "Epoch 12/100\n",
            "313/313 [==============================] - 25s 80ms/step - loss: 0.4835 - accuracy: 0.7863 - val_loss: 0.4994 - val_accuracy: 0.7668\n",
            "Epoch 13/100\n",
            "313/313 [==============================] - 24s 78ms/step - loss: 0.4774 - accuracy: 0.7891 - val_loss: 0.4950 - val_accuracy: 0.7668\n",
            "Epoch 14/100\n",
            "313/313 [==============================] - 24s 78ms/step - loss: 0.4707 - accuracy: 0.7917 - val_loss: 0.4886 - val_accuracy: 0.7698\n",
            "Epoch 15/100\n",
            "313/313 [==============================] - 24s 78ms/step - loss: 0.4643 - accuracy: 0.7954 - val_loss: 0.4858 - val_accuracy: 0.7716\n",
            "Epoch 16/100\n",
            "313/313 [==============================] - 24s 78ms/step - loss: 0.4587 - accuracy: 0.7994 - val_loss: 0.4835 - val_accuracy: 0.7698\n",
            "Epoch 17/100\n",
            "313/313 [==============================] - 25s 80ms/step - loss: 0.4542 - accuracy: 0.8007 - val_loss: 0.4754 - val_accuracy: 0.7790\n",
            "Epoch 18/100\n",
            "313/313 [==============================] - 24s 77ms/step - loss: 0.4497 - accuracy: 0.8017 - val_loss: 0.4712 - val_accuracy: 0.7830\n",
            "Epoch 19/100\n",
            "313/313 [==============================] - 24s 77ms/step - loss: 0.4455 - accuracy: 0.8041 - val_loss: 0.4704 - val_accuracy: 0.7776\n",
            "Epoch 20/100\n",
            "313/313 [==============================] - 24s 77ms/step - loss: 0.4415 - accuracy: 0.8062 - val_loss: 0.4683 - val_accuracy: 0.7800\n",
            "Epoch 21/100\n",
            "313/313 [==============================] - 25s 78ms/step - loss: 0.4383 - accuracy: 0.8098 - val_loss: 0.4656 - val_accuracy: 0.7814\n",
            "Epoch 22/100\n",
            "313/313 [==============================] - 25s 80ms/step - loss: 0.4352 - accuracy: 0.8098 - val_loss: 0.4618 - val_accuracy: 0.7868\n",
            "Epoch 23/100\n",
            "313/313 [==============================] - 24s 77ms/step - loss: 0.4326 - accuracy: 0.8101 - val_loss: 0.4662 - val_accuracy: 0.7822\n",
            "Epoch 24/100\n",
            "313/313 [==============================] - 24s 78ms/step - loss: 0.4296 - accuracy: 0.8130 - val_loss: 0.4587 - val_accuracy: 0.7872\n",
            "Epoch 25/100\n",
            "313/313 [==============================] - 24s 77ms/step - loss: 0.4271 - accuracy: 0.8130 - val_loss: 0.4563 - val_accuracy: 0.7892\n",
            "Epoch 26/100\n",
            "313/313 [==============================] - 24s 78ms/step - loss: 0.4253 - accuracy: 0.8141 - val_loss: 0.4578 - val_accuracy: 0.7872\n",
            "Epoch 27/100\n",
            "313/313 [==============================] - 24s 78ms/step - loss: 0.4232 - accuracy: 0.8133 - val_loss: 0.4537 - val_accuracy: 0.7890\n",
            "Epoch 28/100\n",
            "313/313 [==============================] - 25s 80ms/step - loss: 0.4213 - accuracy: 0.8152 - val_loss: 0.4534 - val_accuracy: 0.7884\n",
            "Epoch 29/100\n",
            "313/313 [==============================] - 24s 78ms/step - loss: 0.4192 - accuracy: 0.8159 - val_loss: 0.4531 - val_accuracy: 0.7884\n",
            "Epoch 30/100\n",
            "313/313 [==============================] - 24s 78ms/step - loss: 0.4176 - accuracy: 0.8163 - val_loss: 0.4545 - val_accuracy: 0.7874\n",
            "Epoch 31/100\n",
            "313/313 [==============================] - 24s 77ms/step - loss: 0.4160 - accuracy: 0.8163 - val_loss: 0.4560 - val_accuracy: 0.7856\n",
            "Epoch 32/100\n",
            "313/313 [==============================] - 24s 77ms/step - loss: 0.4143 - accuracy: 0.8174 - val_loss: 0.4524 - val_accuracy: 0.7886\n",
            "Epoch 33/100\n",
            "313/313 [==============================] - 25s 80ms/step - loss: 0.4130 - accuracy: 0.8177 - val_loss: 0.4498 - val_accuracy: 0.7896\n",
            "Epoch 34/100\n",
            "313/313 [==============================] - 24s 78ms/step - loss: 0.4115 - accuracy: 0.8199 - val_loss: 0.4532 - val_accuracy: 0.7852\n",
            "Epoch 35/100\n",
            "313/313 [==============================] - 24s 77ms/step - loss: 0.4096 - accuracy: 0.8184 - val_loss: 0.4573 - val_accuracy: 0.7836\n",
            "Epoch 36/100\n",
            "313/313 [==============================] - 24s 77ms/step - loss: 0.4085 - accuracy: 0.8190 - val_loss: 0.4512 - val_accuracy: 0.7890\n"
          ]
        }
      ]
    },
    {
      "cell_type": "code",
      "source": [
        "plt.plot(history.history['loss'])\n",
        "plt.plot(history.history['val_loss'])\n",
        "plt.xlabel('epoch')\n",
        "plt.ylabel('loss')\n",
        "plt.legend(['train','val'])\n",
        "plt.show()"
      ],
      "metadata": {
        "colab": {
          "base_uri": "https://localhost:8080/",
          "height": 279
        },
        "id": "tKtd-2zXZBqf",
        "outputId": "442e3d76-aaa4-42d9-cf06-c1fba8a93703"
      },
      "execution_count": 5,
      "outputs": [
        {
          "output_type": "display_data",
          "data": {
            "text/plain": [
              "<Figure size 432x288 with 1 Axes>"
            ],
            "image/png": "[encoded data removed]"
          },
          "metadata": {
            "needs_background": "light"
          }
        }
      ]
    },
    {
      "cell_type": "code",
      "source": [
        "model2=keras.Sequential()\n",
        "model2.add(keras.layers.Embedding(500,16,input_length=100))\n",
        "model2.add(keras.layers.SimpleRNN(8))\n",
        "model2.add(keras.layers.Dense(1,activation='sigmoid'))\n",
        "model2.summary()"
      ],
      "metadata": {
        "colab": {
          "base_uri": "https://localhost:8080/"
        },
        "id": "7lbWruviZYKz",
        "outputId": "55d3cc6b-0a40-4283-da20-286de2db499c"
      },
      "execution_count": 4,
      "outputs": [
        {
          "output_type": "stream",
          "name": "stdout",
          "text": [
            "Model: \"sequential\"\n",
            "_________________________________________________________________\n",
            " Layer (type)                Output Shape              Param #   \n",
            "=================================================================\n",
            " embedding (Embedding)       (None, 100, 16)           8000      \n",
            "                                                                 \n",
            " simple_rnn (SimpleRNN)      (None, 8)                 200       \n",
            "                                                                 \n",
            " dense (Dense)               (None, 1)                 9         \n",
            "                                                                 \n",
            "=================================================================\n",
            "Total params: 8,209\n",
            "Trainable params: 8,209\n",
            "Non-trainable params: 0\n",
            "_________________________________________________________________\n"
          ]
        }
      ]
    },
    {
      "cell_type": "code",
      "source": [
        "rmsprop=keras.optimizers.RMSprop(learning_rate=1e-4)\n",
        "model2.compile(optimizer=rmsprop,loss='binary_crossentropy',metrics=['accuracy'])\n",
        "checkpoint_cb=keras.callbacks.ModelCheckpoint('best-embedding-model.h5',save_best_only=True)\n",
        "early_stopping_cb=keras.callbacks.EarlyStopping(patience=3,restore_best_weights=True)\n",
        "\n",
        "history=model2.fit(train_seq,train_target,epochs=100,batch_size=64,validation_data=(val_seq,val_target),callbacks=[checkpoint_cb,early_stopping_cb])"
      ],
      "metadata": {
        "colab": {
          "base_uri": "https://localhost:8080/"
        },
        "id": "gLcI4tp2Z5PE",
        "outputId": "18c9b258-80c8-4214-fc5a-845e698a0b15"
      },
      "execution_count": 5,
      "outputs": [
        {
          "output_type": "stream",
          "name": "stdout",
          "text": [
            "Epoch 1/100\n",
            "313/313 [==============================] - 34s 99ms/step - loss: 0.6956 - accuracy: 0.5071 - val_loss: 0.6929 - val_accuracy: 0.5156\n",
            "Epoch 2/100\n",
            "313/313 [==============================] - 30s 97ms/step - loss: 0.6880 - accuracy: 0.5428 - val_loss: 0.6873 - val_accuracy: 0.5482\n",
            "Epoch 3/100\n",
            "313/313 [==============================] - 31s 98ms/step - loss: 0.6806 - accuracy: 0.5773 - val_loss: 0.6806 - val_accuracy: 0.5744\n",
            "Epoch 4/100\n",
            "313/313 [==============================] - 31s 98ms/step - loss: 0.6706 - accuracy: 0.6103 - val_loss: 0.6696 - val_accuracy: 0.6054\n",
            "Epoch 5/100\n",
            "313/313 [==============================] - 30s 97ms/step - loss: 0.6396 - accuracy: 0.6575 - val_loss: 0.5866 - val_accuracy: 0.7076\n",
            "Epoch 6/100\n",
            "313/313 [==============================] - 29s 94ms/step - loss: 0.5621 - accuracy: 0.7291 - val_loss: 0.5518 - val_accuracy: 0.7380\n",
            "Epoch 7/100\n",
            "313/313 [==============================] - 30s 96ms/step - loss: 0.5311 - accuracy: 0.7517 - val_loss: 0.5449 - val_accuracy: 0.7334\n",
            "Epoch 8/100\n",
            "313/313 [==============================] - 30s 96ms/step - loss: 0.5093 - accuracy: 0.7675 - val_loss: 0.5129 - val_accuracy: 0.7586\n",
            "Epoch 9/100\n",
            "313/313 [==============================] - 29s 94ms/step - loss: 0.4953 - accuracy: 0.7757 - val_loss: 0.5023 - val_accuracy: 0.7640\n",
            "Epoch 10/100\n",
            "313/313 [==============================] - 30s 95ms/step - loss: 0.4838 - accuracy: 0.7823 - val_loss: 0.5050 - val_accuracy: 0.7612\n",
            "Epoch 11/100\n",
            "313/313 [==============================] - 30s 97ms/step - loss: 0.4756 - accuracy: 0.7868 - val_loss: 0.4899 - val_accuracy: 0.7716\n",
            "Epoch 12/100\n",
            "313/313 [==============================] - 30s 97ms/step - loss: 0.4678 - accuracy: 0.7919 - val_loss: 0.4917 - val_accuracy: 0.7670\n",
            "Epoch 13/100\n",
            "313/313 [==============================] - 29s 93ms/step - loss: 0.4617 - accuracy: 0.7958 - val_loss: 0.4820 - val_accuracy: 0.7764\n",
            "Epoch 14/100\n",
            "313/313 [==============================] - 29s 93ms/step - loss: 0.4558 - accuracy: 0.8008 - val_loss: 0.4791 - val_accuracy: 0.7766\n",
            "Epoch 15/100\n",
            "313/313 [==============================] - 30s 96ms/step - loss: 0.4510 - accuracy: 0.8023 - val_loss: 0.4753 - val_accuracy: 0.7772\n",
            "Epoch 16/100\n",
            "313/313 [==============================] - 30s 96ms/step - loss: 0.4462 - accuracy: 0.8048 - val_loss: 0.4714 - val_accuracy: 0.7818\n",
            "Epoch 17/100\n",
            "313/313 [==============================] - 30s 95ms/step - loss: 0.4424 - accuracy: 0.8066 - val_loss: 0.4690 - val_accuracy: 0.7818\n",
            "Epoch 18/100\n",
            "313/313 [==============================] - 32s 103ms/step - loss: 0.4399 - accuracy: 0.8083 - val_loss: 0.4673 - val_accuracy: 0.7862\n",
            "Epoch 19/100\n",
            "313/313 [==============================] - 30s 96ms/step - loss: 0.4368 - accuracy: 0.8098 - val_loss: 0.4667 - val_accuracy: 0.7838\n",
            "Epoch 20/100\n",
            "313/313 [==============================] - 31s 98ms/step - loss: 0.4337 - accuracy: 0.8113 - val_loss: 0.4716 - val_accuracy: 0.7796\n",
            "Epoch 21/100\n",
            "313/313 [==============================] - 29s 93ms/step - loss: 0.4306 - accuracy: 0.8127 - val_loss: 0.4779 - val_accuracy: 0.7770\n",
            "Epoch 22/100\n",
            "313/313 [==============================] - 29s 94ms/step - loss: 0.4289 - accuracy: 0.8148 - val_loss: 0.4628 - val_accuracy: 0.7840\n",
            "Epoch 23/100\n",
            "313/313 [==============================] - 30s 95ms/step - loss: 0.4262 - accuracy: 0.8157 - val_loss: 0.4620 - val_accuracy: 0.7846\n",
            "Epoch 24/100\n",
            "313/313 [==============================] - 30s 97ms/step - loss: 0.4242 - accuracy: 0.8150 - val_loss: 0.4633 - val_accuracy: 0.7836\n",
            "Epoch 25/100\n",
            "313/313 [==============================] - 30s 97ms/step - loss: 0.4221 - accuracy: 0.8178 - val_loss: 0.4606 - val_accuracy: 0.7844\n",
            "Epoch 26/100\n",
            "313/313 [==============================] - 30s 95ms/step - loss: 0.4197 - accuracy: 0.8189 - val_loss: 0.4596 - val_accuracy: 0.7852\n",
            "Epoch 27/100\n",
            "313/313 [==============================] - 29s 94ms/step - loss: 0.4172 - accuracy: 0.8205 - val_loss: 0.4661 - val_accuracy: 0.7826\n",
            "Epoch 28/100\n",
            "313/313 [==============================] - 30s 94ms/step - loss: 0.4157 - accuracy: 0.8196 - val_loss: 0.4644 - val_accuracy: 0.7832\n",
            "Epoch 29/100\n",
            "313/313 [==============================] - 31s 99ms/step - loss: 0.4140 - accuracy: 0.8207 - val_loss: 0.4636 - val_accuracy: 0.7866\n"
          ]
        }
      ]
    },
    {
      "cell_type": "code",
      "source": [
        "plt.plot(history.history['loss'])\n",
        "plt.plot(history.history['val_loss'])\n",
        "plt.xlabel('epoch')\n",
        "plt.ylabel('loss')\n",
        "plt.legend(['train','val'])\n",
        "plt.show()"
      ],
      "metadata": {
        "colab": {
          "base_uri": "https://localhost:8080/",
          "height": 279
        },
        "id": "tycOhb5bbc3V",
        "outputId": "459362e9-251f-4220-8bde-a4d8198b4152"
      },
      "execution_count": 6,
      "outputs": [
        {
          "output_type": "display_data",
          "data": {
            "text/plain": [
              "<Figure size 432x288 with 1 Axes>"
            ],
            "image/png": "[encoded data removed]"
          },
          "metadata": {
            "needs_background": "light"
          }
        }
      ]
    }
  ]
}