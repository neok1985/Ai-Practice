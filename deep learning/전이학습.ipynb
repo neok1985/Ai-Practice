{
  "nbformat": 4,
  "nbformat_minor": 0,
  "metadata": {
    "colab": {
      "name": "전이학습.ipynb",
      "provenance": []
    },
    "kernelspec": {
      "name": "python3",
      "display_name": "Python 3"
    },
    "language_info": {
      "name": "python"
    },
    "accelerator": "GPU",
    "gpuClass": "standard"
  },
  "cells": [
    {
      "cell_type": "code",
      "execution_count": 1,
      "metadata": {
        "id": "9yOO-Y3dHuCM"
      },
      "outputs": [],
      "source": [
        "from tensorflow.keras.layers import Input,Reshape,Flatten,Dense,Dropout,MaxPooling2D\n",
        "from tensorflow.keras.layers import BatchNormalization,Activation,LeakyReLU,UpSampling2D,Conv2D\n",
        "from keras.models import Sequential\n",
        "from tensorflow.keras import optimizers,Input,models,layers,metrics\n",
        "from tensorflow.keras.callbacks import EarlyStopping\n",
        "from tensorflow.keras.preprocessing.image import ImageDataGenerator\n",
        "from tensorflow.keras.applications import VGG16\n",
        "\n",
        "import numpy as np\n",
        "import matplotlib.pyplot as plt"
      ]
    },
    {
      "cell_type": "code",
      "source": [
        "\n",
        "!git clone https://github.com/taehojo/data-ch20.git"
      ],
      "metadata": {
        "colab": {
          "base_uri": "https://localhost:8080/"
        },
        "id": "eCUSPDxJMGLU",
        "outputId": "485eb397-46bf-4ff5-c8ca-e966933db63b"
      },
      "execution_count": 2,
      "outputs": [
        {
          "output_type": "stream",
          "name": "stdout",
          "text": [
            "Cloning into 'data-ch20'...\n",
            "remote: Enumerating objects: 265, done.\u001b[K\n",
            "remote: Counting objects: 100% (265/265), done.\u001b[K\n",
            "remote: Compressing objects: 100% (265/265), done.\u001b[K\n",
            "remote: Total 265 (delta 0), reused 265 (delta 0), pack-reused 0\u001b[K\n",
            "Receiving objects: 100% (265/265), 1.86 MiB | 5.27 MiB/s, done.\n"
          ]
        }
      ]
    },
    {
      "cell_type": "code",
      "source": [
        "train_datagen=ImageDataGenerator(rescale=1./255,\n",
        "                                 horizontal_flip=True,\n",
        "                                 width_shift_range=0.1,\n",
        "                                 height_shift_range=0.1)\n",
        "train_generator=train_datagen.flow_from_directory('./data-ch20/train',\n",
        "                                                  target_size=(150,150),\n",
        "                                                  batch_size=5,\n",
        "                                                  class_mode='binary')\n",
        "test_datagen=ImageDataGenerator(rescale=1./255)\n",
        "test_generator=test_datagen.flow_from_directory('./data-ch20/test',\n",
        "                                                target_size=(150,150),\n",
        "                                                batch_size=5,\n",
        "                                                class_mode='binary')"
      ],
      "metadata": {
        "colab": {
          "base_uri": "https://localhost:8080/"
        },
        "id": "2IIYdjDK71pM",
        "outputId": "4895cc88-3e2f-46cf-8d3a-7bc1d2f434bb"
      },
      "execution_count": 3,
      "outputs": [
        {
          "output_type": "stream",
          "name": "stdout",
          "text": [
            "Found 160 images belonging to 2 classes.\n",
            "Found 120 images belonging to 2 classes.\n"
          ]
        }
      ]
    },
    {
      "cell_type": "code",
      "source": [
        "transfer_model=VGG16(weights='imagenet',include_top=False,input_shape=(150,150,3))\n",
        "transfer_model.trainable=False"
      ],
      "metadata": {
        "colab": {
          "base_uri": "https://localhost:8080/"
        },
        "id": "Guh1_UI6PuIu",
        "outputId": "2d4c6d2c-a80b-4c68-9ff1-41c99e01db1d"
      },
      "execution_count": 4,
      "outputs": [
        {
          "output_type": "stream",
          "name": "stdout",
          "text": [
            "Downloading data from https://storage.googleapis.com/tensorflow/keras-applications/vgg16/vgg16_weights_tf_dim_ordering_tf_kernels_notop.h5\n",
            "58892288/58889256 [==============================] - 0s 0us/step\n",
            "58900480/58889256 [==============================] - 0s 0us/step\n"
          ]
        }
      ]
    },
    {
      "cell_type": "code",
      "source": [
        "finetune_model = models.Sequential()\n",
        "finetune_model.add(transfer_model)\n",
        "finetune_model.add(Flatten())\n",
        "finetune_model.add(Dense(64))\n",
        "finetune_model.add(Activation('relu'))\n",
        "finetune_model.add(Dropout(0.5))\n",
        "finetune_model.add(Dense(1))\n",
        "finetune_model.add(Activation('sigmoid'))\n",
        "\n",
        "finetune_model.summary()"
      ],
      "metadata": {
        "colab": {
          "base_uri": "https://localhost:8080/"
        },
        "id": "0TApfwaCQF9S",
        "outputId": "efddd568-db63-4d0d-b105-83e334901142"
      },
      "execution_count": 5,
      "outputs": [
        {
          "output_type": "stream",
          "name": "stdout",
          "text": [
            "Model: \"sequential\"\n",
            "_________________________________________________________________\n",
            " Layer (type)                Output Shape              Param #   \n",
            "=================================================================\n",
            " vgg16 (Functional)          (None, 4, 4, 512)         14714688  \n",
            "                                                                 \n",
            " flatten (Flatten)           (None, 8192)              0         \n",
            "                                                                 \n",
            " dense (Dense)               (None, 64)                524352    \n",
            "                                                                 \n",
            " activation (Activation)     (None, 64)                0         \n",
            "                                                                 \n",
            " dropout (Dropout)           (None, 64)                0         \n",
            "                                                                 \n",
            " dense_1 (Dense)             (None, 1)                 65        \n",
            "                                                                 \n",
            " activation_1 (Activation)   (None, 1)                 0         \n",
            "                                                                 \n",
            "=================================================================\n",
            "Total params: 15,239,105\n",
            "Trainable params: 524,417\n",
            "Non-trainable params: 14,714,688\n",
            "_________________________________________________________________\n"
          ]
        }
      ]
    },
    {
      "cell_type": "code",
      "source": [
        "finetune_model.compile(loss='binary_crossentropy',optimizer=optimizers.Adam(learning_rate=0.0002),metrics=['accuracy'])\n",
        "early_stopping_callback=EarlyStopping(monitor='val_loss',patience=5)"
      ],
      "metadata": {
        "id": "bLuHDagUQsZ2"
      },
      "execution_count": 6,
      "outputs": []
    },
    {
      "cell_type": "code",
      "source": [
        "history=finetune_model.fit(train_generator,epochs=20,validation_data=test_generator,validation_steps=10,callbacks=[early_stopping_callback])"
      ],
      "metadata": {
        "colab": {
          "base_uri": "https://localhost:8080/"
        },
        "id": "CDhqby6yRIAp",
        "outputId": "7c9cd190-b675-4912-bc48-9617f6f2a024"
      },
      "execution_count": 7,
      "outputs": [
        {
          "output_type": "stream",
          "name": "stdout",
          "text": [
            "Epoch 1/20\n",
            "32/32 [==============================] - 13s 49ms/step - loss: 0.8013 - accuracy: 0.4875 - val_loss: 0.5010 - val_accuracy: 0.8000\n",
            "Epoch 2/20\n",
            "32/32 [==============================] - 1s 44ms/step - loss: 0.5361 - accuracy: 0.7437 - val_loss: 0.3926 - val_accuracy: 0.9200\n",
            "Epoch 3/20\n",
            "32/32 [==============================] - 1s 43ms/step - loss: 0.4278 - accuracy: 0.8250 - val_loss: 0.3315 - val_accuracy: 0.9000\n",
            "Epoch 4/20\n",
            "32/32 [==============================] - 1s 43ms/step - loss: 0.3918 - accuracy: 0.8250 - val_loss: 0.3295 - val_accuracy: 0.8400\n",
            "Epoch 5/20\n",
            "32/32 [==============================] - 1s 43ms/step - loss: 0.3227 - accuracy: 0.9000 - val_loss: 0.2639 - val_accuracy: 0.9000\n",
            "Epoch 6/20\n",
            "32/32 [==============================] - 1s 43ms/step - loss: 0.3095 - accuracy: 0.8875 - val_loss: 0.2996 - val_accuracy: 0.9000\n",
            "Epoch 7/20\n",
            "32/32 [==============================] - 1s 42ms/step - loss: 0.2885 - accuracy: 0.8938 - val_loss: 0.2615 - val_accuracy: 0.9200\n",
            "Epoch 8/20\n",
            "32/32 [==============================] - 1s 42ms/step - loss: 0.2084 - accuracy: 0.9312 - val_loss: 0.1947 - val_accuracy: 0.9600\n",
            "Epoch 9/20\n",
            "32/32 [==============================] - 1s 43ms/step - loss: 0.2190 - accuracy: 0.9187 - val_loss: 0.2102 - val_accuracy: 0.9200\n",
            "Epoch 10/20\n",
            "32/32 [==============================] - 1s 43ms/step - loss: 0.1810 - accuracy: 0.9438 - val_loss: 0.1430 - val_accuracy: 0.9400\n",
            "Epoch 11/20\n",
            "32/32 [==============================] - 1s 43ms/step - loss: 0.1803 - accuracy: 0.9438 - val_loss: 0.3072 - val_accuracy: 0.8400\n",
            "Epoch 12/20\n",
            "32/32 [==============================] - 1s 43ms/step - loss: 0.2600 - accuracy: 0.9062 - val_loss: 0.4043 - val_accuracy: 0.8400\n",
            "Epoch 13/20\n",
            "32/32 [==============================] - 1s 43ms/step - loss: 0.2075 - accuracy: 0.9187 - val_loss: 0.1344 - val_accuracy: 0.9800\n",
            "Epoch 14/20\n",
            "32/32 [==============================] - 1s 42ms/step - loss: 0.1895 - accuracy: 0.9312 - val_loss: 0.1852 - val_accuracy: 0.9600\n",
            "Epoch 15/20\n",
            "32/32 [==============================] - 1s 43ms/step - loss: 0.1737 - accuracy: 0.9563 - val_loss: 0.1304 - val_accuracy: 0.9400\n",
            "Epoch 16/20\n",
            "32/32 [==============================] - 1s 43ms/step - loss: 0.1806 - accuracy: 0.9375 - val_loss: 0.1335 - val_accuracy: 0.9600\n",
            "Epoch 17/20\n",
            "32/32 [==============================] - 1s 43ms/step - loss: 0.1721 - accuracy: 0.9187 - val_loss: 0.1111 - val_accuracy: 0.9600\n",
            "Epoch 18/20\n",
            "32/32 [==============================] - 1s 43ms/step - loss: 0.1485 - accuracy: 0.9375 - val_loss: 0.0937 - val_accuracy: 1.0000\n",
            "Epoch 19/20\n",
            "32/32 [==============================] - 1s 44ms/step - loss: 0.1395 - accuracy: 0.9563 - val_loss: 0.1353 - val_accuracy: 0.9400\n",
            "Epoch 20/20\n",
            "32/32 [==============================] - 1s 43ms/step - loss: 0.1169 - accuracy: 0.9625 - val_loss: 0.0875 - val_accuracy: 0.9800\n"
          ]
        }
      ]
    },
    {
      "cell_type": "code",
      "source": [
        "y_vloss=history.history['val_loss']\n",
        "y_loss=history.history['loss']\n",
        "x_len=np.arange(len(y_loss))\n",
        "\n",
        "plt.plot(x_len,y_vloss,marker='.',c='red',label='Testset_loss')\n",
        "plt.plot(x_len,y_loss,marker='.',c='blue',label='Trainset_loss')\n",
        "\n",
        "plt.legend(loc='upper right')\n",
        "plt.grid()\n",
        "plt.xlabel('epoch')\n",
        "plt.ylabel('loss')\n",
        "plt.show()"
      ],
      "metadata": {
        "colab": {
          "base_uri": "https://localhost:8080/",
          "height": 279
        },
        "id": "QgCkM89fTTPy",
        "outputId": "0aadf2b8-9fe8-48a9-bf8a-7a9f849ab5ec"
      },
      "execution_count": 8,
      "outputs": [
        {
          "output_type": "display_data",
          "data": {
            "text/plain": [
              "<Figure size 432x288 with 1 Axes>"
            ],
            "image/png": "[encoded data removed]"
          },
          "metadata": {
            "needs_background": "light"
          }
        }
      ]
    }
  ]
}