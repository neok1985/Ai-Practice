{
  "nbformat": 4,
  "nbformat_minor": 0,
  "metadata": {
    "colab": {
      "name": "LSTM.ipynb",
      "provenance": []
    },
    "kernelspec": {
      "name": "python3",
      "display_name": "Python 3"
    },
    "language_info": {
      "name": "python"
    },
    "accelerator": "GPU",
    "gpuClass": "standard"
  },
  "cells": [
    {
      "cell_type": "code",
      "execution_count": 1,
      "metadata": {
        "id": "5Nll6sH0nLoK"
      },
      "outputs": [],
      "source": [
        "from tensorflow.keras.datasets import imdb\n",
        "from sklearn.model_selection import train_test_split\n",
        "import numpy as np\n",
        "import matplotlib.pyplot as plt\n",
        "from tensorflow.keras.preprocessing.sequence import pad_sequences\n",
        "from tensorflow import keras"
      ]
    },
    {
      "cell_type": "code",
      "source": [
        "(train_input,train_target),(test_input,test_target)=imdb.load_data(num_words=500)\n",
        "train_input,val_input,train_target,val_target=train_test_split(train_input,train_target,test_size=0.2,random_state=42)\n",
        "train_seq=pad_sequences(train_input,maxlen=100)\n",
        "val_seq=pad_sequences(val_input,maxlen=100)"
      ],
      "metadata": {
        "colab": {
          "base_uri": "https://localhost:8080/"
        },
        "id": "QRXG3SC7pQUM",
        "outputId": "e8a87743-f50c-4205-a488-50de0141bd4a"
      },
      "execution_count": 2,
      "outputs": [
        {
          "output_type": "stream",
          "name": "stdout",
          "text": [
            "Downloading data from https://storage.googleapis.com/tensorflow/tf-keras-datasets/imdb.npz\n",
            "17465344/17464789 [==============================] - 0s 0us/step\n",
            "17473536/17464789 [==============================] - 0s 0us/step\n"
          ]
        }
      ]
    },
    {
      "cell_type": "code",
      "source": [
        "model2=keras.Sequential()\n",
        "model2.add(keras.layers.Embedding(500,16,input_length=100))\n",
        "model2.add(keras.layers.LSTM(8))\n",
        "model2.add(keras.layers.Dense(1,activation='sigmoid'))\n",
        "model2.summary()"
      ],
      "metadata": {
        "colab": {
          "base_uri": "https://localhost:8080/"
        },
        "id": "XTDsNk3ppji8",
        "outputId": "806f57cd-06c9-4bba-9f9f-7f13491813e1"
      },
      "execution_count": 3,
      "outputs": [
        {
          "output_type": "stream",
          "name": "stdout",
          "text": [
            "Model: \"sequential\"\n",
            "_________________________________________________________________\n",
            " Layer (type)                Output Shape              Param #   \n",
            "=================================================================\n",
            " embedding (Embedding)       (None, 100, 16)           8000      \n",
            "                                                                 \n",
            " lstm (LSTM)                 (None, 8)                 800       \n",
            "                                                                 \n",
            " dense (Dense)               (None, 1)                 9         \n",
            "                                                                 \n",
            "=================================================================\n",
            "Total params: 8,809\n",
            "Trainable params: 8,809\n",
            "Non-trainable params: 0\n",
            "_________________________________________________________________\n"
          ]
        }
      ]
    },
    {
      "cell_type": "code",
      "source": [
        "rmsprop=keras.optimizers.RMSprop(learning_rate=1e-4)\n",
        "model2.compile(optimizer=rmsprop,loss='binary_crossentropy',metrics=['accuracy'])\n",
        "checkpoint_cb=keras.callbacks.ModelCheckpoint('best-lstm-model.h5',save_best_only=True)\n",
        "early_stopping_cb=keras.callbacks.EarlyStopping(patience=3,restore_best_weights=True)\n",
        "history=model2.fit(train_seq,train_target,epochs=100,batch_size=64,validation_data=(val_seq,val_target),callbacks=[checkpoint_cb,early_stopping_cb])"
      ],
      "metadata": {
        "colab": {
          "base_uri": "https://localhost:8080/"
        },
        "id": "PEICzirkpqDi",
        "outputId": "cc186520-5ec3-4a00-8a2f-2259ebda0931"
      },
      "execution_count": 4,
      "outputs": [
        {
          "output_type": "stream",
          "name": "stdout",
          "text": [
            "Epoch 1/100\n",
            "313/313 [==============================] - 11s 10ms/step - loss: 0.6922 - accuracy: 0.5506 - val_loss: 0.6911 - val_accuracy: 0.5928\n",
            "Epoch 2/100\n",
            "313/313 [==============================] - 3s 9ms/step - loss: 0.6890 - accuracy: 0.6076 - val_loss: 0.6868 - val_accuracy: 0.6346\n",
            "Epoch 3/100\n",
            "313/313 [==============================] - 3s 9ms/step - loss: 0.6811 - accuracy: 0.6484 - val_loss: 0.6744 - val_accuracy: 0.6530\n",
            "Epoch 4/100\n",
            "313/313 [==============================] - 3s 9ms/step - loss: 0.6428 - accuracy: 0.6584 - val_loss: 0.6095 - val_accuracy: 0.7160\n",
            "Epoch 5/100\n",
            "313/313 [==============================] - 3s 11ms/step - loss: 0.5839 - accuracy: 0.7380 - val_loss: 0.5722 - val_accuracy: 0.7436\n",
            "Epoch 6/100\n",
            "313/313 [==============================] - 3s 9ms/step - loss: 0.5572 - accuracy: 0.7566 - val_loss: 0.5499 - val_accuracy: 0.7534\n",
            "Epoch 7/100\n",
            "313/313 [==============================] - 3s 9ms/step - loss: 0.5367 - accuracy: 0.7638 - val_loss: 0.5312 - val_accuracy: 0.7642\n",
            "Epoch 8/100\n",
            "313/313 [==============================] - 3s 9ms/step - loss: 0.5173 - accuracy: 0.7715 - val_loss: 0.5140 - val_accuracy: 0.7656\n",
            "Epoch 9/100\n",
            "313/313 [==============================] - 3s 9ms/step - loss: 0.5005 - accuracy: 0.7766 - val_loss: 0.4987 - val_accuracy: 0.7742\n",
            "Epoch 10/100\n",
            "313/313 [==============================] - 3s 9ms/step - loss: 0.4861 - accuracy: 0.7842 - val_loss: 0.4871 - val_accuracy: 0.7772\n",
            "Epoch 11/100\n",
            "313/313 [==============================] - 3s 9ms/step - loss: 0.4743 - accuracy: 0.7900 - val_loss: 0.4783 - val_accuracy: 0.7808\n",
            "Epoch 12/100\n",
            "313/313 [==============================] - 3s 9ms/step - loss: 0.4643 - accuracy: 0.7940 - val_loss: 0.4708 - val_accuracy: 0.7866\n",
            "Epoch 13/100\n",
            "313/313 [==============================] - 3s 9ms/step - loss: 0.4561 - accuracy: 0.7972 - val_loss: 0.4641 - val_accuracy: 0.7880\n",
            "Epoch 14/100\n",
            "313/313 [==============================] - 3s 9ms/step - loss: 0.4488 - accuracy: 0.8006 - val_loss: 0.4585 - val_accuracy: 0.7920\n",
            "Epoch 15/100\n",
            "313/313 [==============================] - 3s 9ms/step - loss: 0.4425 - accuracy: 0.8037 - val_loss: 0.4543 - val_accuracy: 0.7910\n",
            "Epoch 16/100\n",
            "313/313 [==============================] - 3s 9ms/step - loss: 0.4373 - accuracy: 0.8066 - val_loss: 0.4500 - val_accuracy: 0.7946\n",
            "Epoch 17/100\n",
            "313/313 [==============================] - 3s 9ms/step - loss: 0.4324 - accuracy: 0.8076 - val_loss: 0.4479 - val_accuracy: 0.7940\n",
            "Epoch 18/100\n",
            "313/313 [==============================] - 3s 9ms/step - loss: 0.4287 - accuracy: 0.8101 - val_loss: 0.4446 - val_accuracy: 0.7974\n",
            "Epoch 19/100\n",
            "313/313 [==============================] - 3s 9ms/step - loss: 0.4259 - accuracy: 0.8116 - val_loss: 0.4428 - val_accuracy: 0.7968\n",
            "Epoch 20/100\n",
            "313/313 [==============================] - 3s 9ms/step - loss: 0.4235 - accuracy: 0.8105 - val_loss: 0.4405 - val_accuracy: 0.8004\n",
            "Epoch 21/100\n",
            "313/313 [==============================] - 3s 9ms/step - loss: 0.4208 - accuracy: 0.8133 - val_loss: 0.4401 - val_accuracy: 0.7982\n",
            "Epoch 22/100\n",
            "313/313 [==============================] - 3s 9ms/step - loss: 0.4193 - accuracy: 0.8126 - val_loss: 0.4375 - val_accuracy: 0.8026\n",
            "Epoch 23/100\n",
            "313/313 [==============================] - 3s 9ms/step - loss: 0.4176 - accuracy: 0.8119 - val_loss: 0.4393 - val_accuracy: 0.8022\n",
            "Epoch 24/100\n",
            "313/313 [==============================] - 3s 9ms/step - loss: 0.4163 - accuracy: 0.8132 - val_loss: 0.4379 - val_accuracy: 0.8018\n",
            "Epoch 25/100\n",
            "313/313 [==============================] - 3s 9ms/step - loss: 0.4150 - accuracy: 0.8124 - val_loss: 0.4362 - val_accuracy: 0.7962\n",
            "Epoch 26/100\n",
            "313/313 [==============================] - 3s 9ms/step - loss: 0.4141 - accuracy: 0.8128 - val_loss: 0.4362 - val_accuracy: 0.8010\n",
            "Epoch 27/100\n",
            "313/313 [==============================] - 3s 9ms/step - loss: 0.4132 - accuracy: 0.8141 - val_loss: 0.4347 - val_accuracy: 0.8036\n",
            "Epoch 28/100\n",
            "313/313 [==============================] - 3s 9ms/step - loss: 0.4125 - accuracy: 0.8144 - val_loss: 0.4344 - val_accuracy: 0.7994\n",
            "Epoch 29/100\n",
            "313/313 [==============================] - 3s 9ms/step - loss: 0.4117 - accuracy: 0.8148 - val_loss: 0.4353 - val_accuracy: 0.7988\n",
            "Epoch 30/100\n",
            "313/313 [==============================] - 3s 9ms/step - loss: 0.4111 - accuracy: 0.8135 - val_loss: 0.4337 - val_accuracy: 0.7990\n",
            "Epoch 31/100\n",
            "313/313 [==============================] - 3s 9ms/step - loss: 0.4101 - accuracy: 0.8142 - val_loss: 0.4321 - val_accuracy: 0.8002\n",
            "Epoch 32/100\n",
            "313/313 [==============================] - 3s 9ms/step - loss: 0.4102 - accuracy: 0.8151 - val_loss: 0.4330 - val_accuracy: 0.8042\n",
            "Epoch 33/100\n",
            "313/313 [==============================] - 3s 9ms/step - loss: 0.4094 - accuracy: 0.8145 - val_loss: 0.4344 - val_accuracy: 0.8026\n",
            "Epoch 34/100\n",
            "313/313 [==============================] - 3s 9ms/step - loss: 0.4086 - accuracy: 0.8141 - val_loss: 0.4320 - val_accuracy: 0.8030\n",
            "Epoch 35/100\n",
            "313/313 [==============================] - 3s 9ms/step - loss: 0.4087 - accuracy: 0.8141 - val_loss: 0.4324 - val_accuracy: 0.8030\n",
            "Epoch 36/100\n",
            "313/313 [==============================] - 3s 9ms/step - loss: 0.4080 - accuracy: 0.8145 - val_loss: 0.4309 - val_accuracy: 0.7976\n",
            "Epoch 37/100\n",
            "313/313 [==============================] - 3s 9ms/step - loss: 0.4076 - accuracy: 0.8138 - val_loss: 0.4331 - val_accuracy: 0.7954\n",
            "Epoch 38/100\n",
            "313/313 [==============================] - 3s 9ms/step - loss: 0.4073 - accuracy: 0.8145 - val_loss: 0.4322 - val_accuracy: 0.7956\n",
            "Epoch 39/100\n",
            "313/313 [==============================] - 3s 9ms/step - loss: 0.4067 - accuracy: 0.8145 - val_loss: 0.4313 - val_accuracy: 0.8014\n"
          ]
        }
      ]
    },
    {
      "cell_type": "code",
      "source": [
        "plt.plot(history.history['loss'])\n",
        "plt.plot(history.history['val_loss'])\n",
        "plt.xlabel('epoch')\n",
        "plt.ylabel('loss')\n",
        "plt.legend(['train','val'])\n",
        "plt.show()"
      ],
      "metadata": {
        "colab": {
          "base_uri": "https://localhost:8080/",
          "height": 279
        },
        "id": "EqzbiqObqK5c",
        "outputId": "05416dfe-6fbc-470c-e42e-ecb0964a633f"
      },
      "execution_count": 5,
      "outputs": [
        {
          "output_type": "display_data",
          "data": {
            "text/plain": [
              "<Figure size 432x288 with 1 Axes>"
            ],
            "image/png": "[encoded data removed]"
          },
          "metadata": {
            "needs_background": "light"
          }
        }
      ]
    },
    {
      "cell_type": "code",
      "source": [
        "model3=keras.Sequential()\n",
        "model3.add(keras.layers.Embedding(500,16,input_length=100))\n",
        "model3.add(keras.layers.LSTM(8,dropout=0.3))\n",
        "model3.add(keras.layers.Dense(1,activation='sigmoid'))\n",
        "model3.summary()"
      ],
      "metadata": {
        "colab": {
          "base_uri": "https://localhost:8080/"
        },
        "id": "mVpLCoD3rPI7",
        "outputId": "da807914-730c-4115-d99c-76e49091b062"
      },
      "execution_count": 7,
      "outputs": [
        {
          "output_type": "stream",
          "name": "stdout",
          "text": [
            "Model: \"sequential_2\"\n",
            "_________________________________________________________________\n",
            " Layer (type)                Output Shape              Param #   \n",
            "=================================================================\n",
            " embedding_2 (Embedding)     (None, 100, 16)           8000      \n",
            "                                                                 \n",
            " lstm_2 (LSTM)               (None, 8)                 800       \n",
            "                                                                 \n",
            " dense_1 (Dense)             (None, 1)                 9         \n",
            "                                                                 \n",
            "=================================================================\n",
            "Total params: 8,809\n",
            "Trainable params: 8,809\n",
            "Non-trainable params: 0\n",
            "_________________________________________________________________\n"
          ]
        }
      ]
    },
    {
      "cell_type": "code",
      "source": [
        "rmsprop=keras.optimizers.RMSprop(learning_rate=1e-4)\n",
        "model3.compile(optimizer=rmsprop,loss='binary_crossentropy',metrics=['accuracy'])\n",
        "checkpoint_cb=keras.callbacks.ModelCheckpoint('best-dropout-model.h5',save_best_only=True)\n",
        "early_stopping_cb=keras.callbacks.EarlyStopping(patience=3,restore_best_weights=True)\n",
        "history=model3.fit(train_seq,train_target,epochs=100,batch_size=64,validation_data=(val_seq,val_target),callbacks=[checkpoint_cb,early_stopping_cb])"
      ],
      "metadata": {
        "colab": {
          "base_uri": "https://localhost:8080/"
        },
        "id": "mGnx4YNtrPz-",
        "outputId": "dff3d7c6-e129-455c-fcd4-65e554d96e72"
      },
      "execution_count": 8,
      "outputs": [
        {
          "output_type": "stream",
          "name": "stdout",
          "text": [
            "Epoch 1/100\n",
            "313/313 [==============================] - 5s 10ms/step - loss: 0.6925 - accuracy: 0.5304 - val_loss: 0.6921 - val_accuracy: 0.5572\n",
            "Epoch 2/100\n",
            "313/313 [==============================] - 3s 9ms/step - loss: 0.6907 - accuracy: 0.5651 - val_loss: 0.6893 - val_accuracy: 0.6104\n",
            "Epoch 3/100\n",
            "313/313 [==============================] - 3s 9ms/step - loss: 0.6840 - accuracy: 0.6018 - val_loss: 0.6741 - val_accuracy: 0.5630\n",
            "Epoch 4/100\n",
            "313/313 [==============================] - 3s 9ms/step - loss: 0.6394 - accuracy: 0.6543 - val_loss: 0.6167 - val_accuracy: 0.7282\n",
            "Epoch 5/100\n",
            "313/313 [==============================] - 3s 9ms/step - loss: 0.6031 - accuracy: 0.7367 - val_loss: 0.5955 - val_accuracy: 0.7442\n",
            "Epoch 6/100\n",
            "313/313 [==============================] - 3s 9ms/step - loss: 0.5852 - accuracy: 0.7500 - val_loss: 0.5801 - val_accuracy: 0.7534\n",
            "Epoch 7/100\n",
            "313/313 [==============================] - 3s 9ms/step - loss: 0.5694 - accuracy: 0.7582 - val_loss: 0.5643 - val_accuracy: 0.7624\n",
            "Epoch 8/100\n",
            "313/313 [==============================] - 3s 9ms/step - loss: 0.5545 - accuracy: 0.7655 - val_loss: 0.5540 - val_accuracy: 0.7622\n",
            "Epoch 9/100\n",
            "313/313 [==============================] - 3s 9ms/step - loss: 0.5426 - accuracy: 0.7679 - val_loss: 0.5394 - val_accuracy: 0.7642\n",
            "Epoch 10/100\n",
            "313/313 [==============================] - 3s 9ms/step - loss: 0.5296 - accuracy: 0.7731 - val_loss: 0.5278 - val_accuracy: 0.7740\n",
            "Epoch 11/100\n",
            "313/313 [==============================] - 3s 9ms/step - loss: 0.5175 - accuracy: 0.7793 - val_loss: 0.5189 - val_accuracy: 0.7778\n",
            "Epoch 12/100\n",
            "313/313 [==============================] - 3s 9ms/step - loss: 0.5073 - accuracy: 0.7830 - val_loss: 0.5074 - val_accuracy: 0.7746\n",
            "Epoch 13/100\n",
            "313/313 [==============================] - 3s 9ms/step - loss: 0.4969 - accuracy: 0.7832 - val_loss: 0.4982 - val_accuracy: 0.7752\n",
            "Epoch 14/100\n",
            "313/313 [==============================] - 3s 9ms/step - loss: 0.4854 - accuracy: 0.7903 - val_loss: 0.4906 - val_accuracy: 0.7796\n",
            "Epoch 15/100\n",
            "313/313 [==============================] - 3s 9ms/step - loss: 0.4785 - accuracy: 0.7876 - val_loss: 0.4815 - val_accuracy: 0.7864\n",
            "Epoch 16/100\n",
            "313/313 [==============================] - 3s 9ms/step - loss: 0.4703 - accuracy: 0.7914 - val_loss: 0.4751 - val_accuracy: 0.7838\n",
            "Epoch 17/100\n",
            "313/313 [==============================] - 3s 9ms/step - loss: 0.4633 - accuracy: 0.7929 - val_loss: 0.4697 - val_accuracy: 0.7894\n",
            "Epoch 18/100\n",
            "313/313 [==============================] - 3s 9ms/step - loss: 0.4563 - accuracy: 0.7943 - val_loss: 0.4622 - val_accuracy: 0.7912\n",
            "Epoch 19/100\n",
            "313/313 [==============================] - 3s 9ms/step - loss: 0.4524 - accuracy: 0.7965 - val_loss: 0.4595 - val_accuracy: 0.7918\n",
            "Epoch 20/100\n",
            "313/313 [==============================] - 3s 10ms/step - loss: 0.4472 - accuracy: 0.8015 - val_loss: 0.4543 - val_accuracy: 0.7924\n",
            "Epoch 21/100\n",
            "313/313 [==============================] - 3s 9ms/step - loss: 0.4436 - accuracy: 0.7988 - val_loss: 0.4514 - val_accuracy: 0.7910\n",
            "Epoch 22/100\n",
            "313/313 [==============================] - 3s 10ms/step - loss: 0.4411 - accuracy: 0.8030 - val_loss: 0.4480 - val_accuracy: 0.7938\n",
            "Epoch 23/100\n",
            "313/313 [==============================] - 3s 10ms/step - loss: 0.4375 - accuracy: 0.8049 - val_loss: 0.4451 - val_accuracy: 0.7952\n",
            "Epoch 24/100\n",
            "313/313 [==============================] - 3s 9ms/step - loss: 0.4349 - accuracy: 0.8030 - val_loss: 0.4462 - val_accuracy: 0.7962\n",
            "Epoch 25/100\n",
            "313/313 [==============================] - 3s 9ms/step - loss: 0.4331 - accuracy: 0.8038 - val_loss: 0.4443 - val_accuracy: 0.7988\n",
            "Epoch 26/100\n",
            "313/313 [==============================] - 3s 9ms/step - loss: 0.4311 - accuracy: 0.8059 - val_loss: 0.4418 - val_accuracy: 0.7944\n",
            "Epoch 27/100\n",
            "313/313 [==============================] - 3s 9ms/step - loss: 0.4309 - accuracy: 0.8062 - val_loss: 0.4392 - val_accuracy: 0.7998\n",
            "Epoch 28/100\n",
            "313/313 [==============================] - 3s 9ms/step - loss: 0.4276 - accuracy: 0.8091 - val_loss: 0.4390 - val_accuracy: 0.7960\n",
            "Epoch 29/100\n",
            "313/313 [==============================] - 3s 9ms/step - loss: 0.4266 - accuracy: 0.8091 - val_loss: 0.4378 - val_accuracy: 0.7968\n",
            "Epoch 30/100\n",
            "313/313 [==============================] - 3s 9ms/step - loss: 0.4264 - accuracy: 0.8062 - val_loss: 0.4362 - val_accuracy: 0.7994\n",
            "Epoch 31/100\n",
            "313/313 [==============================] - 3s 9ms/step - loss: 0.4248 - accuracy: 0.8075 - val_loss: 0.4364 - val_accuracy: 0.8012\n",
            "Epoch 32/100\n",
            "313/313 [==============================] - 3s 9ms/step - loss: 0.4242 - accuracy: 0.8091 - val_loss: 0.4346 - val_accuracy: 0.8006\n",
            "Epoch 33/100\n",
            "313/313 [==============================] - 3s 9ms/step - loss: 0.4228 - accuracy: 0.8104 - val_loss: 0.4346 - val_accuracy: 0.8012\n",
            "Epoch 34/100\n",
            "313/313 [==============================] - 3s 9ms/step - loss: 0.4215 - accuracy: 0.8081 - val_loss: 0.4347 - val_accuracy: 0.7956\n",
            "Epoch 35/100\n",
            "313/313 [==============================] - 3s 9ms/step - loss: 0.4213 - accuracy: 0.8074 - val_loss: 0.4331 - val_accuracy: 0.8014\n",
            "Epoch 36/100\n",
            "313/313 [==============================] - 3s 9ms/step - loss: 0.4189 - accuracy: 0.8098 - val_loss: 0.4325 - val_accuracy: 0.8030\n",
            "Epoch 37/100\n",
            "313/313 [==============================] - 3s 9ms/step - loss: 0.4191 - accuracy: 0.8112 - val_loss: 0.4326 - val_accuracy: 0.7974\n",
            "Epoch 38/100\n",
            "313/313 [==============================] - 3s 9ms/step - loss: 0.4176 - accuracy: 0.8108 - val_loss: 0.4321 - val_accuracy: 0.7982\n",
            "Epoch 39/100\n",
            "313/313 [==============================] - 3s 8ms/step - loss: 0.4170 - accuracy: 0.8112 - val_loss: 0.4335 - val_accuracy: 0.8028\n",
            "Epoch 40/100\n",
            "313/313 [==============================] - 3s 9ms/step - loss: 0.4162 - accuracy: 0.8137 - val_loss: 0.4314 - val_accuracy: 0.8028\n",
            "Epoch 41/100\n",
            "313/313 [==============================] - 3s 9ms/step - loss: 0.4178 - accuracy: 0.8120 - val_loss: 0.4312 - val_accuracy: 0.8020\n",
            "Epoch 42/100\n",
            "313/313 [==============================] - 3s 9ms/step - loss: 0.4174 - accuracy: 0.8097 - val_loss: 0.4308 - val_accuracy: 0.7988\n",
            "Epoch 43/100\n",
            "313/313 [==============================] - 3s 9ms/step - loss: 0.4149 - accuracy: 0.8105 - val_loss: 0.4301 - val_accuracy: 0.7988\n",
            "Epoch 44/100\n",
            "313/313 [==============================] - 3s 9ms/step - loss: 0.4164 - accuracy: 0.8145 - val_loss: 0.4298 - val_accuracy: 0.8000\n",
            "Epoch 45/100\n",
            "313/313 [==============================] - 3s 9ms/step - loss: 0.4164 - accuracy: 0.8113 - val_loss: 0.4306 - val_accuracy: 0.8042\n",
            "Epoch 46/100\n",
            "313/313 [==============================] - 3s 9ms/step - loss: 0.4163 - accuracy: 0.8109 - val_loss: 0.4293 - val_accuracy: 0.8026\n",
            "Epoch 47/100\n",
            "313/313 [==============================] - 3s 9ms/step - loss: 0.4140 - accuracy: 0.8126 - val_loss: 0.4290 - val_accuracy: 0.8018\n",
            "Epoch 48/100\n",
            "313/313 [==============================] - 3s 9ms/step - loss: 0.4138 - accuracy: 0.8133 - val_loss: 0.4287 - val_accuracy: 0.8032\n",
            "Epoch 49/100\n",
            "313/313 [==============================] - 3s 9ms/step - loss: 0.4145 - accuracy: 0.8120 - val_loss: 0.4288 - val_accuracy: 0.8022\n",
            "Epoch 50/100\n",
            "313/313 [==============================] - 3s 9ms/step - loss: 0.4125 - accuracy: 0.8120 - val_loss: 0.4300 - val_accuracy: 0.8052\n",
            "Epoch 51/100\n",
            "313/313 [==============================] - 3s 9ms/step - loss: 0.4139 - accuracy: 0.8137 - val_loss: 0.4294 - val_accuracy: 0.8046\n"
          ]
        }
      ]
    },
    {
      "cell_type": "code",
      "source": [
        "plt.plot(history.history['loss'])\n",
        "plt.plot(history.history['val_loss'])\n",
        "plt.xlabel('epoch')\n",
        "plt.ylabel('loss')\n",
        "plt.legend(['train','val'])\n",
        "plt.show()"
      ],
      "metadata": {
        "colab": {
          "base_uri": "https://localhost:8080/",
          "height": 279
        },
        "id": "AZ1I0NlkrSXi",
        "outputId": "cf708402-1f02-4256-cadd-6240e6983362"
      },
      "execution_count": 9,
      "outputs": [
        {
          "output_type": "display_data",
          "data": {
            "text/plain": [
              "<Figure size 432x288 with 1 Axes>"
            ],
            "image/png": "[encoded data removed]"
          },
          "metadata": {
            "needs_background": "light"
          }
        }
      ]
    }
  ]
}