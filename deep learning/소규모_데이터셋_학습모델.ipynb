{
  "nbformat": 4,
  "nbformat_minor": 0,
  "metadata": {
    "colab": {
      "name": "소규모 데이터셋 학습모델.ipynb",
      "provenance": []
    },
    "kernelspec": {
      "name": "python3",
      "display_name": "Python 3"
    },
    "language_info": {
      "name": "python"
    }
  },
  "cells": [
    {
      "cell_type": "code",
      "execution_count": 4,
      "metadata": {
        "id": "2OIA_YQ_3pMg"
      },
      "outputs": [],
      "source": [
        "# from tensorflow.keras.datasets import mnist\n",
        "from tensorflow.keras.layers import Input,Reshape,Flatten,Dense,Dropout,MaxPooling2D\n",
        "from tensorflow.keras.layers import BatchNormalization,Activation,LeakyReLU,UpSampling2D,Conv2D\n",
        "from keras.models import Sequential\n",
        "from tensorflow.keras import optimizers\n",
        "from tensorflow.keras.callbacks import EarlyStopping\n",
        "from tensorflow.keras.preprocessing.image import ImageDataGenerator\n",
        "\n",
        "import numpy as np\n",
        "import matplotlib.pyplot as plt"
      ]
    },
    {
      "cell_type": "code",
      "source": [
        "!git clone https://github.com/taehojo/data-ch20.git\n"
      ],
      "metadata": {
        "colab": {
          "base_uri": "https://localhost:8080/"
        },
        "id": "m9bvamGd7q3Z",
        "outputId": "a8f14537-9c4b-4a15-cd97-4679b96f220f"
      },
      "execution_count": 2,
      "outputs": [
        {
          "output_type": "stream",
          "name": "stdout",
          "text": [
            "Cloning into 'data-ch20'...\n",
            "remote: Enumerating objects: 265, done.\u001b[K\n",
            "remote: Counting objects: 100% (265/265), done.\u001b[K\n",
            "remote: Compressing objects: 100% (265/265), done.\u001b[K\n",
            "remote: Total 265 (delta 0), reused 265 (delta 0), pack-reused 0\u001b[K\n",
            "Receiving objects: 100% (265/265), 1.86 MiB | 5.14 MiB/s, done.\n"
          ]
        }
      ]
    },
    {
      "cell_type": "code",
      "source": [
        "train_datagen=ImageDataGenerator(rescale=1./255,\n",
        "                                 horizontal_flip=True,\n",
        "                                 width_shift_range=0.1,\n",
        "                                 height_shift_range=0.1)\n",
        "train_generator=train_datagen.flow_from_directory('./data-ch20/train',\n",
        "                                                  target_size=(150,150),\n",
        "                                                  batch_size=5,\n",
        "                                                  class_mode='binary')\n",
        "test_datagen=ImageDataGenerator(rescale=1./255)\n",
        "test_generator=test_datagen.flow_from_directory('./data-ch20/test',\n",
        "                                                target_size=(150,150),\n",
        "                                                batch_size=5,\n",
        "                                                class_mode='binary')"
      ],
      "metadata": {
        "colab": {
          "base_uri": "https://localhost:8080/"
        },
        "id": "2IIYdjDK71pM",
        "outputId": "76978528-8608-41e6-929f-2120fc7bd6bc"
      },
      "execution_count": 6,
      "outputs": [
        {
          "output_type": "stream",
          "name": "stdout",
          "text": [
            "Found 160 images belonging to 2 classes.\n",
            "Found 120 images belonging to 2 classes.\n"
          ]
        }
      ]
    },
    {
      "cell_type": "code",
      "source": [
        ""
      ],
      "metadata": {
        "id": "UCroWcGK9zI-"
      },
      "execution_count": null,
      "outputs": []
    },
    {
      "cell_type": "code",
      "source": [
        "model = Sequential()\n",
        "model.add(Conv2D(32,(3,3),input_shape=(150,150,3)))\n",
        "model.add(Activation('relu'))\n",
        "model.add(MaxPooling2D(pool_size=(2,2)))\n",
        "model.add(Conv2D(32,(3,3)))\n",
        "model.add(Activation('relu'))\n",
        "model.add(MaxPooling2D(pool_size=(2,2)))\n",
        "model.add(Conv2D(64,(3,3)))\n",
        "model.add(Activation('relu'))\n",
        "model.add(MaxPooling2D(pool_size=(2,2)))\n",
        "model.add(Flatten())\n",
        "model.add(Dense(64))\n",
        "model.add(Activation('relu'))\n",
        "model.add(Dropout(0.5))\n",
        "model.add(Dense(1))\n",
        "model.add(Activation('sigmoid'))\n",
        "\n",
        "model.summary()"
      ],
      "metadata": {
        "colab": {
          "base_uri": "https://localhost:8080/"
        },
        "id": "ELcdszL7CIp2",
        "outputId": "4606e936-43e2-415d-85b2-8d2eb9f5efe5"
      },
      "execution_count": 8,
      "outputs": [
        {
          "output_type": "stream",
          "name": "stdout",
          "text": [
            "Model: \"sequential_1\"\n",
            "_________________________________________________________________\n",
            " Layer (type)                Output Shape              Param #   \n",
            "=================================================================\n",
            " conv2d_1 (Conv2D)           (None, 148, 148, 32)      896       \n",
            "                                                                 \n",
            " activation_1 (Activation)   (None, 148, 148, 32)      0         \n",
            "                                                                 \n",
            " max_pooling2d (MaxPooling2D  (None, 74, 74, 32)       0         \n",
            " )                                                               \n",
            "                                                                 \n",
            " conv2d_2 (Conv2D)           (None, 72, 72, 32)        9248      \n",
            "                                                                 \n",
            " activation_2 (Activation)   (None, 72, 72, 32)        0         \n",
            "                                                                 \n",
            " max_pooling2d_1 (MaxPooling  (None, 36, 36, 32)       0         \n",
            " 2D)                                                             \n",
            "                                                                 \n",
            " conv2d_3 (Conv2D)           (None, 34, 34, 64)        18496     \n",
            "                                                                 \n",
            " activation_3 (Activation)   (None, 34, 34, 64)        0         \n",
            "                                                                 \n",
            " max_pooling2d_2 (MaxPooling  (None, 17, 17, 64)       0         \n",
            " 2D)                                                             \n",
            "                                                                 \n",
            " flatten (Flatten)           (None, 18496)             0         \n",
            "                                                                 \n",
            " dense (Dense)               (None, 64)                1183808   \n",
            "                                                                 \n",
            " activation_4 (Activation)   (None, 64)                0         \n",
            "                                                                 \n",
            " dropout (Dropout)           (None, 64)                0         \n",
            "                                                                 \n",
            " dense_1 (Dense)             (None, 1)                 65        \n",
            "                                                                 \n",
            " activation_5 (Activation)   (None, 1)                 0         \n",
            "                                                                 \n",
            "=================================================================\n",
            "Total params: 1,212,513\n",
            "Trainable params: 1,212,513\n",
            "Non-trainable params: 0\n",
            "_________________________________________________________________\n"
          ]
        }
      ]
    },
    {
      "cell_type": "code",
      "source": [
        "model.compile(loss='binary_crossentropy',optimizer=optimizers.Adam(learning_rate=0.0002),metrics=['accuracy'])\n",
        "early_stopping_callback=EarlyStopping(monitor='val_loss',patience=5)"
      ],
      "metadata": {
        "id": "l2GcXiGpBfud"
      },
      "execution_count": 10,
      "outputs": []
    },
    {
      "cell_type": "code",
      "source": [
        "history=model.fit(train_generator,epochs=100,validation_data=test_generator,validation_steps=10,callbacks=[early_stopping_callback])"
      ],
      "metadata": {
        "colab": {
          "base_uri": "https://localhost:8080/"
        },
        "id": "nH-kQ3nNCJfW",
        "outputId": "ead2a2e3-e8a7-4ceb-d8ac-6afa98ecda7f"
      },
      "execution_count": 11,
      "outputs": [
        {
          "output_type": "stream",
          "name": "stdout",
          "text": [
            "Epoch 1/100\n",
            "32/32 [==============================] - 7s 198ms/step - loss: 0.6952 - accuracy: 0.5000 - val_loss: 0.6941 - val_accuracy: 0.5000\n",
            "Epoch 2/100\n",
            "32/32 [==============================] - 7s 215ms/step - loss: 0.6916 - accuracy: 0.5437 - val_loss: 0.6908 - val_accuracy: 0.4400\n",
            "Epoch 3/100\n",
            "32/32 [==============================] - 6s 196ms/step - loss: 0.6765 - accuracy: 0.5688 - val_loss: 0.6742 - val_accuracy: 0.5800\n",
            "Epoch 4/100\n",
            "32/32 [==============================] - 6s 182ms/step - loss: 0.6838 - accuracy: 0.5562 - val_loss: 0.6719 - val_accuracy: 0.6000\n",
            "Epoch 5/100\n",
            "32/32 [==============================] - 6s 187ms/step - loss: 0.6789 - accuracy: 0.5500 - val_loss: 0.6687 - val_accuracy: 0.5400\n",
            "Epoch 6/100\n",
            "32/32 [==============================] - 7s 233ms/step - loss: 0.6552 - accuracy: 0.6562 - val_loss: 0.6006 - val_accuracy: 0.7600\n",
            "Epoch 7/100\n",
            "32/32 [==============================] - 6s 196ms/step - loss: 0.6187 - accuracy: 0.7125 - val_loss: 0.6115 - val_accuracy: 0.5800\n",
            "Epoch 8/100\n",
            "32/32 [==============================] - 9s 268ms/step - loss: 0.5821 - accuracy: 0.7063 - val_loss: 0.5218 - val_accuracy: 0.7400\n",
            "Epoch 9/100\n",
            "32/32 [==============================] - 10s 317ms/step - loss: 0.5872 - accuracy: 0.6750 - val_loss: 0.5069 - val_accuracy: 0.8800\n",
            "Epoch 10/100\n",
            "32/32 [==============================] - 9s 291ms/step - loss: 0.5082 - accuracy: 0.7812 - val_loss: 0.4546 - val_accuracy: 0.8000\n",
            "Epoch 11/100\n",
            "32/32 [==============================] - 8s 237ms/step - loss: 0.5273 - accuracy: 0.7375 - val_loss: 0.4807 - val_accuracy: 0.7400\n",
            "Epoch 12/100\n",
            "32/32 [==============================] - 8s 244ms/step - loss: 0.4514 - accuracy: 0.7875 - val_loss: 0.4729 - val_accuracy: 0.7800\n",
            "Epoch 13/100\n",
            "32/32 [==============================] - 7s 222ms/step - loss: 0.4147 - accuracy: 0.8562 - val_loss: 0.2668 - val_accuracy: 0.9200\n",
            "Epoch 14/100\n",
            "32/32 [==============================] - 6s 196ms/step - loss: 0.3812 - accuracy: 0.8188 - val_loss: 0.3239 - val_accuracy: 0.8600\n",
            "Epoch 15/100\n",
            "32/32 [==============================] - 6s 194ms/step - loss: 0.3623 - accuracy: 0.8000 - val_loss: 0.2494 - val_accuracy: 0.8800\n",
            "Epoch 16/100\n",
            "32/32 [==============================] - 9s 282ms/step - loss: 0.3414 - accuracy: 0.8813 - val_loss: 0.3107 - val_accuracy: 0.8600\n",
            "Epoch 17/100\n",
            "32/32 [==============================] - 7s 224ms/step - loss: 0.2957 - accuracy: 0.8813 - val_loss: 0.1633 - val_accuracy: 0.9800\n",
            "Epoch 18/100\n",
            "32/32 [==============================] - 8s 245ms/step - loss: 0.2559 - accuracy: 0.9000 - val_loss: 0.1277 - val_accuracy: 0.9800\n",
            "Epoch 19/100\n",
            "32/32 [==============================] - 8s 234ms/step - loss: 0.2410 - accuracy: 0.8938 - val_loss: 0.0899 - val_accuracy: 1.0000\n",
            "Epoch 20/100\n",
            "32/32 [==============================] - 8s 259ms/step - loss: 0.2304 - accuracy: 0.9187 - val_loss: 0.1347 - val_accuracy: 0.9800\n",
            "Epoch 21/100\n",
            "32/32 [==============================] - 6s 184ms/step - loss: 0.2042 - accuracy: 0.9312 - val_loss: 0.1271 - val_accuracy: 0.9400\n",
            "Epoch 22/100\n",
            "32/32 [==============================] - 6s 183ms/step - loss: 0.2124 - accuracy: 0.9125 - val_loss: 0.1490 - val_accuracy: 0.9400\n",
            "Epoch 23/100\n",
            "32/32 [==============================] - 6s 195ms/step - loss: 0.1881 - accuracy: 0.9375 - val_loss: 0.0945 - val_accuracy: 0.9800\n",
            "Epoch 24/100\n",
            "32/32 [==============================] - 6s 183ms/step - loss: 0.1797 - accuracy: 0.9500 - val_loss: 0.0838 - val_accuracy: 1.0000\n",
            "Epoch 25/100\n",
            "32/32 [==============================] - 6s 183ms/step - loss: 0.1641 - accuracy: 0.9375 - val_loss: 0.0868 - val_accuracy: 0.9800\n",
            "Epoch 26/100\n",
            "32/32 [==============================] - 6s 184ms/step - loss: 0.1593 - accuracy: 0.9500 - val_loss: 0.1474 - val_accuracy: 0.9600\n",
            "Epoch 27/100\n",
            "32/32 [==============================] - 6s 183ms/step - loss: 0.2130 - accuracy: 0.9312 - val_loss: 0.1170 - val_accuracy: 0.9800\n",
            "Epoch 28/100\n",
            "32/32 [==============================] - 6s 197ms/step - loss: 0.1311 - accuracy: 0.9563 - val_loss: 0.0658 - val_accuracy: 0.9800\n",
            "Epoch 29/100\n",
            "32/32 [==============================] - 6s 183ms/step - loss: 0.1605 - accuracy: 0.9312 - val_loss: 0.0983 - val_accuracy: 0.9600\n",
            "Epoch 30/100\n",
            "32/32 [==============================] - 6s 183ms/step - loss: 0.1329 - accuracy: 0.9563 - val_loss: 0.2042 - val_accuracy: 0.8800\n",
            "Epoch 31/100\n",
            "32/32 [==============================] - 6s 184ms/step - loss: 0.1012 - accuracy: 0.9812 - val_loss: 0.0650 - val_accuracy: 0.9800\n",
            "Epoch 32/100\n",
            "32/32 [==============================] - 6s 182ms/step - loss: 0.1208 - accuracy: 0.9563 - val_loss: 0.0687 - val_accuracy: 0.9800\n",
            "Epoch 33/100\n",
            "32/32 [==============================] - 7s 208ms/step - loss: 0.1211 - accuracy: 0.9500 - val_loss: 0.0711 - val_accuracy: 0.9800\n",
            "Epoch 34/100\n",
            "32/32 [==============================] - 7s 221ms/step - loss: 0.0926 - accuracy: 0.9688 - val_loss: 0.0213 - val_accuracy: 1.0000\n",
            "Epoch 35/100\n",
            "32/32 [==============================] - 6s 183ms/step - loss: 0.1034 - accuracy: 0.9625 - val_loss: 0.0693 - val_accuracy: 0.9600\n",
            "Epoch 36/100\n",
            "32/32 [==============================] - 6s 191ms/step - loss: 0.1582 - accuracy: 0.9187 - val_loss: 0.0209 - val_accuracy: 1.0000\n",
            "Epoch 37/100\n",
            "32/32 [==============================] - 6s 182ms/step - loss: 0.0975 - accuracy: 0.9688 - val_loss: 0.1709 - val_accuracy: 0.9400\n",
            "Epoch 38/100\n",
            "32/32 [==============================] - 6s 184ms/step - loss: 0.1102 - accuracy: 0.9688 - val_loss: 0.0900 - val_accuracy: 0.9600\n",
            "Epoch 39/100\n",
            "32/32 [==============================] - 6s 183ms/step - loss: 0.0893 - accuracy: 0.9688 - val_loss: 0.1252 - val_accuracy: 0.9600\n",
            "Epoch 40/100\n",
            "32/32 [==============================] - 6s 184ms/step - loss: 0.0959 - accuracy: 0.9688 - val_loss: 0.0650 - val_accuracy: 0.9600\n",
            "Epoch 41/100\n",
            "32/32 [==============================] - 6s 183ms/step - loss: 0.1055 - accuracy: 0.9500 - val_loss: 0.0435 - val_accuracy: 0.9800\n"
          ]
        }
      ]
    },
    {
      "cell_type": "code",
      "source": [
        "y_vloss=history.history['val_loss']\n",
        "y_loss=history.history['loss']\n",
        "x_len=np.arange(len(y_loss))\n",
        "\n",
        "plt.plot(x_len,y_vloss,marker='.',c='red',label='Testset_loss')\n",
        "plt.plot(x_len,y_loss,marker='.',c='blue',label='Trainset_loss')\n",
        "\n",
        "plt.legend(loc='upper right')\n",
        "plt.grid()\n",
        "plt.xlabel('epoch')\n",
        "plt.ylabel('loss')\n",
        "plt.show()"
      ],
      "metadata": {
        "colab": {
          "base_uri": "https://localhost:8080/",
          "height": 279
        },
        "id": "WR-jkfO9Cdnd",
        "outputId": "8beb67d2-5d7f-4fc9-e0c0-6735dad0c788"
      },
      "execution_count": 12,
      "outputs": [
        {
          "output_type": "display_data",
          "data": {
            "text/plain": [
              "<Figure size 432x288 with 1 Axes>"
            ],
            "image/png": "[encoded data removed]"
          },
          "metadata": {
            "needs_background": "light"
          }
        }
      ]
    }
  ]
}