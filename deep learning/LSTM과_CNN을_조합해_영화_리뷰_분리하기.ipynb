{
  "nbformat": 4,
  "nbformat_minor": 0,
  "metadata": {
    "colab": {
      "name": "LSTM과 CNN을 조합해 영화 리뷰 분리하기.ipynb",
      "provenance": [],
      "collapsed_sections": []
    },
    "kernelspec": {
      "name": "python3",
      "display_name": "Python 3"
    },
    "language_info": {
      "name": "python"
    },
    "gpuClass": "standard"
  },
  "cells": [
    {
      "cell_type": "code",
      "execution_count": 1,
      "metadata": {
        "id": "7wKYCj49l3BT"
      },
      "outputs": [],
      "source": [
        "# https://setosa.io/ev/image-kernels/\n",
        "\n",
        "from tensorflow.keras.models import Sequential\n",
        "from tensorflow.keras.layers import Dense,LSTM,Embedding,Conv1D,Dropout,Activation,MaxPooling1D\n",
        "from tensorflow.keras.utils import to_categorical\n",
        "from tensorflow.keras.preprocessing import sequence\n",
        "from tensorflow.keras.datasets import reuters\n",
        "from tensorflow.keras.callbacks import EarlyStopping\n",
        "from tensorflow.keras.datasets import imdb\n",
        "\n",
        "import numpy as np\n",
        "import matplotlib.pyplot as plt"
      ]
    },
    {
      "cell_type": "code",
      "source": [
        "(X_train,y_train),(X_test,y_test)=imdb.load_data(num_words=5000)\n",
        "\n",
        "X_train=sequence.pad_sequences(X_train,maxlen=500)\n",
        "X_test=sequence.pad_sequences(X_test,maxlen=500)\n"
      ],
      "metadata": {
        "colab": {
          "base_uri": "https://localhost:8080/"
        },
        "id": "DwvCAPJzog-k",
        "outputId": "b78af647-d28b-4b3e-eff9-b8d60c812f2d"
      },
      "execution_count": 2,
      "outputs": [
        {
          "output_type": "stream",
          "name": "stdout",
          "text": [
            "Downloading data from https://storage.googleapis.com/tensorflow/tf-keras-datasets/imdb.npz\n",
            "17465344/17464789 [==============================] - 0s 0us/step\n",
            "17473536/17464789 [==============================] - 0s 0us/step\n"
          ]
        }
      ]
    },
    {
      "cell_type": "code",
      "source": [
        "model=Sequential()\n",
        "model.add(Embedding(5000,100))\n",
        "model.add(Dropout(0.5))\n",
        "model.add(Conv1D(64,5,padding='valid',activation='relu',strides=1))\n",
        "model.add(MaxPooling1D(pool_size=4))\n",
        "model.add(LSTM(55))\n",
        "model.add(Dense(1))\n",
        "model.add(Activation('sigmoid'))\n",
        "\n",
        "model.compile(loss='binary_crossentropy',optimizer='adam',metrics=['accuracy'])\n",
        "early_stopping_callback=EarlyStopping(monitor='val_loss',patience=4)\n",
        "\n",
        "model.summary()"
      ],
      "metadata": {
        "colab": {
          "base_uri": "https://localhost:8080/"
        },
        "id": "Mc9VJgm3o6E8",
        "outputId": "c9e9f917-e293-4ab0-eab4-18a33a30d2ad"
      },
      "execution_count": 5,
      "outputs": [
        {
          "output_type": "stream",
          "name": "stdout",
          "text": [
            "Model: \"sequential_2\"\n",
            "_________________________________________________________________\n",
            " Layer (type)                Output Shape              Param #   \n",
            "=================================================================\n",
            " embedding_2 (Embedding)     (None, None, 100)         500000    \n",
            "                                                                 \n",
            " dropout_2 (Dropout)         (None, None, 100)         0         \n",
            "                                                                 \n",
            " conv1d_1 (Conv1D)           (None, None, 64)          32064     \n",
            "                                                                 \n",
            " max_pooling1d (MaxPooling1D  (None, None, 64)         0         \n",
            " )                                                               \n",
            "                                                                 \n",
            " lstm (LSTM)                 (None, 55)                26400     \n",
            "                                                                 \n",
            " dense (Dense)               (None, 1)                 56        \n",
            "                                                                 \n",
            " activation (Activation)     (None, 1)                 0         \n",
            "                                                                 \n",
            "=================================================================\n",
            "Total params: 558,520\n",
            "Trainable params: 558,520\n",
            "Non-trainable params: 0\n",
            "_________________________________________________________________\n"
          ]
        }
      ]
    },
    {
      "cell_type": "code",
      "source": [
        "history=model.fit(X_train,y_train,batch_size=40,epochs=100,validation_split=0.25,callbacks=[early_stopping_callback])\n",
        "\n",
        "print('\\n Test Accuracy: %.4f' %(model.evaluate(X_test,y_test)[1]))"
      ],
      "metadata": {
        "colab": {
          "base_uri": "https://localhost:8080/"
        },
        "id": "rCH3XkvMqGtk",
        "outputId": "0f3e8a47-8e02-485d-de16-fb2b9ea604c9"
      },
      "execution_count": 6,
      "outputs": [
        {
          "output_type": "stream",
          "name": "stdout",
          "text": [
            "Epoch 1/100\n",
            "469/469 [==============================] - 20s 13ms/step - loss: 0.3977 - accuracy: 0.8054 - val_loss: 0.2851 - val_accuracy: 0.8837\n",
            "Epoch 2/100\n",
            "469/469 [==============================] - 6s 12ms/step - loss: 0.2313 - accuracy: 0.9085 - val_loss: 0.2637 - val_accuracy: 0.8918\n",
            "Epoch 3/100\n",
            "469/469 [==============================] - 5s 11ms/step - loss: 0.1834 - accuracy: 0.9308 - val_loss: 0.2954 - val_accuracy: 0.8842\n",
            "Epoch 4/100\n",
            "469/469 [==============================] - 5s 12ms/step - loss: 0.1500 - accuracy: 0.9446 - val_loss: 0.2973 - val_accuracy: 0.8835\n",
            "Epoch 5/100\n",
            "469/469 [==============================] - 6s 12ms/step - loss: 0.1138 - accuracy: 0.9591 - val_loss: 0.3102 - val_accuracy: 0.8789\n",
            "Epoch 6/100\n",
            "469/469 [==============================] - 6s 12ms/step - loss: 0.0914 - accuracy: 0.9691 - val_loss: 0.3262 - val_accuracy: 0.8816\n",
            "782/782 [==============================] - 3s 4ms/step - loss: 0.3435 - accuracy: 0.8772\n",
            "\n",
            " Test Accuracy: 0.8772\n"
          ]
        }
      ]
    },
    {
      "cell_type": "code",
      "source": [
        "y_vloss=history.history['val_loss']\n",
        "y_loss=history.history['loss']\n",
        "\n",
        "x_len=np.arange(len(y_loss))\n",
        "\n",
        "plt.plot(x_len,y_vloss,marker='.',c='red',label='Testset_loss')\n",
        "plt.plot(x_len,y_loss,marker='.',c='blue',label='Trainset_loss')\n",
        "\n",
        "plt.legend(loc='upper right')\n",
        "plt.grid()\n",
        "plt.xlabel('epoch')\n",
        "plt.ylabel('loss')\n",
        "plt.show()"
      ],
      "metadata": {
        "colab": {
          "base_uri": "https://localhost:8080/",
          "height": 279
        },
        "id": "iTtnZNNXqiNk",
        "outputId": "7ae839c4-c9c2-499d-9cfb-4c08b166cd7c"
      },
      "execution_count": 7,
      "outputs": [
        {
          "output_type": "display_data",
          "data": {
            "text/plain": [
              "<Figure size 432x288 with 1 Axes>"
            ],
            "image/png": "[encoded data removed]"
          },
          "metadata": {
            "needs_background": "light"
          }
        }
      ]
    }
  ]
}