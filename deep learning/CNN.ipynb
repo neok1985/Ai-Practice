{
  "nbformat": 4,
  "nbformat_minor": 0,
  "metadata": {
    "colab": {
      "name": "CNN.ipynb",
      "provenance": []
    },
    "kernelspec": {
      "name": "python3",
      "display_name": "Python 3"
    },
    "language_info": {
      "name": "python"
    }
  },
  "cells": [
    {
      "cell_type": "code",
      "execution_count": 6,
      "metadata": {
        "id": "TVs7drghaIM5"
      },
      "outputs": [],
      "source": [
        "from tensorflow.keras.datasets import mnist\n",
        "from tensorflow.keras.utils import to_categorical\n",
        "import pandas as pd\n",
        "from tensorflow.keras.models import Sequential\n",
        "from tensorflow.keras.layers import Dense,Dropout,Flatten,Conv2D,MaxPooling2D\n",
        "from sklearn.model_selection import train_test_split\n",
        "from tensorflow.keras.callbacks import ModelCheckpoint\n",
        "from tensorflow.keras.callbacks import EarlyStopping\n",
        "import matplotlib.pyplot as plt\n",
        "import numpy as np\n",
        "import seaborn as sns\n"
      ]
    },
    {
      "cell_type": "code",
      "source": [
        "(X_train,y_train),(X_test,y_test)=mnist.load_data()"
      ],
      "metadata": {
        "colab": {
          "base_uri": "https://localhost:8080/"
        },
        "id": "S1tLc_87aRbp",
        "outputId": "5c5bc0cb-9eac-4b2a-fc0b-ecfa8600bd96"
      },
      "execution_count": 2,
      "outputs": [
        {
          "output_type": "stream",
          "name": "stdout",
          "text": [
            "Downloading data from https://storage.googleapis.com/tensorflow/tf-keras-datasets/mnist.npz\n",
            "11493376/11490434 [==============================] - 0s 0us/step\n",
            "11501568/11490434 [==============================] - 0s 0us/step\n"
          ]
        }
      ]
    },
    {
      "cell_type": "code",
      "source": [
        "X_train=X_train.reshape(X_train.shape[0],28,28,1).astype('float32')/255\n",
        "X_test=X_test.reshape(X_test.shape[0],28,28,1).astype('float32')/255\n",
        "y_train=to_categorical(y_train)\n",
        "y_test=to_categorical(y_test)"
      ],
      "metadata": {
        "id": "Y_0WzPTraZ4r"
      },
      "execution_count": 3,
      "outputs": []
    },
    {
      "cell_type": "code",
      "source": [
        "model=Sequential()\n",
        "model.add(Conv2D(32,kernel_size=(3,3),input_shape=(28,28,1),activation='relu'))\n",
        "model.add(Conv2D(64,(3,3),activation='relu'))\n",
        "model.add(MaxPooling2D(pool_size=(2,2)))\n",
        "model.add(Dropout(0.25))\n",
        "model.add(Flatten())\n",
        "model.add(Dense(128,activation='relu'))\n",
        "model.add(Dropout(0.5))\n",
        "model.add(Dense(10,activation='softmax'))"
      ],
      "metadata": {
        "id": "9-yMP6Pha8ZF"
      },
      "execution_count": 10,
      "outputs": []
    },
    {
      "cell_type": "code",
      "source": [
        "model.summary()"
      ],
      "metadata": {
        "colab": {
          "base_uri": "https://localhost:8080/"
        },
        "id": "CZAeovWidfz8",
        "outputId": "8664bd27-b5bb-4e46-f4cb-0ca9f81ade27"
      },
      "execution_count": 12,
      "outputs": [
        {
          "output_type": "stream",
          "name": "stdout",
          "text": [
            "Model: \"sequential_1\"\n",
            "_________________________________________________________________\n",
            " Layer (type)                Output Shape              Param #   \n",
            "=================================================================\n",
            " conv2d_2 (Conv2D)           (None, 26, 26, 32)        320       \n",
            "                                                                 \n",
            " conv2d_3 (Conv2D)           (None, 24, 24, 64)        18496     \n",
            "                                                                 \n",
            " max_pooling2d_1 (MaxPooling  (None, 12, 12, 64)       0         \n",
            " 2D)                                                             \n",
            "                                                                 \n",
            " dropout_2 (Dropout)         (None, 12, 12, 64)        0         \n",
            "                                                                 \n",
            " flatten_1 (Flatten)         (None, 9216)              0         \n",
            "                                                                 \n",
            " dense_2 (Dense)             (None, 128)               1179776   \n",
            "                                                                 \n",
            " dropout_3 (Dropout)         (None, 128)               0         \n",
            "                                                                 \n",
            " dense_3 (Dense)             (None, 10)                1290      \n",
            "                                                                 \n",
            "=================================================================\n",
            "Total params: 1,199,882\n",
            "Trainable params: 1,199,882\n",
            "Non-trainable params: 0\n",
            "_________________________________________________________________\n"
          ]
        }
      ]
    },
    {
      "cell_type": "code",
      "source": [
        "model.compile(loss='categorical_crossentropy',optimizer='adam',metrics=['accuracy'])\n",
        "\n",
        "modelpath='./MNIST_CNN.hdf5'\n",
        "checkpointer=ModelCheckpoint(filepath=modelpath,monitor='val_loss',verbose=1,save_best_only=True)\n",
        "early_stopping_callback=EarlyStopping(monitor='val_loss',patience=10)"
      ],
      "metadata": {
        "id": "AVSt5DWTc48F"
      },
      "execution_count": 13,
      "outputs": []
    },
    {
      "cell_type": "code",
      "source": [
        "history=model.fit(X_train,y_train,validation_split=0.25,epochs=30,batch_size=200,verbose=0,callbacks=[early_stopping_callback,checkpointer])\n",
        "\n",
        "print('\\n Test Accuracy:%.4f'%(model.evaluate(X_test,y_test)[1]))"
      ],
      "metadata": {
        "colab": {
          "base_uri": "https://localhost:8080/"
        },
        "id": "7V6QNQsDdwYD",
        "outputId": "57bece04-0e66-4955-bce6-18f4d82f6c0c"
      },
      "execution_count": 14,
      "outputs": [
        {
          "output_type": "stream",
          "name": "stdout",
          "text": [
            "\n",
            "Epoch 1: val_loss improved from inf to 0.09207, saving model to ./MNIST_CNN.hdf5\n",
            "\n",
            "Epoch 2: val_loss improved from 0.09207 to 0.06070, saving model to ./MNIST_CNN.hdf5\n",
            "\n",
            "Epoch 3: val_loss improved from 0.06070 to 0.05410, saving model to ./MNIST_CNN.hdf5\n",
            "\n",
            "Epoch 4: val_loss improved from 0.05410 to 0.04581, saving model to ./MNIST_CNN.hdf5\n",
            "\n",
            "Epoch 5: val_loss did not improve from 0.04581\n",
            "\n",
            "Epoch 6: val_loss improved from 0.04581 to 0.04377, saving model to ./MNIST_CNN.hdf5\n",
            "\n",
            "Epoch 7: val_loss did not improve from 0.04377\n",
            "\n",
            "Epoch 8: val_loss improved from 0.04377 to 0.04157, saving model to ./MNIST_CNN.hdf5\n",
            "\n",
            "Epoch 9: val_loss did not improve from 0.04157\n",
            "\n",
            "Epoch 10: val_loss did not improve from 0.04157\n",
            "\n",
            "Epoch 11: val_loss did not improve from 0.04157\n",
            "\n",
            "Epoch 12: val_loss did not improve from 0.04157\n",
            "\n",
            "Epoch 13: val_loss did not improve from 0.04157\n",
            "\n",
            "Epoch 14: val_loss improved from 0.04157 to 0.04151, saving model to ./MNIST_CNN.hdf5\n",
            "\n",
            "Epoch 15: val_loss improved from 0.04151 to 0.04151, saving model to ./MNIST_CNN.hdf5\n",
            "\n",
            "Epoch 16: val_loss did not improve from 0.04151\n",
            "\n",
            "Epoch 17: val_loss did not improve from 0.04151\n",
            "\n",
            "Epoch 18: val_loss did not improve from 0.04151\n",
            "\n",
            "Epoch 19: val_loss did not improve from 0.04151\n",
            "\n",
            "Epoch 20: val_loss did not improve from 0.04151\n",
            "\n",
            "Epoch 21: val_loss did not improve from 0.04151\n",
            "\n",
            "Epoch 22: val_loss did not improve from 0.04151\n",
            "\n",
            "Epoch 23: val_loss did not improve from 0.04151\n",
            "\n",
            "Epoch 24: val_loss did not improve from 0.04151\n",
            "\n",
            "Epoch 25: val_loss did not improve from 0.04151\n",
            "313/313 [==============================] - 7s 21ms/step - loss: 0.0383 - accuracy: 0.9909\n",
            "\n",
            " Test Accuracy:0.9909\n"
          ]
        }
      ]
    },
    {
      "cell_type": "code",
      "source": [
        "y_vloss=history.history['val_loss']\n",
        "y_loss=history.history['loss']\n",
        "\n",
        "x_len=np.arange(len(y_loss))\n",
        "plt.plot(x_len,y_vloss,marker='.',c='red',label='Testset_loss')\n",
        "plt.plot(x_len,y_loss,marker='.',c='blue',label='Trainset_loss')\n",
        "\n",
        "plt.legend(loc='upper right')\n",
        "plt.grid()\n",
        "plt.xlabel('epoch')\n",
        "plt.ylabel('loss')\n",
        "plt.show()"
      ],
      "metadata": {
        "colab": {
          "base_uri": "https://localhost:8080/",
          "height": 279
        },
        "id": "1U3zGnvFgPHb",
        "outputId": "54f1168e-2794-4e82-e9e2-365bee2d59c0"
      },
      "execution_count": 16,
      "outputs": [
        {
          "output_type": "display_data",
          "data": {
            "text/plain": [
              "<Figure size 432x288 with 1 Axes>"
            ],
            "image/png": "[encoded data removed]"
          },
          "metadata": {
            "needs_background": "light"
          }
        }
      ]
    }
  ]
}