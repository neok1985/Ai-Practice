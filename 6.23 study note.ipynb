{
 "cells": [
  {
   "cell_type": "code",
   "execution_count": 25,
   "id": "ee533c5b",
   "metadata": {},
   "outputs": [
    {
     "name": "stdout",
     "output_type": "stream",
     "text": [
      "# 하나만 출력합니다.\n",
      "Hellow Python Programming...!\n",
      "\n",
      "#여러 개를 출력합니다.\n",
      "10 20 30 40 50\n",
      "안녕하세요 저의 이름은 윤인성입니다!\n",
      "\n",
      "#아무것도 출력하지 않습니다.\n",
      "--- 확인 전용선 ---\n",
      "\n",
      "\n",
      "--- 확인 전용선 ---\n"
     ]
    }
   ],
   "source": [
    "#하나만 출력합니다.\n",
    "print('# 하나만 출력합니다.')\n",
    "print('Hellow Python Programming...!')\n",
    "print()\n",
    "\n",
    "#여러 개를 출력합니다.\n",
    "print('#여러 개를 출력합니다.')\n",
    "print(10,20,30,40,50)\n",
    "print('안녕하세요','저의','이름은','윤인성입니다!')\n",
    "print()\n",
    "\n",
    "#아무것도 입력하지 않으면 단순하게 줄바꿈합니다.\n",
    "print('#아무것도 출력하지 않습니다.')\n",
    "print('--- 확인 전용선 ---')\n",
    "print()\n",
    "print()\n",
    "print('--- 확인 전용선 ---')"
   ]
  },
  {
   "cell_type": "code",
   "execution_count": null,
   "id": "4fbe2d8f",
   "metadata": {},
   "outputs": [],
   "source": [
    "#키워드 :의미가 부여된 특별한 단어,사용자가 지정하는 이름에 사용하면 안됨\n",
    "#        import keyword ->keyword.keylist 에서 확인 가능\n",
    "# 식별자 : 문자 시작 _가능, 숫자 시작 불가,공백 안됨,키워드 안됨\n",
    "#식별자를 작성 규칙 : 캐멀(클래스),스네이크 (변수,함수),함수는()\n",
    "#주석 : 프로그램을 설명하는데 사용,프로그램에 영향을 주지않음\n",
    "#      앞에 #를 붙혀서 사용 단축키(Ctrl +/)"
   ]
  },
  {
   "cell_type": "markdown",
   "id": "31455e4e",
   "metadata": {},
   "source": [
    "## 02 자료형\n",
    "### 자료형과 문자열"
   ]
  },
  {
   "cell_type": "code",
   "execution_count": 24,
   "id": "657dde19",
   "metadata": {},
   "outputs": [
    {
     "name": "stdout",
     "output_type": "stream",
     "text": [
      "문자열의 데이터 타입: <class 'str'>\n",
      "숫자열의 데이터 타입: <class 'float'>\n",
      "불리언의 데이터 타입: <class 'bool'>\n"
     ]
    }
   ],
   "source": [
    "#python의 자료형은 문자열,숫자,불 타입으로 세가지만 존재\n",
    "print('문자열의 데이터 타입:',type('문자열')) #string\n",
    "print('숫자열의 데이터 타입:',type(27.3))  #number\n",
    "print('불리언의 데이터 타입:',type(True))  #boolean\n"
   ]
  },
  {
   "cell_type": "code",
   "execution_count": 23,
   "id": "01434084",
   "metadata": {},
   "outputs": [
    {
     "name": "stdout",
     "output_type": "stream",
     "text": [
      "'배가 고픕니다'라고 생각했습니다\n"
     ]
    }
   ],
   "source": [
    "#이스케이프 문자를 사용해 문자열 만들기\n",
    "#'\\ '\\ ,''\"\"혼용사용,''''''따옴표 3개 사용\n",
    "print('\\'배가 고픕니다\\'라고 생각했습니다')"
   ]
  },
  {
   "cell_type": "code",
   "execution_count": 22,
   "id": "48b2e2fd",
   "metadata": {},
   "outputs": [
    {
     "name": "stdout",
     "output_type": "stream",
     "text": [
      "동해물과 백두산이 마르고 닳도록\n",
      "하느님이 보우하사 우리나라 만세\n",
      "무궁화 삼천리 화려강산 대한사람\n",
      "대한으로 길이 보전하세\n"
     ]
    }
   ],
   "source": [
    "print('''동해물과 백두산이 마르고 닳도록\n",
    "하느님이 보우하사 우리나라 만세\n",
    "무궁화 삼천리 화려강산 대한사람\n",
    "대한으로 길이 보전하세''')"
   ]
  },
  {
   "cell_type": "code",
   "execution_count": null,
   "id": "7d772b6a",
   "metadata": {},
   "outputs": [],
   "source": [
    "#\\n:줄바꿈\n",
    "#\\t:탭을 의미\n",
    "#\\\\:역슬래시(\\)"
   ]
  },
  {
   "cell_type": "code",
   "execution_count": 21,
   "id": "942a7427",
   "metadata": {},
   "outputs": [
    {
     "name": "stdout",
     "output_type": "stream",
     "text": [
      "안녕하세요\n",
      "안녕하세요!\n",
      "안녕하세요안녕하세요안녕하세요\n",
      "안녕하세요안녕하세요안녕하세요\n"
     ]
    }
   ],
   "source": [
    "#문자열 연결 연산자 + :문자열 + 문자열\n",
    "#                   * :문자열 * 정수\n",
    "print('안녕'+'하세요')\n",
    "print('안녕하세요'+'!')\n",
    "print('안녕하세요'*3)\n",
    "print(3*'안녕하세요')"
   ]
  },
  {
   "cell_type": "code",
   "execution_count": 20,
   "id": "25337fd0",
   "metadata": {},
   "outputs": [
    {
     "name": "stdout",
     "output_type": "stream",
     "text": [
      "5\n",
      "안녕하세\n",
      "녕하\n"
     ]
    }
   ],
   "source": [
    "#문자열 자르기 :문자열[시작인덱스:마지막인덱스] -> 시작은 포함 마지막은 포함X\n",
    "hello='안녕하세요'\n",
    "print(len(hello))\n",
    "print(hello[:4])\n",
    "print(hello[1:3])"
   ]
  },
  {
   "cell_type": "code",
   "execution_count": 19,
   "id": "48d5cac2",
   "metadata": {},
   "outputs": [
    {
     "name": "stdout",
     "output_type": "stream",
     "text": [
      "요요요\n"
     ]
    }
   ],
   "source": [
    "#문자열의 길이를 구해서 마지막 문자 출력\n",
    "hello='안녕하세요'\n",
    "print(3*hello[len(hello)-1])"
   ]
  },
  {
   "cell_type": "markdown",
   "id": "88f62607",
   "metadata": {},
   "source": [
    "#변수의 활용"
   ]
  },
  {
   "cell_type": "code",
   "execution_count": 26,
   "id": "648704b9",
   "metadata": {},
   "outputs": [
    {
     "name": "stdout",
     "output_type": "stream",
     "text": [
      "30\n",
      "안녕하세요\n"
     ]
    }
   ],
   "source": [
    "var_a=10\n",
    "var_b=20\n",
    "print(var_a+var_b)\n",
    "print(hello)"
   ]
  },
  {
   "cell_type": "code",
   "execution_count": 27,
   "id": "4f133189",
   "metadata": {},
   "outputs": [
    {
     "name": "stdout",
     "output_type": "stream",
     "text": [
      "원주율 = 3.14159265\n",
      "반지름 = 10\n",
      "원의 둘레 = 62.831853\n",
      "원의 넓이 = 314.159265\n"
     ]
    }
   ],
   "source": [
    "#원의 둘레와 넓이 구하기\n",
    "#변수 선언과 할당\n",
    "pi=3.14159265\n",
    "r=10\n",
    "\n",
    "#변수 참조\n",
    "\n",
    "print('원주율 =',pi)\n",
    "print('반지름 =',r)\n",
    "print('원의 둘레 =',2*pi*r)\n",
    "print('원의 넓이 =',pi*(r**2))"
   ]
  },
  {
   "cell_type": "code",
   "execution_count": 28,
   "id": "0ff0754e",
   "metadata": {},
   "outputs": [
    {
     "name": "stdout",
     "output_type": "stream",
     "text": [
      "number: 260\n"
     ]
    }
   ],
   "source": [
    "#복합 대입 연산자\n",
    "#a+=10 식은 a=a+10 과 동일\n",
    "number=100\n",
    "number +=10\n",
    "number +=20\n",
    "number*=2\n",
    "print('number:',number)\n"
   ]
  },
  {
   "cell_type": "code",
   "execution_count": 12,
   "id": "2a2f7cfe",
   "metadata": {},
   "outputs": [
    {
     "name": "stdout",
     "output_type": "stream",
     "text": [
      "입력>580\n",
      "자료: 580\n",
      "자료형: <class 'int'>\n"
     ]
    }
   ],
   "source": [
    "#입력 자료형 확인하기\n",
    "#입력을 받습니다\n",
    "string=input('입력>')\n",
    "\n",
    "#출력합니다\n",
    "print('자료:',string)\n",
    "print('자료형:',type(int(string)))\n"
   ]
  },
  {
   "cell_type": "code",
   "execution_count": 14,
   "id": "0e67b6f7",
   "metadata": {},
   "outputs": [
    {
     "name": "stdout",
     "output_type": "stream",
     "text": [
      "숫자를 입력하시오:50\n",
      "숫자를 입력하시오:80\n",
      "<class 'int'>\n",
      "<class 'int'>\n"
     ]
    }
   ],
   "source": [
    "#두 수를 입력 받아 두 수의 합과 곱을 구하세요\n",
    "#숫자 두개를 입력 받음\n",
    "#입력 받은 두 수를 int로 형 변환\n",
    "#두 수의 합과 곱을 구함\n",
    "\n",
    "inpt_a=int(input('숫자를 입력하시오:'))\n",
    "inpt_b=int(input('숫자를 입력하시오:'))\n",
    "print(type(inpt_a))\n",
    "print(type(inpt_b))\n",
    "# int_a=int(inpt_a)\n",
    "# int_b=int(inpt_b)\n",
    "\n",
    "# print('두수의 합은 :',int_a+int_b)\n",
    "# print('두 수의 곱은 :',int_a*int_b)"
   ]
  },
  {
   "cell_type": "markdown",
   "id": "73172269",
   "metadata": {},
   "source": [
    "### 숫자와 문자의 다양한 기능"
   ]
  },
  {
   "cell_type": "code",
   "execution_count": 15,
   "id": "cb8b8866",
   "metadata": {},
   "outputs": [
    {
     "data": {
      "text/plain": [
       "'400문자열'"
      ]
     },
     "execution_count": 15,
     "metadata": {},
     "output_type": "execute_result"
    }
   ],
   "source": [
    "#문자열 format()\n",
    "#format앞 중괄호 개수와 함수 괄호 안 매개변수의 개수는 같아야 한다\n",
    "'{}{}'.format(400,'문자열')"
   ]
  },
  {
   "cell_type": "code",
   "execution_count": 33,
   "id": "c2902daf",
   "metadata": {},
   "outputs": [
    {
     "name": "stdout",
     "output_type": "stream",
     "text": [
      "85\n",
      "     85\n",
      "          85\n",
      "000085\n",
      "-00085\n"
     ]
    }
   ],
   "source": [
    "#정수를 특정 칸에 출력하기\n",
    "#정수\n",
    "out_a='{:d}'.format(85)\n",
    "#특정 칸에 출력하기\n",
    "out_b='{:7d}'.format(85)#7칸\n",
    "out_c='{:12d}'.format(85)#12칸\n",
    "#빈칸을 0으로 채우기\n",
    "out_d='{:06d}'.format(85)\n",
    "out_e='{:06d}'.format(-85)\n",
    "print(out_a)\n",
    "print(out_b)\n",
    "print(out_c)\n",
    "print(out_d)\n",
    "print(out_e)"
   ]
  },
  {
   "cell_type": "code",
   "execution_count": 16,
   "id": "20606393",
   "metadata": {},
   "outputs": [
    {
     "name": "stdout",
     "output_type": "stream",
     "text": [
      "#조합하기\n",
      "  +30\n",
      "  -30\n",
      "+  30\n",
      "-  30\n",
      "+0030\n",
      "-0030\n"
     ]
    }
   ],
   "source": [
    "#조합하기\n",
    "output_h='{:+5d}'.format(30)#기호를 뒤로 밀기: 양수\n",
    "output_i='{:+5d}'.format(-30)#기호를 뒤로 밀기: 음수\n",
    "output_j='{:=+5d}'.format(30)#기호를 앞으로 밀기: 양수\n",
    "output_k='{:=+5d}'.format(-30)#기호를 앞으로 밀기: 음수\n",
    "output_l='{:+05d}'.format(30)#0으로 채우기: 양수\n",
    "output_m='{:+05d}'.format(-30)#0으로 채우기: 음수\n",
    "\n",
    "print('#조합하기')\n",
    "print(output_h)\n",
    "print(output_i)\n",
    "print(output_j)\n",
    "print(output_k)\n",
    "print(output_l)\n",
    "print(output_m)\n"
   ]
  },
  {
   "cell_type": "code",
   "execution_count": 18,
   "id": "9e88aa1d",
   "metadata": {},
   "outputs": [
    {
     "name": "stdout",
     "output_type": "stream",
     "text": [
      "수를 입력하시오10\n",
      "수를 입력하시오20\n",
      "입력받은 두 수10과20의 합은 30\n",
      "입력받은 두 수10과20의 곱은 200\n",
      "입력받은 두 수10과20의 차는 -10.0\n",
      "입력받은 두 수10과20의 나머지는 10.0\n"
     ]
    }
   ],
   "source": [
    "#두 개의 숫자를 입력 받아 두 수의 합과 곱, 차, 나머지 값을 다음의 형식으로 출력\n",
    "#1.입력 받은 두 수는 10,20\n",
    "input_aa=input('수를 입력하시오')\n",
    "input_bb=input('수를 입력하시오')\n",
    "#2.입력 받은 두 수 10과 20의 합은 30\n",
    "print('입력받은 두 수{}과{}의 합은'.format(input_aa,input_bb),int(input_aa)+int(input_bb))\n",
    "#3.입력 받은 두 수 10과 20의 곱은 200\n",
    "print('입력받은 두 수{}과{}의 곱은'.format(input_aa,input_bb),int(input_aa)*int(input_bb))\n",
    "#4.입력 받은 두 수 10과 20의 차는 -10\n",
    "print('입력받은 두 수{}과{}의 차는'.format(input_aa,input_bb),float(input_aa)-float(input_bb))\n",
    "#5.입력 받은 두 수 10과 20의 나눈 나머지는 \n",
    "print('입력받은 두 수{}과{}의 나머지는'.format(input_aa,input_bb),float(input_aa)%float(input_bb))"
   ]
  },
  {
   "cell_type": "code",
   "execution_count": null,
   "id": "c1e673ea",
   "metadata": {},
   "outputs": [],
   "source": []
  },
  {
   "cell_type": "code",
   "execution_count": null,
   "id": "5f8672f1",
   "metadata": {},
   "outputs": [],
   "source": []
  },
  {
   "cell_type": "code",
   "execution_count": null,
   "id": "aeb6b91c",
   "metadata": {},
   "outputs": [],
   "source": []
  },
  {
   "cell_type": "code",
   "execution_count": null,
   "id": "b2cae523",
   "metadata": {},
   "outputs": [],
   "source": []
  }
 ],
 "metadata": {
  "kernelspec": {
   "display_name": "Python 3 (ipykernel)",
   "language": "python",
   "name": "python3"
  },
  "language_info": {
   "codemirror_mode": {
    "name": "ipython",
    "version": 3
   },
   "file_extension": ".py",
   "mimetype": "text/x-python",
   "name": "python",
   "nbconvert_exporter": "python",
   "pygments_lexer": "ipython3",
   "version": "3.9.12"
  }
 },
 "nbformat": 4,
 "nbformat_minor": 5
}
