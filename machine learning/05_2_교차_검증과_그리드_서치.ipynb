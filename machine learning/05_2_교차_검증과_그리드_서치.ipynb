{
  "nbformat": 4,
  "nbformat_minor": 0,
  "metadata": {
    "colab": {
      "name": "05-2 교차 검증과 그리드 서치.ipynb",
      "provenance": [],
      "collapsed_sections": []
    },
    "kernelspec": {
      "name": "python3",
      "display_name": "Python 3"
    },
    "language_info": {
      "name": "python"
    }
  },
  "cells": [
    {
      "cell_type": "markdown",
      "source": [
        "# ***P242***"
      ],
      "metadata": {
        "id": "9YUxzpGv26yI"
      }
    },
    {
      "cell_type": "code",
      "execution_count": 1,
      "metadata": {
        "colab": {
          "base_uri": "https://localhost:8080/"
        },
        "id": "Fg-Y7Pv3Ibsm",
        "outputId": "e7de555f-999e-4e65-e342-195fad9e60a2"
      },
      "outputs": [
        {
          "output_type": "stream",
          "name": "stdout",
          "text": [
            "(4157, 3) (1040, 3)\n"
          ]
        }
      ],
      "source": [
        "import pandas as pd\n",
        "wine=pd.read_csv('http://bit.ly/wine_csv_data')\n",
        "data=wine[['alcohol','sugar','pH']].to_numpy()\n",
        "target=wine['class'].to_numpy()\n",
        "from sklearn.model_selection import train_test_split\n",
        "train_input,test_input,train_target,test_target=train_test_split(data,target,test_size=0.2,random_state=42)#검증세트 테스트 세트를 2번 나눈다고 보면 됨\n",
        "sub_input,val_input,sub_target,val_target=train_test_split(train_input,train_target,test_size=0.2,random_state=42)\n",
        "print(sub_input.shape,val_input.shape)"
      ]
    },
    {
      "cell_type": "code",
      "source": [
        "import numpy as np\n",
        "from sklearn.tree import DecisionTreeClassifier\n",
        "dt=DecisionTreeClassifier(random_state=42)\n",
        "dt.fit(sub_input,sub_target)\n",
        "print(dt.score(sub_input,sub_target))\n",
        "print(dt.score(val_input,val_target))\n",
        "from sklearn.model_selection import cross_validate#cross_validata()함수 테스트 세트로 나눈후 디폴드값:5만큼 나눈 데이터들을 갖고 교차하며 훈련함 그중 최고값을 리턴해주는 교차 검증함수\n",
        "scores=cross_validate(dt,train_input,train_target)\n",
        "print(scores)\n",
        "print(np.mean(scores['test_score']))\n"
      ],
      "metadata": {
        "colab": {
          "base_uri": "https://localhost:8080/"
        },
        "id": "coOywkK3K6I5",
        "outputId": "9adbf4d9-f5d0-42c1-b118-cc3a42b01a7d"
      },
      "execution_count": 5,
      "outputs": [
        {
          "output_type": "stream",
          "name": "stdout",
          "text": [
            "0.9971133028626413\n",
            "0.864423076923077\n",
            "{'fit_time': array([0.00742602, 0.007303  , 0.00759816, 0.0073483 , 0.00724649]), 'score_time': array([0.00077963, 0.00078297, 0.0007658 , 0.00077295, 0.00078678]), 'test_score': array([0.86923077, 0.84615385, 0.87680462, 0.84889317, 0.83541867])}\n",
            "0.855300214703487\n"
          ]
        }
      ]
    },
    {
      "cell_type": "code",
      "source": [
        "from sklearn.model_selection import StratifiedKFold\n",
        "splitter=StratifiedKFold(n_splits=10,shuffle=True,random_state=42)\n",
        "scores=cross_validate(dt,train_input,train_target,cv=splitter)#cv값은 폴드 교차 검증하는 회수를 정할수 있는 하이퍼파라미터 중 하나\n",
        "print(np.mean(scores['test_score']))\n"
      ],
      "metadata": {
        "colab": {
          "base_uri": "https://localhost:8080/"
        },
        "id": "zldEa7j2UHHs",
        "outputId": "07079126-46b5-41db-8819-ba3837156db3"
      },
      "execution_count": 7,
      "outputs": [
        {
          "output_type": "stream",
          "name": "stdout",
          "text": [
            "0.8574181117533719\n"
          ]
        }
      ]
    },
    {
      "cell_type": "code",
      "source": [
        "from sklearn.model_selection import GridSearchCV#위에 했던 검증세트 만들기와 폴드 교차검증하는것까지를 반복하며 실행해주는  사이킷런의 클래스  디폴드 cv값은 5\n",
        "params={'min_impurity_decrease':[0.0001,0.0002,0.0003,0.0004,0.0005]}\n",
        "gs=GridSearchCV(DecisionTreeClassifier(random_state=42),params,n_jobs=1)\n",
        "gs.fit(train_input,train_target)\n",
        "dt=gs.best_estimator_\n",
        "print(dt.score(train_input,train_target))\n",
        "print(gs.cv_results_['mean_test_score'])\n",
        "best_index=np.argmax(gs.cv_results_['mean_test_score'])\n",
        "print(gs.cv_results_['params'][best_index])#최적의 값을 도출해내는 모델의 하이퍼파라미터값을 리턴해줌"
      ],
      "metadata": {
        "colab": {
          "base_uri": "https://localhost:8080/"
        },
        "id": "8sujxap1VRFZ",
        "outputId": "58ace5d3-8f17-453d-998f-4f6377f04363"
      },
      "execution_count": 9,
      "outputs": [
        {
          "output_type": "stream",
          "name": "stdout",
          "text": [
            "0.9615162593804117\n",
            "[0.86819297 0.86453617 0.86492226 0.86780891 0.86761605]\n",
            "{'min_impurity_decrease': 0.0001}\n"
          ]
        }
      ]
    },
    {
      "cell_type": "code",
      "source": [
        "params={'min_impurity_decrease':np.arange(0.0001,0.001,0.0001),\n",
        "        'max_depth':range(5,20,1),\n",
        "        'min_samples_split':range(2,100,10)}#다양한 하이퍼파라미터 값을 정해주어 해당 값들마다 달라지는 최적의 값에 대한 모델을 찾을수 있고 그 최적값을 내는 하이퍼파라미터도 도출할수 있음\n",
        "gs=GridSearchCV(DecisionTreeClassifier(random_state=42),params,n_jobs=-1)\n",
        "gs.fit(train_input,train_target)\n",
        "print(gs.best_params_)#최적값을 도출해내는 하이퍼 파라미터값들"
      ],
      "metadata": {
        "colab": {
          "base_uri": "https://localhost:8080/"
        },
        "id": "QRbBJsh-ZZTA",
        "outputId": "cdc0f01a-ad16-4dc1-d2d4-993382ac50e8"
      },
      "execution_count": 10,
      "outputs": [
        {
          "output_type": "stream",
          "name": "stdout",
          "text": [
            "{'max_depth': 14, 'min_impurity_decrease': 0.0004, 'min_samples_split': 12}\n"
          ]
        }
      ]
    },
    {
      "cell_type": "code",
      "source": [
        "print(np.max(gs.cv_results_['mean_test_score']))\n"
      ],
      "metadata": {
        "colab": {
          "base_uri": "https://localhost:8080/"
        },
        "id": "T64BQ_VccR2p",
        "outputId": "c02a1492-1c73-4e30-d467-344b52bd881c"
      },
      "execution_count": 11,
      "outputs": [
        {
          "output_type": "stream",
          "name": "stdout",
          "text": [
            "0.8683865773302731\n"
          ]
        }
      ]
    },
    {
      "cell_type": "code",
      "source": [
        "from scipy.stats import uniform,randint\n",
        "params={'min_impurity_decrease':uniform(0.0001,0.001),\n",
        "        'max_depth':randint(20,50),\n",
        "        'min_samples_split':randint(2,25),\n",
        "        'min_samples_leaf':randint(1,25)}#하이퍼파라미터 값들을 랜덤으로 n_iter의 수만큼 반복하여 최적값을 찾아냄\n",
        "from sklearn.model_selection import RandomizedSearchCV\n",
        "rs=RandomizedSearchCV(DecisionTreeClassifier(random_state=42),params,n_iter=100,n_jobs=-1,random_state=42)\n",
        "rs.fit(train_input,train_target)\n",
        "print(rs.best_params_)\n",
        "print(np.max(rs.cv_results_['mean_test_score']))"
      ],
      "metadata": {
        "colab": {
          "base_uri": "https://localhost:8080/"
        },
        "id": "6ckNW2Ebh_QD",
        "outputId": "fc0cbac9-9b06-42c8-e317-a39898530eb9"
      },
      "execution_count": 18,
      "outputs": [
        {
          "output_type": "stream",
          "name": "stdout",
          "text": [
            "{'max_depth': 39, 'min_impurity_decrease': 0.00034102546602601173, 'min_samples_leaf': 7, 'min_samples_split': 13}\n",
            "0.8695428296438884\n"
          ]
        }
      ]
    },
    {
      "cell_type": "code",
      "source": [
        "dt=rs.best_estimator_#최적의 모델값이 저장됨\n",
        "print(dt.score(test_input,test_target))"
      ],
      "metadata": {
        "colab": {
          "base_uri": "https://localhost:8080/"
        },
        "id": "1fds3Rpel0XE",
        "outputId": "61d57df4-ba49-4583-f656-669af9cfba02"
      },
      "execution_count": 19,
      "outputs": [
        {
          "output_type": "stream",
          "name": "stdout",
          "text": [
            "0.86\n"
          ]
        }
      ]
    },
    {
      "cell_type": "markdown",
      "source": [
        "***P262 확인문제 3번***"
      ],
      "metadata": {
        "id": "kaJVInzB5c2Z"
      }
    },
    {
      "cell_type": "code",
      "source": [
        "from scipy.stats import uniform,randint\n",
        "params={'min_impurity_decrease':uniform(0.0001,0.001),\n",
        "        'max_depth':randint(20,50),\n",
        "        'min_samples_split':randint(2,25),\n",
        "        'min_samples_leaf':randint(1,25)}\n",
        "from sklearn.model_selection import RandomizedSearchCV\n",
        "rs=RandomizedSearchCV(DecisionTreeClassifier(splitter='random',random_state=42),params,n_iter=100,n_jobs=-1,random_state=42)\n",
        "rs.fit(train_input,train_target)\n",
        "print(rs.best_params_)\n",
        "print(np.max(rs.cv_results_['mean_test_score']))"
      ],
      "metadata": {
        "colab": {
          "base_uri": "https://localhost:8080/"
        },
        "id": "LujSSypHoA83",
        "outputId": "334ccfed-e6a1-463d-9b26-4091a4d9c0ac"
      },
      "execution_count": 21,
      "outputs": [
        {
          "output_type": "stream",
          "name": "stdout",
          "text": [
            "{'max_depth': 43, 'min_impurity_decrease': 0.00011407982271508446, 'min_samples_leaf': 19, 'min_samples_split': 18}\n",
            "0.8458726956392981\n"
          ]
        }
      ]
    }
  ]
}