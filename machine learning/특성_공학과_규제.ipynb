{
  "nbformat": 4,
  "nbformat_minor": 0,
  "metadata": {
    "colab": {
      "name": "특성 공학과 규제.ipynb",
      "provenance": [],
      "collapsed_sections": []
    },
    "kernelspec": {
      "name": "python3",
      "display_name": "Python 3"
    },
    "language_info": {
      "name": "python"
    }
  },
  "cells": [
    {
      "cell_type": "code",
      "execution_count": 1,
      "metadata": {
        "id": "hbnxxt5R621O"
      },
      "outputs": [],
      "source": [
        "import numpy as np\n",
        "\n",
        "perch_length = np.array([8.4, 13.7, 15.0, 16.2, 17.4, 18.0, 18.7, 19.0, 19.6, 20.0, 21.0,\n",
        "       21.0, 21.0, 21.3, 22.0, 22.0, 22.0, 22.0, 22.0, 22.5, 22.5, 22.7,\n",
        "       23.0, 23.5, 24.0, 24.0, 24.6, 25.0, 25.6, 26.5, 27.3, 27.5, 27.5,\n",
        "       27.5, 28.0, 28.7, 30.0, 32.8, 34.5, 35.0, 36.5, 36.0, 37.0, 37.0,\n",
        "       39.0, 39.0, 39.0, 40.0, 40.0, 40.0, 40.0, 42.0, 43.0, 43.0, 43.5,\n",
        "       44.0])\n",
        "perch_weight = np.array([5.9, 32.0, 40.0, 51.5, 70.0, 100.0, 78.0, 80.0, 85.0, 85.0, 110.0,\n",
        "       115.0, 125.0, 130.0, 120.0, 120.0, 130.0, 135.0, 110.0, 130.0,\n",
        "       150.0, 145.0, 150.0, 170.0, 225.0, 145.0, 188.0, 180.0, 197.0,\n",
        "       218.0, 300.0, 260.0, 265.0, 250.0, 250.0, 300.0, 320.0, 514.0,\n",
        "       556.0, 840.0, 685.0, 700.0, 700.0, 690.0, 900.0, 650.0, 820.0,\n",
        "       850.0, 900.0, 1015.0, 820.0, 1100.0, 1000.0, 1100.0, 1000.0,\n",
        "       1000.0])"
      ]
    },
    {
      "cell_type": "code",
      "source": [
        "import pandas as pd\n",
        "df=pd.read_csv('https://bit.ly/perch_csv_data')\n",
        "perch_full=df.to_numpy()\n",
        "print(df)"
      ],
      "metadata": {
        "id": "IIKztRh68E10",
        "colab": {
          "base_uri": "https://localhost:8080/"
        },
        "outputId": "f54010c8-7ece-4ee5-f344-7bff2c497f30"
      },
      "execution_count": 2,
      "outputs": [
        {
          "output_type": "stream",
          "name": "stdout",
          "text": [
            "    length   height   width\n",
            "0      8.4     2.11    1.41\n",
            "1     13.7     3.53    2.00\n",
            "2     15.0     3.82    2.43\n",
            "3     16.2     4.59    2.63\n",
            "4     17.4     4.59    2.94\n",
            "5     18.0     5.22    3.32\n",
            "6     18.7     5.20    3.12\n",
            "7     19.0     5.64    3.05\n",
            "8     19.6     5.14    3.04\n",
            "9     20.0     5.08    2.77\n",
            "10    21.0     5.69    3.56\n",
            "11    21.0     5.92    3.31\n",
            "12    21.0     5.69    3.67\n",
            "13    21.3     6.38    3.53\n",
            "14    22.0     6.11    3.41\n",
            "15    22.0     5.64    3.52\n",
            "16    22.0     6.11    3.52\n",
            "17    22.0     5.88    3.52\n",
            "18    22.0     5.52    4.00\n",
            "19    22.5     5.86    3.62\n",
            "20    22.5     6.79    3.62\n",
            "21    22.7     5.95    3.63\n",
            "22    23.0     5.22    3.63\n",
            "23    23.5     6.28    3.72\n",
            "24    24.0     7.29    3.72\n",
            "25    24.0     6.38    3.82\n",
            "26    24.6     6.73    4.17\n",
            "27    25.0     6.44    3.68\n",
            "28    25.6     6.56    4.24\n",
            "29    26.5     7.17    4.14\n",
            "30    27.3     8.32    5.14\n",
            "31    27.5     7.17    4.34\n",
            "32    27.5     7.05    4.34\n",
            "33    27.5     7.28    4.57\n",
            "34    28.0     7.82    4.20\n",
            "35    28.7     7.59    4.64\n",
            "36    30.0     7.62    4.77\n",
            "37    32.8    10.03    6.02\n",
            "38    34.5    10.26    6.39\n",
            "39    35.0    11.49    7.80\n",
            "40    36.5    10.88    6.86\n",
            "41    36.0    10.61    6.74\n",
            "42    37.0    10.84    6.26\n",
            "43    37.0    10.57    6.37\n",
            "44    39.0    11.14    7.49\n",
            "45    39.0    11.14    6.00\n",
            "46    39.0    12.43    7.35\n",
            "47    40.0    11.93    7.11\n",
            "48    40.0    11.73    7.22\n",
            "49    40.0    12.38    7.46\n",
            "50    40.0    11.14    6.63\n",
            "51    42.0    12.80    6.87\n",
            "52    43.0    11.93    7.28\n",
            "53    43.0    12.51    7.42\n",
            "54    43.5    12.60    8.14\n",
            "55    44.0    12.49    7.60\n"
          ]
        }
      ]
    },
    {
      "cell_type": "code",
      "source": [
        "from sklearn.model_selection import train_test_split\n",
        "train_input,test_input,train_target,test_target=train_test_split(perch_full,perch_weight,random_state=42)"
      ],
      "metadata": {
        "id": "OeXQvyTZ9EAR"
      },
      "execution_count": 3,
      "outputs": []
    },
    {
      "cell_type": "code",
      "source": [
        "from sklearn.preprocessing import PolynomialFeatures\n",
        "poly=PolynomialFeatures()\n",
        "poly.fit([[2,3]])#학습\n",
        "print(poly.transform([[2,3]]))"
      ],
      "metadata": {
        "colab": {
          "base_uri": "https://localhost:8080/"
        },
        "id": "5uG_47WP_vSz",
        "outputId": "442f6c57-ae50-47e5-8706-29898882dc26"
      },
      "execution_count": 4,
      "outputs": [
        {
          "output_type": "stream",
          "name": "stdout",
          "text": [
            "[[1. 2. 3. 4. 6. 9.]]\n"
          ]
        }
      ]
    },
    {
      "cell_type": "code",
      "source": [
        "poly=PolynomialFeatures(include_bias=False)\n",
        "poly.fit([[2,3]])\n",
        "print(poly.transform([[2,3]]))"
      ],
      "metadata": {
        "colab": {
          "base_uri": "https://localhost:8080/"
        },
        "id": "BgX5BZIsDMsL",
        "outputId": "9deefc09-a73a-4b2a-ba44-3e94a109efc0"
      },
      "execution_count": 5,
      "outputs": [
        {
          "output_type": "stream",
          "name": "stdout",
          "text": [
            "[[2. 3. 4. 6. 9.]]\n"
          ]
        }
      ]
    },
    {
      "cell_type": "code",
      "source": [
        "poly=PolynomialFeatures(include_bias=False)\n",
        "poly.fit(train_input)\n",
        "train_poly=poly.transform(train_input)\n",
        "print(train_poly.shape)\n",
        "poly.get_feature_names_out()\n",
        "test_poly=poly.transform(test_input)"
      ],
      "metadata": {
        "colab": {
          "base_uri": "https://localhost:8080/"
        },
        "id": "USnZl9OpEnYI",
        "outputId": "11b97d05-ffd8-4779-e8e4-06f4104937b6"
      },
      "execution_count": 6,
      "outputs": [
        {
          "output_type": "stream",
          "name": "stdout",
          "text": [
            "(42, 9)\n"
          ]
        }
      ]
    },
    {
      "cell_type": "code",
      "source": [
        "\n",
        "from sklearn.linear_model import LinearRegression\n",
        "lr=LinearRegression()\n",
        "lr.fit(train_poly,train_target)\n",
        "lr_pre=lr.predict(train_poly)\n",
        "print(lr.score(train_poly,train_target))\n",
        "print('테스트 세트:',lr.score(test_poly,test_target))\n",
        "print(lr.coef_,lr.intercept_)"
      ],
      "metadata": {
        "colab": {
          "base_uri": "https://localhost:8080/"
        },
        "id": "CdTIkBRHFPiu",
        "outputId": "ea4cca10-5162-49bf-f35b-bce8daa3cbe7"
      },
      "execution_count": 7,
      "outputs": [
        {
          "output_type": "stream",
          "name": "stdout",
          "text": [
            "0.9903183436982124\n",
            "테스트 세트: 0.9714559911594134\n",
            "[  34.80604039  -88.68430232 -184.11606694   -2.2696004     8.74890226\n",
            "    9.41670602   27.76120631 -119.89306061   93.68198334] 124.06521772230127\n"
          ]
        }
      ]
    },
    {
      "cell_type": "code",
      "source": [
        "# import matplotlib.pyplot as plt\n",
        "# # Aa1=int(input('길이입력:'))\n",
        "# # Bb1=lr.predict([[Aa1**2,Aa1]])\n",
        "# # point=np.arange(15,50)\n",
        "# plt.scatter(train_poly,train_target)\n",
        "# # plt.plot(point,1.01*point**2-21.6*point+116.05)\n",
        "# # plt.scatter(Aa1,Bb1,marker='^')\n",
        "# plt.xlabel('length')\n",
        "# plt.ylabel('weight')\n",
        "# plt.show()"
      ],
      "metadata": {
        "id": "cfBa3qjOGwtL"
      },
      "execution_count": 8,
      "outputs": []
    },
    {
      "cell_type": "code",
      "source": [
        "poly=PolynomialFeatures(degree=5,include_bias=False)\n",
        "poly.fit(train_input)\n",
        "train_poly=poly.transform(train_input)\n",
        "test_poly=poly.transform(test_input)\n",
        "lr.fit(train_poly,train_target)\n",
        "print(lr.score(train_poly,train_target))\n",
        "print('테스트 세트:',lr.score(test_poly,test_target))"
      ],
      "metadata": {
        "colab": {
          "base_uri": "https://localhost:8080/"
        },
        "id": "yOst3WMYILRv",
        "outputId": "2639faf3-0acb-4062-e43f-959c8d1b996e"
      },
      "execution_count": 9,
      "outputs": [
        {
          "output_type": "stream",
          "name": "stdout",
          "text": [
            "0.9999999999991097\n",
            "테스트 세트: -144.40579242684848\n"
          ]
        }
      ]
    },
    {
      "cell_type": "code",
      "source": [
        "from sklearn.preprocessing import StandardScaler\n",
        "ss=StandardScaler()\n",
        "ss.fit(train_poly)\n",
        "train_scaled=ss.transform(train_poly)\n",
        "test_scaled=ss.transform(test_poly)"
      ],
      "metadata": {
        "id": "aPSm_EEnJmyd"
      },
      "execution_count": 10,
      "outputs": []
    },
    {
      "cell_type": "code",
      "source": [
        "from sklearn.linear_model import Ridge\n",
        "ridge=Ridge()\n",
        "ridge.fit(train_scaled,train_target)\n",
        "ridge_pre=ridge.predict(train_scaled)\n",
        "print(ridge.score(train_scaled,train_target))\n",
        "print('테스트 세트:',ridge.score(test_scaled,test_target))"
      ],
      "metadata": {
        "colab": {
          "base_uri": "https://localhost:8080/"
        },
        "id": "UIYsts8ALEAZ",
        "outputId": "24fb8207-b080-4581-d9b3-a99c54611947"
      },
      "execution_count": 11,
      "outputs": [
        {
          "output_type": "stream",
          "name": "stdout",
          "text": [
            "0.9896101671037343\n",
            "테스트 세트: 0.9790693977615397\n"
          ]
        }
      ]
    },
    {
      "cell_type": "code",
      "source": [
        "import matplotlib.pyplot as plt\n",
        "train_score=[]\n",
        "test_score=[]\n",
        "alpha_list=[0.001,0.01,0.1,1,10,100]\n",
        "for alpha in alpha_list:\n",
        "  ridge=Ridge(alpha=alpha)\n",
        "  ridge.fit(train_scaled,train_target)\n",
        "  train_score.append(ridge.score(train_scaled,train_target))\n",
        "  test_score.append(ridge.score(test_scaled,test_target))\n",
        "plt.plot(np.log10(alpha_list),train_score)\n",
        "plt.plot(np.log10(alpha_list),test_score)\n",
        "plt.xlabel('alpha')                               \n",
        "plt.ylabel('R^2') \n",
        "plt.show()\n",
        "                            "
      ],
      "metadata": {
        "colab": {
          "base_uri": "https://localhost:8080/",
          "height": 279
        },
        "id": "qHVa9Jw2V8VP",
        "outputId": "5ea1ca3d-7e85-456c-8264-979205b60917"
      },
      "execution_count": 12,
      "outputs": [
        {
          "output_type": "display_data",
          "data": {
            "text/plain": [
              "<Figure size 432x288 with 1 Axes>"
            ],
            "image/png": "[encoded data removed]"
          },
          "metadata": {
            "needs_background": "light"
          }
        }
      ]
    },
    {
      "cell_type": "code",
      "source": [
        "ridge=Ridge(alpha=0.1)\n",
        "ridge.fit(train_input,train_target)\n",
        "ridge_pre=ridge.predict(train_input)\n",
        "print(ridge.score(train_input,train_target))\n",
        "print('테스트 세트:',ridge.score(test_input,test_target))\n",
        "\n",
        "\n",
        "\n",
        "fig=plt.figure(figsize=(12,4))\n",
        "graph=fig.add_subplot(1,1,1)\n",
        "graph.plot(train_target,marker='o',color='blue')\n",
        "graph.plot(ridge_pre,marker='^',color='red')\n",
        "plt.xlabel('length')\n",
        "plt.ylabel('weight')\n",
        "plt.show()\n",
        "print(ridge.coef_,ridge.intercept_)\n",
        "# print(lasso.coef_,lasso.intercept_)"
      ],
      "metadata": {
        "colab": {
          "base_uri": "https://localhost:8080/",
          "height": 334
        },
        "id": "q6K-WF0vX5wj",
        "outputId": "f9e2c273-b2ff-401a-c619-7126f2ec29e4"
      },
      "execution_count": 20,
      "outputs": [
        {
          "output_type": "stream",
          "name": "stdout",
          "text": [
            "0.9559318325530065\n",
            "테스트 세트: 0.879425790709324\n"
          ]
        },
        {
          "output_type": "display_data",
          "data": {
            "text/plain": [
              "<Figure size 864x288 with 1 Axes>"
            ],
            "image/png": "[encoded data removed]"
          },
          "metadata": {
            "needs_background": "light"
          }
        },
        {
          "output_type": "stream",
          "name": "stdout",
          "text": [
            "[ 9.2935171  68.84007095 37.92185148] -599.9624308077007\n"
          ]
        }
      ]
    },
    {
      "cell_type": "code",
      "source": [
        "from sklearn.linear_model import Lasso\n",
        "lasso=Lasso(alpha=10)\n",
        "lasso.fit(train_scaled,train_target)\n",
        "print(lasso.score(train_scaled,train_target))\n",
        "print('테스트 세트:',lasso.score(test_scaled,test_target))\n",
        "print(np.sum(lasso.coef_==0))\n",
        "train_score=[]\n",
        "test_score=[]\n",
        "alpha_list=[0.001,0.01,0.1,1,10,100]\n",
        "for alpha in alpha_list:\n",
        "  lasso=Lasso(alpha=alpha,max_iter=10000)\n",
        "  lasso.fit(train_scaled,train_target)\n",
        "  train_score.append(lasso.score(train_scaled,train_target))\n",
        "  test_score.append(lasso.score(test_scaled,test_target))\n",
        "plt.plot(np.log10(alpha_list),train_score)\n",
        "plt.plot(np.log10(alpha_list),test_score)\n",
        "plt.xlabel('alpha')                               \n",
        "plt.ylabel('R^2') \n",
        "plt.show()\n"
      ],
      "metadata": {
        "colab": {
          "base_uri": "https://localhost:8080/",
          "height": 428
        },
        "id": "bDw1HVceaAk3",
        "outputId": "02969efd-5b56-4acf-e63a-e3a8d986115b"
      },
      "execution_count": 16,
      "outputs": [
        {
          "output_type": "stream",
          "name": "stdout",
          "text": [
            "0.9888067471131867\n",
            "테스트 세트: 0.9824470598706695\n",
            "40\n"
          ]
        },
        {
          "output_type": "stream",
          "name": "stderr",
          "text": [
            "/usr/local/lib/python3.7/dist-packages/sklearn/linear_model/_coordinate_descent.py:648: ConvergenceWarning: Objective did not converge. You might want to increase the number of iterations, check the scale of the features or consider increasing regularisation. Duality gap: 1.878e+04, tolerance: 5.183e+02\n",
            "  coef_, l1_reg, l2_reg, X, y, max_iter, tol, rng, random, positive\n",
            "/usr/local/lib/python3.7/dist-packages/sklearn/linear_model/_coordinate_descent.py:648: ConvergenceWarning: Objective did not converge. You might want to increase the number of iterations, check the scale of the features or consider increasing regularisation. Duality gap: 1.297e+04, tolerance: 5.183e+02\n",
            "  coef_, l1_reg, l2_reg, X, y, max_iter, tol, rng, random, positive\n"
          ]
        },
        {
          "output_type": "display_data",
          "data": {
            "text/plain": [
              "<Figure size 432x288 with 1 Axes>"
            ],
            "image/png": "[encoded data removed]"
          },
          "metadata": {
            "needs_background": "light"
          }
        }
      ]
    },
    {
      "cell_type": "code",
      "source": [
        "# a=input()\n",
        "# print(a[0],a[1])\n",
        "# print()\n",
        "poly1=PolynomialFeatures()\n",
        "poly1.fit(train_input)\n",
        "print(poly1.get_feature_names_out())"
      ],
      "metadata": {
        "colab": {
          "base_uri": "https://localhost:8080/"
        },
        "id": "v6bI2VMglBqt",
        "outputId": "68db6a1f-8f1e-4df7-b13f-8ee175ee7fed"
      },
      "execution_count": 17,
      "outputs": [
        {
          "output_type": "stream",
          "name": "stdout",
          "text": [
            "['1' 'x0' 'x1' 'x2' 'x0^2' 'x0 x1' 'x0 x2' 'x1^2' 'x1 x2' 'x2^2']\n"
          ]
        }
      ]
    }
  ]
}