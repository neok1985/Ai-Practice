{
  "nbformat": 4,
  "nbformat_minor": 0,
  "metadata": {
    "colab": {
      "name": "8장 다층 퍼셉트론.ipynb",
      "provenance": []
    },
    "kernelspec": {
      "name": "python3",
      "display_name": "Python 3"
    },
    "language_info": {
      "name": "python"
    }
  },
  "cells": [
    {
      "cell_type": "code",
      "execution_count": 1,
      "metadata": {
        "id": "Jvfoxqfc4AK_"
      },
      "outputs": [],
      "source": [
        "import numpy as np\n",
        "w11=np.array([-2,-2])\n",
        "w12=np.array([2,2])\n",
        "w2=np.array([1,1])\n",
        "b1=3\n",
        "b2=-1\n",
        "b3=-1\n"
      ]
    },
    {
      "cell_type": "code",
      "source": [
        "def MLP(x,w,b):\n",
        "  y=np.sum(w*x)+b\n",
        "  if y<=0:\n",
        "    return 0\n",
        "  else:\n",
        "    return 1\n",
        "\n",
        "def NAND(x1,x2):\n",
        "  return MLP(np.array([x1,x2]),w11,b1)\n",
        "\n",
        "def OR(x1,x2):\n",
        "  return MLP(np.array([x1,x2]),w12,b2)\n",
        "\n",
        "def AND(x1,x2):\n",
        "  return MLP(np.array([x1,x2]),w2,b3)\n",
        "\n",
        "def XOR(x1,x2):\n",
        "  return AND(NAND(x1,x2),OR(x1,x2))\n",
        "\n"
      ],
      "metadata": {
        "id": "Ptz4kZWUHA7s"
      },
      "execution_count": 4,
      "outputs": []
    },
    {
      "cell_type": "code",
      "source": [
        "for x in [(0,0),(1,0),(0,1),(1,1)]:\n",
        "  y=XOR(x[0],x[1])\n",
        "  print('입력 값:'+str(x)+'출력 값:'+str(y))"
      ],
      "metadata": {
        "colab": {
          "base_uri": "https://localhost:8080/"
        },
        "id": "2FhnrhfTIJ_v",
        "outputId": "fb430687-e512-4839-8a3d-21edb4994ccf"
      },
      "execution_count": 5,
      "outputs": [
        {
          "output_type": "stream",
          "name": "stdout",
          "text": [
            "입력 값:(0, 0)출력 값:0\n",
            "입력 값:(1, 0)출력 값:1\n",
            "입력 값:(0, 1)출력 값:1\n",
            "입력 값:(1, 1)출력 값:0\n"
          ]
        }
      ]
    }
  ]
}